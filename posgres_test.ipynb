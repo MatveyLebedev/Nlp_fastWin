{
 "cells": [
  {
   "cell_type": "code",
   "execution_count": 4,
   "metadata": {},
   "outputs": [
    {
     "name": "stdout",
     "output_type": "stream",
     "text": [
      "Requirement already satisfied: psycopg2-binary in /Users/lebedevmatvey/miniforge3/envs/p38main/lib/python3.10/site-packages (2.9.5)\n"
     ]
    }
   ],
   "source": [
    "!pip install psycopg2-binary"
   ]
  },
  {
   "cell_type": "code",
   "execution_count": 137,
   "metadata": {},
   "outputs": [],
   "source": [
    "import psycopg2\n",
    "import pandas as pd\n",
    "import pdb\n",
    "import time\n",
    "from CategoryPredictor import CategoryPredictor"
   ]
  },
  {
   "cell_type": "code",
   "execution_count": 119,
   "metadata": {},
   "outputs": [],
   "source": [
    "import psycopg2\n",
    "import pandas as pd\n",
    "\n",
    "conn = psycopg2.connect(dbname='ideas', user='ideas', \n",
    "                        password='ideas2022', host='collabro.ru')\n",
    "cursor = conn.cursor()"
   ]
  },
  {
   "cell_type": "markdown",
   "metadata": {},
   "source": [
    "subsidies\n",
    "\n",
    "subsidy_project"
   ]
  },
  {
   "cell_type": "code",
   "execution_count": null,
   "metadata": {},
   "outputs": [],
   "source": [
    "f'''SELECT {self.categorys}.title AS subsidy, projects.title, {self.categorys}.id,\n",
    "                    {self.join_table}.accepted FROM {self.join_table}\n",
    "                    LEFT JOIN subsidies ON ({self.join_table}.subsidies_id = {self.categorys}.id)\n",
    "                    LEFT JOIN projects ON ({self.join_table}.project_id = projects.id);'''"
   ]
  },
  {
   "cell_type": "code",
   "execution_count": 192,
   "metadata": {},
   "outputs": [
    {
     "name": "stderr",
     "output_type": "stream",
     "text": [
      "/var/folders/64/nbt92b3d4_n2r41g3gx6lm340000gn/T/ipykernel_33082/3455301127.py:14: UserWarning: pandas only supports SQLAlchemy connectable (engine/connection) or database string URI or sqlite3 DBAPI2 connection. Other DBAPI2 objects are not tested. Please consider using SQLAlchemy.\n",
      "  df = pd.read_sql(q, self.conn)\n",
      "/var/folders/64/nbt92b3d4_n2r41g3gx6lm340000gn/T/ipykernel_33082/3455301127.py:19: UserWarning: pandas only supports SQLAlchemy connectable (engine/connection) or database string URI or sqlite3 DBAPI2 connection. Other DBAPI2 objects are not tested. Please consider using SQLAlchemy.\n",
      "  df_test = pd.read_sql('SELECT * FROM projects', self.conn)\n",
      "/Users/lebedevmatvey/Documents/Nlp_fastWin/CategoryPredictor.py:129: SettingWithCopyWarning: \n",
      "A value is trying to be set on a copy of a slice from a DataFrame.\n",
      "Try using .loc[row_indexer,col_indexer] = value instead\n",
      "\n",
      "See the caveats in the documentation: https://pandas.pydata.org/pandas-docs/stable/user_guide/indexing.html#returning-a-view-versus-a-copy\n",
      "  self.df['words'] = self.df[self.label].apply(self.text_to_words)\n",
      "/var/folders/64/nbt92b3d4_n2r41g3gx6lm340000gn/T/ipykernel_33082/3455301127.py:24: UserWarning: pandas only supports SQLAlchemy connectable (engine/connection) or database string URI or sqlite3 DBAPI2 connection. Other DBAPI2 objects are not tested. Please consider using SQLAlchemy.\n",
      "  df_sub = pd.read_sql(q, self.conn)\n",
      "/var/folders/64/nbt92b3d4_n2r41g3gx6lm340000gn/T/ipykernel_33082/3455301127.py:27: UserWarning: pandas only supports SQLAlchemy connectable (engine/connection) or database string URI or sqlite3 DBAPI2 connection. Other DBAPI2 objects are not tested. Please consider using SQLAlchemy.\n",
      "  dsubsidy_project = pd.read_sql(f'SELECT * FROM {self.join_table}', self.conn)\n",
      "/var/folders/64/nbt92b3d4_n2r41g3gx6lm340000gn/T/ipykernel_33082/3455301127.py:24: UserWarning: pandas only supports SQLAlchemy connectable (engine/connection) or database string URI or sqlite3 DBAPI2 connection. Other DBAPI2 objects are not tested. Please consider using SQLAlchemy.\n",
      "  df_sub = pd.read_sql(q, self.conn)\n"
     ]
    },
    {
     "name": "stdout",
     "output_type": "stream",
     "text": [
      "8.743723436350955 15\n",
      "2.066072061680601 15\n",
      "0.0 15\n"
     ]
    },
    {
     "name": "stderr",
     "output_type": "stream",
     "text": [
      "/var/folders/64/nbt92b3d4_n2r41g3gx6lm340000gn/T/ipykernel_33082/3455301127.py:27: UserWarning: pandas only supports SQLAlchemy connectable (engine/connection) or database string URI or sqlite3 DBAPI2 connection. Other DBAPI2 objects are not tested. Please consider using SQLAlchemy.\n",
      "  dsubsidy_project = pd.read_sql(f'SELECT * FROM {self.join_table}', self.conn)\n",
      "/var/folders/64/nbt92b3d4_n2r41g3gx6lm340000gn/T/ipykernel_33082/3455301127.py:24: UserWarning: pandas only supports SQLAlchemy connectable (engine/connection) or database string URI or sqlite3 DBAPI2 connection. Other DBAPI2 objects are not tested. Please consider using SQLAlchemy.\n",
      "  df_sub = pd.read_sql(q, self.conn)\n"
     ]
    },
    {
     "name": "stdout",
     "output_type": "stream",
     "text": [
      "45.15295172031554 15\n",
      "0.30631004518348903 15\n",
      "0.062106374599617285 15\n"
     ]
    },
    {
     "name": "stderr",
     "output_type": "stream",
     "text": [
      "/var/folders/64/nbt92b3d4_n2r41g3gx6lm340000gn/T/ipykernel_33082/3455301127.py:27: UserWarning: pandas only supports SQLAlchemy connectable (engine/connection) or database string URI or sqlite3 DBAPI2 connection. Other DBAPI2 objects are not tested. Please consider using SQLAlchemy.\n",
      "  dsubsidy_project = pd.read_sql(f'SELECT * FROM {self.join_table}', self.conn)\n"
     ]
    },
    {
     "name": "stdout",
     "output_type": "stream",
     "text": [
      "4.200796450364289 15\n",
      "0.0 15\n",
      "0.0 15\n"
     ]
    },
    {
     "name": "stderr",
     "output_type": "stream",
     "text": [
      "/var/folders/64/nbt92b3d4_n2r41g3gx6lm340000gn/T/ipykernel_33082/3455301127.py:24: UserWarning: pandas only supports SQLAlchemy connectable (engine/connection) or database string URI or sqlite3 DBAPI2 connection. Other DBAPI2 objects are not tested. Please consider using SQLAlchemy.\n",
      "  df_sub = pd.read_sql(q, self.conn)\n",
      "/var/folders/64/nbt92b3d4_n2r41g3gx6lm340000gn/T/ipykernel_33082/3455301127.py:27: UserWarning: pandas only supports SQLAlchemy connectable (engine/connection) or database string URI or sqlite3 DBAPI2 connection. Other DBAPI2 objects are not tested. Please consider using SQLAlchemy.\n",
      "  dsubsidy_project = pd.read_sql(f'SELECT * FROM {self.join_table}', self.conn)\n"
     ]
    },
    {
     "name": "stdout",
     "output_type": "stream",
     "text": [
      "21.38593835685541 15\n",
      "0.5652270793541772 15\n",
      "0.035489356914067016 15\n"
     ]
    },
    {
     "name": "stderr",
     "output_type": "stream",
     "text": [
      "/var/folders/64/nbt92b3d4_n2r41g3gx6lm340000gn/T/ipykernel_33082/3455301127.py:24: UserWarning: pandas only supports SQLAlchemy connectable (engine/connection) or database string URI or sqlite3 DBAPI2 connection. Other DBAPI2 objects are not tested. Please consider using SQLAlchemy.\n",
      "  df_sub = pd.read_sql(q, self.conn)\n",
      "/var/folders/64/nbt92b3d4_n2r41g3gx6lm340000gn/T/ipykernel_33082/3455301127.py:27: UserWarning: pandas only supports SQLAlchemy connectable (engine/connection) or database string URI or sqlite3 DBAPI2 connection. Other DBAPI2 objects are not tested. Please consider using SQLAlchemy.\n",
      "  dsubsidy_project = pd.read_sql(f'SELECT * FROM {self.join_table}', self.conn)\n"
     ]
    },
    {
     "name": "stdout",
     "output_type": "stream",
     "text": [
      "23.82323871512987 15\n",
      "0.19890262674252532 15\n",
      "0.0947307954224878 15\n",
      "SELECT tag.tag_name AS subsidy, projects.title, tag.id,\n",
      "                    tag_project.accepted FROM tag_project\n",
      "                    LEFT JOIN tag ON (tag_project.tag_id = tag.id)\n",
      "                    LEFT JOIN projects ON (tag_project.project_id = projects.id);\n"
     ]
    },
    {
     "name": "stderr",
     "output_type": "stream",
     "text": [
      "/var/folders/64/nbt92b3d4_n2r41g3gx6lm340000gn/T/ipykernel_33082/3455301127.py:14: UserWarning: pandas only supports SQLAlchemy connectable (engine/connection) or database string URI or sqlite3 DBAPI2 connection. Other DBAPI2 objects are not tested. Please consider using SQLAlchemy.\n",
      "  df = pd.read_sql(q, self.conn)\n",
      "/var/folders/64/nbt92b3d4_n2r41g3gx6lm340000gn/T/ipykernel_33082/3455301127.py:19: UserWarning: pandas only supports SQLAlchemy connectable (engine/connection) or database string URI or sqlite3 DBAPI2 connection. Other DBAPI2 objects are not tested. Please consider using SQLAlchemy.\n",
      "  df_test = pd.read_sql('SELECT * FROM projects', self.conn)\n",
      "/Users/lebedevmatvey/Documents/Nlp_fastWin/CategoryPredictor.py:129: SettingWithCopyWarning: \n",
      "A value is trying to be set on a copy of a slice from a DataFrame.\n",
      "Try using .loc[row_indexer,col_indexer] = value instead\n",
      "\n",
      "See the caveats in the documentation: https://pandas.pydata.org/pandas-docs/stable/user_guide/indexing.html#returning-a-view-versus-a-copy\n",
      "  self.df['words'] = self.df[self.label].apply(self.text_to_words)\n",
      "/var/folders/64/nbt92b3d4_n2r41g3gx6lm340000gn/T/ipykernel_33082/3455301127.py:24: UserWarning: pandas only supports SQLAlchemy connectable (engine/connection) or database string URI or sqlite3 DBAPI2 connection. Other DBAPI2 objects are not tested. Please consider using SQLAlchemy.\n",
      "  df_sub = pd.read_sql(q, self.conn)\n",
      "/var/folders/64/nbt92b3d4_n2r41g3gx6lm340000gn/T/ipykernel_33082/3455301127.py:27: UserWarning: pandas only supports SQLAlchemy connectable (engine/connection) or database string URI or sqlite3 DBAPI2 connection. Other DBAPI2 objects are not tested. Please consider using SQLAlchemy.\n",
      "  dsubsidy_project = pd.read_sql(f'SELECT * FROM {self.join_table}', self.conn)\n",
      "/var/folders/64/nbt92b3d4_n2r41g3gx6lm340000gn/T/ipykernel_33082/3455301127.py:24: UserWarning: pandas only supports SQLAlchemy connectable (engine/connection) or database string URI or sqlite3 DBAPI2 connection. Other DBAPI2 objects are not tested. Please consider using SQLAlchemy.\n",
      "  df_sub = pd.read_sql(q, self.conn)\n"
     ]
    },
    {
     "name": "stdout",
     "output_type": "stream",
     "text": [
      "10.918853332200625 15\n",
      "0.0 15\n"
     ]
    },
    {
     "name": "stderr",
     "output_type": "stream",
     "text": [
      "/var/folders/64/nbt92b3d4_n2r41g3gx6lm340000gn/T/ipykernel_33082/3455301127.py:27: UserWarning: pandas only supports SQLAlchemy connectable (engine/connection) or database string URI or sqlite3 DBAPI2 connection. Other DBAPI2 objects are not tested. Please consider using SQLAlchemy.\n",
      "  dsubsidy_project = pd.read_sql(f'SELECT * FROM {self.join_table}', self.conn)\n",
      "/var/folders/64/nbt92b3d4_n2r41g3gx6lm340000gn/T/ipykernel_33082/3455301127.py:24: UserWarning: pandas only supports SQLAlchemy connectable (engine/connection) or database string URI or sqlite3 DBAPI2 connection. Other DBAPI2 objects are not tested. Please consider using SQLAlchemy.\n",
      "  df_sub = pd.read_sql(q, self.conn)\n",
      "/var/folders/64/nbt92b3d4_n2r41g3gx6lm340000gn/T/ipykernel_33082/3455301127.py:27: UserWarning: pandas only supports SQLAlchemy connectable (engine/connection) or database string URI or sqlite3 DBAPI2 connection. Other DBAPI2 objects are not tested. Please consider using SQLAlchemy.\n",
      "  dsubsidy_project = pd.read_sql(f'SELECT * FROM {self.join_table}', self.conn)\n"
     ]
    },
    {
     "name": "stdout",
     "output_type": "stream",
     "text": [
      "45.82386533594941 15\n",
      "0.0 15\n",
      "0.0 15\n",
      "0.0 15\n",
      "4.981049792006358 15\n"
     ]
    },
    {
     "name": "stderr",
     "output_type": "stream",
     "text": [
      "/var/folders/64/nbt92b3d4_n2r41g3gx6lm340000gn/T/ipykernel_33082/3455301127.py:24: UserWarning: pandas only supports SQLAlchemy connectable (engine/connection) or database string URI or sqlite3 DBAPI2 connection. Other DBAPI2 objects are not tested. Please consider using SQLAlchemy.\n",
      "  df_sub = pd.read_sql(q, self.conn)\n",
      "/var/folders/64/nbt92b3d4_n2r41g3gx6lm340000gn/T/ipykernel_33082/3455301127.py:27: UserWarning: pandas only supports SQLAlchemy connectable (engine/connection) or database string URI or sqlite3 DBAPI2 connection. Other DBAPI2 objects are not tested. Please consider using SQLAlchemy.\n",
      "  dsubsidy_project = pd.read_sql(f'SELECT * FROM {self.join_table}', self.conn)\n"
     ]
    },
    {
     "name": "stdout",
     "output_type": "stream",
     "text": [
      "2.0485000891963243 15\n",
      "1.5836595876084634 15\n"
     ]
    },
    {
     "name": "stderr",
     "output_type": "stream",
     "text": [
      "/var/folders/64/nbt92b3d4_n2r41g3gx6lm340000gn/T/ipykernel_33082/3455301127.py:24: UserWarning: pandas only supports SQLAlchemy connectable (engine/connection) or database string URI or sqlite3 DBAPI2 connection. Other DBAPI2 objects are not tested. Please consider using SQLAlchemy.\n",
      "  df_sub = pd.read_sql(q, self.conn)\n",
      "/var/folders/64/nbt92b3d4_n2r41g3gx6lm340000gn/T/ipykernel_33082/3455301127.py:27: UserWarning: pandas only supports SQLAlchemy connectable (engine/connection) or database string URI or sqlite3 DBAPI2 connection. Other DBAPI2 objects are not tested. Please consider using SQLAlchemy.\n",
      "  dsubsidy_project = pd.read_sql(f'SELECT * FROM {self.join_table}', self.conn)\n"
     ]
    },
    {
     "name": "stdout",
     "output_type": "stream",
     "text": [
      "0.3353580036515372 15\n"
     ]
    },
    {
     "name": "stderr",
     "output_type": "stream",
     "text": [
      "/var/folders/64/nbt92b3d4_n2r41g3gx6lm340000gn/T/ipykernel_33082/3455301127.py:14: UserWarning: pandas only supports SQLAlchemy connectable (engine/connection) or database string URI or sqlite3 DBAPI2 connection. Other DBAPI2 objects are not tested. Please consider using SQLAlchemy.\n",
      "  df = pd.read_sql(q, self.conn)\n",
      "/var/folders/64/nbt92b3d4_n2r41g3gx6lm340000gn/T/ipykernel_33082/3455301127.py:19: UserWarning: pandas only supports SQLAlchemy connectable (engine/connection) or database string URI or sqlite3 DBAPI2 connection. Other DBAPI2 objects are not tested. Please consider using SQLAlchemy.\n",
      "  df_test = pd.read_sql('SELECT * FROM projects', self.conn)\n",
      "/Users/lebedevmatvey/Documents/Nlp_fastWin/CategoryPredictor.py:129: SettingWithCopyWarning: \n",
      "A value is trying to be set on a copy of a slice from a DataFrame.\n",
      "Try using .loc[row_indexer,col_indexer] = value instead\n",
      "\n",
      "See the caveats in the documentation: https://pandas.pydata.org/pandas-docs/stable/user_guide/indexing.html#returning-a-view-versus-a-copy\n",
      "  self.df['words'] = self.df[self.label].apply(self.text_to_words)\n",
      "/var/folders/64/nbt92b3d4_n2r41g3gx6lm340000gn/T/ipykernel_33082/3455301127.py:24: UserWarning: pandas only supports SQLAlchemy connectable (engine/connection) or database string URI or sqlite3 DBAPI2 connection. Other DBAPI2 objects are not tested. Please consider using SQLAlchemy.\n",
      "  df_sub = pd.read_sql(q, self.conn)\n",
      "/var/folders/64/nbt92b3d4_n2r41g3gx6lm340000gn/T/ipykernel_33082/3455301127.py:27: UserWarning: pandas only supports SQLAlchemy connectable (engine/connection) or database string URI or sqlite3 DBAPI2 connection. Other DBAPI2 objects are not tested. Please consider using SQLAlchemy.\n",
      "  dsubsidy_project = pd.read_sql(f'SELECT * FROM {self.join_table}', self.conn)\n",
      "/var/folders/64/nbt92b3d4_n2r41g3gx6lm340000gn/T/ipykernel_33082/3455301127.py:24: UserWarning: pandas only supports SQLAlchemy connectable (engine/connection) or database string URI or sqlite3 DBAPI2 connection. Other DBAPI2 objects are not tested. Please consider using SQLAlchemy.\n",
      "  df_sub = pd.read_sql(q, self.conn)\n"
     ]
    },
    {
     "name": "stdout",
     "output_type": "stream",
     "text": [
      "8.743723436350955 15\n",
      "2.066072061680601 15\n",
      "0.0 15\n"
     ]
    },
    {
     "name": "stderr",
     "output_type": "stream",
     "text": [
      "/var/folders/64/nbt92b3d4_n2r41g3gx6lm340000gn/T/ipykernel_33082/3455301127.py:27: UserWarning: pandas only supports SQLAlchemy connectable (engine/connection) or database string URI or sqlite3 DBAPI2 connection. Other DBAPI2 objects are not tested. Please consider using SQLAlchemy.\n",
      "  dsubsidy_project = pd.read_sql(f'SELECT * FROM {self.join_table}', self.conn)\n",
      "/var/folders/64/nbt92b3d4_n2r41g3gx6lm340000gn/T/ipykernel_33082/3455301127.py:24: UserWarning: pandas only supports SQLAlchemy connectable (engine/connection) or database string URI or sqlite3 DBAPI2 connection. Other DBAPI2 objects are not tested. Please consider using SQLAlchemy.\n",
      "  df_sub = pd.read_sql(q, self.conn)\n",
      "/var/folders/64/nbt92b3d4_n2r41g3gx6lm340000gn/T/ipykernel_33082/3455301127.py:27: UserWarning: pandas only supports SQLAlchemy connectable (engine/connection) or database string URI or sqlite3 DBAPI2 connection. Other DBAPI2 objects are not tested. Please consider using SQLAlchemy.\n",
      "  dsubsidy_project = pd.read_sql(f'SELECT * FROM {self.join_table}', self.conn)\n"
     ]
    },
    {
     "name": "stdout",
     "output_type": "stream",
     "text": [
      "45.15295172031554 15\n",
      "0.30631004518348903 15\n",
      "0.062106374599617285 15\n",
      "4.200796450364289 15\n",
      "0.0 15\n",
      "0.0 15\n",
      "21.38593835685541 15\n",
      "0.5652270793541772 15\n",
      "0.035489356914067016 15\n"
     ]
    },
    {
     "name": "stderr",
     "output_type": "stream",
     "text": [
      "/var/folders/64/nbt92b3d4_n2r41g3gx6lm340000gn/T/ipykernel_33082/3455301127.py:24: UserWarning: pandas only supports SQLAlchemy connectable (engine/connection) or database string URI or sqlite3 DBAPI2 connection. Other DBAPI2 objects are not tested. Please consider using SQLAlchemy.\n",
      "  df_sub = pd.read_sql(q, self.conn)\n",
      "/var/folders/64/nbt92b3d4_n2r41g3gx6lm340000gn/T/ipykernel_33082/3455301127.py:27: UserWarning: pandas only supports SQLAlchemy connectable (engine/connection) or database string URI or sqlite3 DBAPI2 connection. Other DBAPI2 objects are not tested. Please consider using SQLAlchemy.\n",
      "  dsubsidy_project = pd.read_sql(f'SELECT * FROM {self.join_table}', self.conn)\n",
      "/var/folders/64/nbt92b3d4_n2r41g3gx6lm340000gn/T/ipykernel_33082/3455301127.py:24: UserWarning: pandas only supports SQLAlchemy connectable (engine/connection) or database string URI or sqlite3 DBAPI2 connection. Other DBAPI2 objects are not tested. Please consider using SQLAlchemy.\n",
      "  df_sub = pd.read_sql(q, self.conn)\n",
      "/var/folders/64/nbt92b3d4_n2r41g3gx6lm340000gn/T/ipykernel_33082/3455301127.py:27: UserWarning: pandas only supports SQLAlchemy connectable (engine/connection) or database string URI or sqlite3 DBAPI2 connection. Other DBAPI2 objects are not tested. Please consider using SQLAlchemy.\n",
      "  dsubsidy_project = pd.read_sql(f'SELECT * FROM {self.join_table}', self.conn)\n"
     ]
    },
    {
     "name": "stdout",
     "output_type": "stream",
     "text": [
      "23.82323871512987 15\n",
      "0.19890262674252532 15\n",
      "0.0947307954224878 15\n",
      "SELECT tag.tag_name AS subsidy, projects.title, tag.id,\n",
      "                    tag_project.accepted FROM tag_project\n",
      "                    LEFT JOIN tag ON (tag_project.tag_id = tag.id)\n",
      "                    LEFT JOIN projects ON (tag_project.project_id = projects.id);\n"
     ]
    },
    {
     "name": "stderr",
     "output_type": "stream",
     "text": [
      "/var/folders/64/nbt92b3d4_n2r41g3gx6lm340000gn/T/ipykernel_33082/3455301127.py:14: UserWarning: pandas only supports SQLAlchemy connectable (engine/connection) or database string URI or sqlite3 DBAPI2 connection. Other DBAPI2 objects are not tested. Please consider using SQLAlchemy.\n",
      "  df = pd.read_sql(q, self.conn)\n",
      "/var/folders/64/nbt92b3d4_n2r41g3gx6lm340000gn/T/ipykernel_33082/3455301127.py:19: UserWarning: pandas only supports SQLAlchemy connectable (engine/connection) or database string URI or sqlite3 DBAPI2 connection. Other DBAPI2 objects are not tested. Please consider using SQLAlchemy.\n",
      "  df_test = pd.read_sql('SELECT * FROM projects', self.conn)\n",
      "/Users/lebedevmatvey/Documents/Nlp_fastWin/CategoryPredictor.py:129: SettingWithCopyWarning: \n",
      "A value is trying to be set on a copy of a slice from a DataFrame.\n",
      "Try using .loc[row_indexer,col_indexer] = value instead\n",
      "\n",
      "See the caveats in the documentation: https://pandas.pydata.org/pandas-docs/stable/user_guide/indexing.html#returning-a-view-versus-a-copy\n",
      "  self.df['words'] = self.df[self.label].apply(self.text_to_words)\n",
      "/var/folders/64/nbt92b3d4_n2r41g3gx6lm340000gn/T/ipykernel_33082/3455301127.py:24: UserWarning: pandas only supports SQLAlchemy connectable (engine/connection) or database string URI or sqlite3 DBAPI2 connection. Other DBAPI2 objects are not tested. Please consider using SQLAlchemy.\n",
      "  df_sub = pd.read_sql(q, self.conn)\n",
      "/var/folders/64/nbt92b3d4_n2r41g3gx6lm340000gn/T/ipykernel_33082/3455301127.py:27: UserWarning: pandas only supports SQLAlchemy connectable (engine/connection) or database string URI or sqlite3 DBAPI2 connection. Other DBAPI2 objects are not tested. Please consider using SQLAlchemy.\n",
      "  dsubsidy_project = pd.read_sql(f'SELECT * FROM {self.join_table}', self.conn)\n"
     ]
    },
    {
     "name": "stdout",
     "output_type": "stream",
     "text": [
      "10.918853332200625 15\n",
      "0.0 15\n"
     ]
    },
    {
     "name": "stderr",
     "output_type": "stream",
     "text": [
      "/var/folders/64/nbt92b3d4_n2r41g3gx6lm340000gn/T/ipykernel_33082/3455301127.py:24: UserWarning: pandas only supports SQLAlchemy connectable (engine/connection) or database string URI or sqlite3 DBAPI2 connection. Other DBAPI2 objects are not tested. Please consider using SQLAlchemy.\n",
      "  df_sub = pd.read_sql(q, self.conn)\n",
      "/var/folders/64/nbt92b3d4_n2r41g3gx6lm340000gn/T/ipykernel_33082/3455301127.py:27: UserWarning: pandas only supports SQLAlchemy connectable (engine/connection) or database string URI or sqlite3 DBAPI2 connection. Other DBAPI2 objects are not tested. Please consider using SQLAlchemy.\n",
      "  dsubsidy_project = pd.read_sql(f'SELECT * FROM {self.join_table}', self.conn)\n"
     ]
    },
    {
     "name": "stdout",
     "output_type": "stream",
     "text": [
      "45.82386533594941 15\n",
      "0.0 15\n"
     ]
    },
    {
     "name": "stderr",
     "output_type": "stream",
     "text": [
      "/var/folders/64/nbt92b3d4_n2r41g3gx6lm340000gn/T/ipykernel_33082/3455301127.py:24: UserWarning: pandas only supports SQLAlchemy connectable (engine/connection) or database string URI or sqlite3 DBAPI2 connection. Other DBAPI2 objects are not tested. Please consider using SQLAlchemy.\n",
      "  df_sub = pd.read_sql(q, self.conn)\n",
      "/var/folders/64/nbt92b3d4_n2r41g3gx6lm340000gn/T/ipykernel_33082/3455301127.py:27: UserWarning: pandas only supports SQLAlchemy connectable (engine/connection) or database string URI or sqlite3 DBAPI2 connection. Other DBAPI2 objects are not tested. Please consider using SQLAlchemy.\n",
      "  dsubsidy_project = pd.read_sql(f'SELECT * FROM {self.join_table}', self.conn)\n"
     ]
    },
    {
     "name": "stdout",
     "output_type": "stream",
     "text": [
      "0.0 15\n",
      "0.0 15\n",
      "4.981049792006358 15\n"
     ]
    },
    {
     "name": "stderr",
     "output_type": "stream",
     "text": [
      "/var/folders/64/nbt92b3d4_n2r41g3gx6lm340000gn/T/ipykernel_33082/3455301127.py:24: UserWarning: pandas only supports SQLAlchemy connectable (engine/connection) or database string URI or sqlite3 DBAPI2 connection. Other DBAPI2 objects are not tested. Please consider using SQLAlchemy.\n",
      "  df_sub = pd.read_sql(q, self.conn)\n",
      "/var/folders/64/nbt92b3d4_n2r41g3gx6lm340000gn/T/ipykernel_33082/3455301127.py:27: UserWarning: pandas only supports SQLAlchemy connectable (engine/connection) or database string URI or sqlite3 DBAPI2 connection. Other DBAPI2 objects are not tested. Please consider using SQLAlchemy.\n",
      "  dsubsidy_project = pd.read_sql(f'SELECT * FROM {self.join_table}', self.conn)\n"
     ]
    },
    {
     "name": "stdout",
     "output_type": "stream",
     "text": [
      "2.0485000891963243 15\n",
      "1.5836595876084634 15\n"
     ]
    },
    {
     "name": "stderr",
     "output_type": "stream",
     "text": [
      "/var/folders/64/nbt92b3d4_n2r41g3gx6lm340000gn/T/ipykernel_33082/3455301127.py:24: UserWarning: pandas only supports SQLAlchemy connectable (engine/connection) or database string URI or sqlite3 DBAPI2 connection. Other DBAPI2 objects are not tested. Please consider using SQLAlchemy.\n",
      "  df_sub = pd.read_sql(q, self.conn)\n",
      "/var/folders/64/nbt92b3d4_n2r41g3gx6lm340000gn/T/ipykernel_33082/3455301127.py:27: UserWarning: pandas only supports SQLAlchemy connectable (engine/connection) or database string URI or sqlite3 DBAPI2 connection. Other DBAPI2 objects are not tested. Please consider using SQLAlchemy.\n",
      "  dsubsidy_project = pd.read_sql(f'SELECT * FROM {self.join_table}', self.conn)\n"
     ]
    },
    {
     "name": "stdout",
     "output_type": "stream",
     "text": [
      "0.3353580036515372 15\n"
     ]
    },
    {
     "name": "stderr",
     "output_type": "stream",
     "text": [
      "/var/folders/64/nbt92b3d4_n2r41g3gx6lm340000gn/T/ipykernel_33082/3455301127.py:14: UserWarning: pandas only supports SQLAlchemy connectable (engine/connection) or database string URI or sqlite3 DBAPI2 connection. Other DBAPI2 objects are not tested. Please consider using SQLAlchemy.\n",
      "  df = pd.read_sql(q, self.conn)\n",
      "/var/folders/64/nbt92b3d4_n2r41g3gx6lm340000gn/T/ipykernel_33082/3455301127.py:19: UserWarning: pandas only supports SQLAlchemy connectable (engine/connection) or database string URI or sqlite3 DBAPI2 connection. Other DBAPI2 objects are not tested. Please consider using SQLAlchemy.\n",
      "  df_test = pd.read_sql('SELECT * FROM projects', self.conn)\n",
      "/Users/lebedevmatvey/Documents/Nlp_fastWin/CategoryPredictor.py:129: SettingWithCopyWarning: \n",
      "A value is trying to be set on a copy of a slice from a DataFrame.\n",
      "Try using .loc[row_indexer,col_indexer] = value instead\n",
      "\n",
      "See the caveats in the documentation: https://pandas.pydata.org/pandas-docs/stable/user_guide/indexing.html#returning-a-view-versus-a-copy\n",
      "  self.df['words'] = self.df[self.label].apply(self.text_to_words)\n",
      "/var/folders/64/nbt92b3d4_n2r41g3gx6lm340000gn/T/ipykernel_33082/3455301127.py:24: UserWarning: pandas only supports SQLAlchemy connectable (engine/connection) or database string URI or sqlite3 DBAPI2 connection. Other DBAPI2 objects are not tested. Please consider using SQLAlchemy.\n",
      "  df_sub = pd.read_sql(q, self.conn)\n",
      "/var/folders/64/nbt92b3d4_n2r41g3gx6lm340000gn/T/ipykernel_33082/3455301127.py:27: UserWarning: pandas only supports SQLAlchemy connectable (engine/connection) or database string URI or sqlite3 DBAPI2 connection. Other DBAPI2 objects are not tested. Please consider using SQLAlchemy.\n",
      "  dsubsidy_project = pd.read_sql(f'SELECT * FROM {self.join_table}', self.conn)\n",
      "/var/folders/64/nbt92b3d4_n2r41g3gx6lm340000gn/T/ipykernel_33082/3455301127.py:24: UserWarning: pandas only supports SQLAlchemy connectable (engine/connection) or database string URI or sqlite3 DBAPI2 connection. Other DBAPI2 objects are not tested. Please consider using SQLAlchemy.\n",
      "  df_sub = pd.read_sql(q, self.conn)\n"
     ]
    },
    {
     "name": "stdout",
     "output_type": "stream",
     "text": [
      "8.743723436350955 15\n",
      "2.066072061680601 15\n",
      "0.0 15\n",
      "45.15295172031554 15\n"
     ]
    },
    {
     "name": "stderr",
     "output_type": "stream",
     "text": [
      "/var/folders/64/nbt92b3d4_n2r41g3gx6lm340000gn/T/ipykernel_33082/3455301127.py:27: UserWarning: pandas only supports SQLAlchemy connectable (engine/connection) or database string URI or sqlite3 DBAPI2 connection. Other DBAPI2 objects are not tested. Please consider using SQLAlchemy.\n",
      "  dsubsidy_project = pd.read_sql(f'SELECT * FROM {self.join_table}', self.conn)\n"
     ]
    },
    {
     "ename": "OperationalError",
     "evalue": "could not receive data from server: Operation timed out\nSSL SYSCALL error: Operation timed out\n",
     "output_type": "error",
     "traceback": [
      "\u001b[0;31m---------------------------------------------------------------------------\u001b[0m",
      "\u001b[0;31mOperationalError\u001b[0m                          Traceback (most recent call last)",
      "\u001b[1;32m/Users/lebedevmatvey/Documents/Nlp_fastWin/posgres_test.ipynb Cell 6\u001b[0m in \u001b[0;36m<cell line: 73>\u001b[0;34m()\u001b[0m\n\u001b[1;32m     <a href='vscode-notebook-cell:/Users/lebedevmatvey/Documents/Nlp_fastWin/posgres_test.ipynb#X11sZmlsZQ%3D%3D?line=69'>70</a>\u001b[0m             time\u001b[39m.\u001b[39msleep(\u001b[39m10\u001b[39m)\n\u001b[1;32m     <a href='vscode-notebook-cell:/Users/lebedevmatvey/Documents/Nlp_fastWin/posgres_test.ipynb#X11sZmlsZQ%3D%3D?line=71'>72</a>\u001b[0m Controller \u001b[39m=\u001b[39m PredictController()\n\u001b[0;32m---> <a href='vscode-notebook-cell:/Users/lebedevmatvey/Documents/Nlp_fastWin/posgres_test.ipynb#X11sZmlsZQ%3D%3D?line=72'>73</a>\u001b[0m df_pred \u001b[39m=\u001b[39m Controller\u001b[39m.\u001b[39;49mserver()\n",
      "\u001b[1;32m/Users/lebedevmatvey/Documents/Nlp_fastWin/posgres_test.ipynb Cell 6\u001b[0m in \u001b[0;36mPredictController.server\u001b[0;34m(self)\u001b[0m\n\u001b[1;32m     <a href='vscode-notebook-cell:/Users/lebedevmatvey/Documents/Nlp_fastWin/posgres_test.ipynb#X11sZmlsZQ%3D%3D?line=62'>63</a>\u001b[0m \u001b[39mdef\u001b[39;00m \u001b[39mserver\u001b[39m(\u001b[39mself\u001b[39m):\n\u001b[1;32m     <a href='vscode-notebook-cell:/Users/lebedevmatvey/Documents/Nlp_fastWin/posgres_test.ipynb#X11sZmlsZQ%3D%3D?line=63'>64</a>\u001b[0m     \u001b[39mwhile\u001b[39;00m \u001b[39mTrue\u001b[39;00m:\n\u001b[0;32m---> <a href='vscode-notebook-cell:/Users/lebedevmatvey/Documents/Nlp_fastWin/posgres_test.ipynb#X11sZmlsZQ%3D%3D?line=64'>65</a>\u001b[0m         \u001b[39mself\u001b[39;49m\u001b[39m.\u001b[39;49mfit_predict(categorys\u001b[39m=\u001b[39;49m\u001b[39m'\u001b[39;49m\u001b[39msubsidies\u001b[39;49m\u001b[39m'\u001b[39;49m, join_table\u001b[39m=\u001b[39;49m\u001b[39m'\u001b[39;49m\u001b[39msubsidy_project\u001b[39;49m\u001b[39m'\u001b[39;49m, category_col\u001b[39m=\u001b[39;49m\u001b[39m'\u001b[39;49m\u001b[39mtitle\u001b[39;49m\u001b[39m'\u001b[39;49m, category_id\u001b[39m=\u001b[39;49m\u001b[39m'\u001b[39;49m\u001b[39msubsidies_id\u001b[39;49m\u001b[39m'\u001b[39;49m)\n\u001b[1;32m     <a href='vscode-notebook-cell:/Users/lebedevmatvey/Documents/Nlp_fastWin/posgres_test.ipynb#X11sZmlsZQ%3D%3D?line=65'>66</a>\u001b[0m         time\u001b[39m.\u001b[39msleep(\u001b[39m1\u001b[39m)\n\u001b[1;32m     <a href='vscode-notebook-cell:/Users/lebedevmatvey/Documents/Nlp_fastWin/posgres_test.ipynb#X11sZmlsZQ%3D%3D?line=66'>67</a>\u001b[0m         \u001b[39mself\u001b[39m\u001b[39m.\u001b[39mfit_predict(categorys\u001b[39m=\u001b[39m\u001b[39m'\u001b[39m\u001b[39mtag\u001b[39m\u001b[39m'\u001b[39m, join_table\u001b[39m=\u001b[39m\u001b[39m'\u001b[39m\u001b[39mtag_project\u001b[39m\u001b[39m'\u001b[39m, category_col\u001b[39m=\u001b[39m\u001b[39m'\u001b[39m\u001b[39mtag_name\u001b[39m\u001b[39m'\u001b[39m, category_id\u001b[39m=\u001b[39m\u001b[39m'\u001b[39m\u001b[39mtag_id\u001b[39m\u001b[39m'\u001b[39m)\n",
      "\u001b[1;32m/Users/lebedevmatvey/Documents/Nlp_fastWin/posgres_test.ipynb Cell 6\u001b[0m in \u001b[0;36mPredictController.fit_predict\u001b[0;34m(self, categorys, join_table, category_col, category_id)\u001b[0m\n\u001b[1;32m     <a href='vscode-notebook-cell:/Users/lebedevmatvey/Documents/Nlp_fastWin/posgres_test.ipynb#X11sZmlsZQ%3D%3D?line=48'>49</a>\u001b[0m df_predicted \u001b[39m=\u001b[39m Predictor\u001b[39m.\u001b[39mpredict(labels\u001b[39m=\u001b[39mdf_test, category\u001b[39m=\u001b[39m\u001b[39m'\u001b[39m\u001b[39msubsidy\u001b[39m\u001b[39m'\u001b[39m)\n\u001b[1;32m     <a href='vscode-notebook-cell:/Users/lebedevmatvey/Documents/Nlp_fastWin/posgres_test.ipynb#X11sZmlsZQ%3D%3D?line=49'>50</a>\u001b[0m \u001b[39mself\u001b[39m\u001b[39m.\u001b[39mvalues \u001b[39m=\u001b[39m []\n\u001b[0;32m---> <a href='vscode-notebook-cell:/Users/lebedevmatvey/Documents/Nlp_fastWin/posgres_test.ipynb#X11sZmlsZQ%3D%3D?line=50'>51</a>\u001b[0m df_predicted\u001b[39m.\u001b[39;49mapply(\u001b[39mself\u001b[39;49m\u001b[39m.\u001b[39;49mwrite_predictions, axis\u001b[39m=\u001b[39;49m\u001b[39m1\u001b[39;49m)\n\u001b[1;32m     <a href='vscode-notebook-cell:/Users/lebedevmatvey/Documents/Nlp_fastWin/posgres_test.ipynb#X11sZmlsZQ%3D%3D?line=52'>53</a>\u001b[0m \u001b[39mif\u001b[39;00m \u001b[39mself\u001b[39m\u001b[39m.\u001b[39mvalues \u001b[39m!=\u001b[39m []:\n\u001b[1;32m     <a href='vscode-notebook-cell:/Users/lebedevmatvey/Documents/Nlp_fastWin/posgres_test.ipynb#X11sZmlsZQ%3D%3D?line=53'>54</a>\u001b[0m     q \u001b[39m=\u001b[39m \u001b[39mf\u001b[39m\u001b[39m'''\u001b[39m\u001b[39mINSERT INTO \u001b[39m\u001b[39m{\u001b[39;00m\u001b[39mself\u001b[39m\u001b[39m.\u001b[39mjoin_table\u001b[39m}\u001b[39;00m\u001b[39m (id, accepted, probability, project_id, \u001b[39m\u001b[39m{\u001b[39;00m\u001b[39mself\u001b[39m\u001b[39m.\u001b[39mcategory_id\u001b[39m}\u001b[39;00m\u001b[39m) VALUES \u001b[39m\u001b[39m'''\u001b[39m \u001b[39m+\u001b[39m \u001b[39m'\u001b[39m\u001b[39m{}\u001b[39;00m\u001b[39m'\u001b[39m\n",
      "File \u001b[0;32m~/miniforge3/envs/p38main/lib/python3.10/site-packages/pandas/core/frame.py:9558\u001b[0m, in \u001b[0;36mDataFrame.apply\u001b[0;34m(self, func, axis, raw, result_type, args, **kwargs)\u001b[0m\n\u001b[1;32m   9547\u001b[0m \u001b[39mfrom\u001b[39;00m \u001b[39mpandas\u001b[39;00m\u001b[39m.\u001b[39;00m\u001b[39mcore\u001b[39;00m\u001b[39m.\u001b[39;00m\u001b[39mapply\u001b[39;00m \u001b[39mimport\u001b[39;00m frame_apply\n\u001b[1;32m   9549\u001b[0m op \u001b[39m=\u001b[39m frame_apply(\n\u001b[1;32m   9550\u001b[0m     \u001b[39mself\u001b[39m,\n\u001b[1;32m   9551\u001b[0m     func\u001b[39m=\u001b[39mfunc,\n\u001b[0;32m   (...)\u001b[0m\n\u001b[1;32m   9556\u001b[0m     kwargs\u001b[39m=\u001b[39mkwargs,\n\u001b[1;32m   9557\u001b[0m )\n\u001b[0;32m-> 9558\u001b[0m \u001b[39mreturn\u001b[39;00m op\u001b[39m.\u001b[39;49mapply()\u001b[39m.\u001b[39m__finalize__(\u001b[39mself\u001b[39m, method\u001b[39m=\u001b[39m\u001b[39m\"\u001b[39m\u001b[39mapply\u001b[39m\u001b[39m\"\u001b[39m)\n",
      "File \u001b[0;32m~/miniforge3/envs/p38main/lib/python3.10/site-packages/pandas/core/apply.py:741\u001b[0m, in \u001b[0;36mFrameApply.apply\u001b[0;34m(self)\u001b[0m\n\u001b[1;32m    738\u001b[0m \u001b[39melif\u001b[39;00m \u001b[39mself\u001b[39m\u001b[39m.\u001b[39mraw:\n\u001b[1;32m    739\u001b[0m     \u001b[39mreturn\u001b[39;00m \u001b[39mself\u001b[39m\u001b[39m.\u001b[39mapply_raw()\n\u001b[0;32m--> 741\u001b[0m \u001b[39mreturn\u001b[39;00m \u001b[39mself\u001b[39;49m\u001b[39m.\u001b[39;49mapply_standard()\n",
      "File \u001b[0;32m~/miniforge3/envs/p38main/lib/python3.10/site-packages/pandas/core/apply.py:868\u001b[0m, in \u001b[0;36mFrameApply.apply_standard\u001b[0;34m(self)\u001b[0m\n\u001b[1;32m    867\u001b[0m \u001b[39mdef\u001b[39;00m \u001b[39mapply_standard\u001b[39m(\u001b[39mself\u001b[39m):\n\u001b[0;32m--> 868\u001b[0m     results, res_index \u001b[39m=\u001b[39m \u001b[39mself\u001b[39;49m\u001b[39m.\u001b[39;49mapply_series_generator()\n\u001b[1;32m    870\u001b[0m     \u001b[39m# wrap results\u001b[39;00m\n\u001b[1;32m    871\u001b[0m     \u001b[39mreturn\u001b[39;00m \u001b[39mself\u001b[39m\u001b[39m.\u001b[39mwrap_results(results, res_index)\n",
      "File \u001b[0;32m~/miniforge3/envs/p38main/lib/python3.10/site-packages/pandas/core/apply.py:884\u001b[0m, in \u001b[0;36mFrameApply.apply_series_generator\u001b[0;34m(self)\u001b[0m\n\u001b[1;32m    881\u001b[0m \u001b[39mwith\u001b[39;00m option_context(\u001b[39m\"\u001b[39m\u001b[39mmode.chained_assignment\u001b[39m\u001b[39m\"\u001b[39m, \u001b[39mNone\u001b[39;00m):\n\u001b[1;32m    882\u001b[0m     \u001b[39mfor\u001b[39;00m i, v \u001b[39min\u001b[39;00m \u001b[39menumerate\u001b[39m(series_gen):\n\u001b[1;32m    883\u001b[0m         \u001b[39m# ignore SettingWithCopy here in case the user mutates\u001b[39;00m\n\u001b[0;32m--> 884\u001b[0m         results[i] \u001b[39m=\u001b[39m \u001b[39mself\u001b[39;49m\u001b[39m.\u001b[39;49mf(v)\n\u001b[1;32m    885\u001b[0m         \u001b[39mif\u001b[39;00m \u001b[39misinstance\u001b[39m(results[i], ABCSeries):\n\u001b[1;32m    886\u001b[0m             \u001b[39m# If we have a view on v, we need to make a copy because\u001b[39;00m\n\u001b[1;32m    887\u001b[0m             \u001b[39m#  series_generator will swap out the underlying data\u001b[39;00m\n\u001b[1;32m    888\u001b[0m             results[i] \u001b[39m=\u001b[39m results[i]\u001b[39m.\u001b[39mcopy(deep\u001b[39m=\u001b[39m\u001b[39mFalse\u001b[39;00m)\n",
      "\u001b[1;32m/Users/lebedevmatvey/Documents/Nlp_fastWin/posgres_test.ipynb Cell 6\u001b[0m in \u001b[0;36mPredictController.write_predictions\u001b[0;34m(self, row)\u001b[0m\n\u001b[1;32m     <a href='vscode-notebook-cell:/Users/lebedevmatvey/Documents/Nlp_fastWin/posgres_test.ipynb#X11sZmlsZQ%3D%3D?line=33'>34</a>\u001b[0m     \u001b[39mself\u001b[39m\u001b[39m.\u001b[39mvalues\u001b[39m.\u001b[39mappend((\u001b[39mint\u001b[39m(\u001b[39mself\u001b[39m\u001b[39m.\u001b[39mlen_sub_project \u001b[39m+\u001b[39m \u001b[39m1\u001b[39m), \u001b[39mFalse\u001b[39;00m, \u001b[39mfloat\u001b[39m(prob), \u001b[39mint\u001b[39m(project_id), \u001b[39mint\u001b[39m(subsidy_id)))\n\u001b[1;32m     <a href='vscode-notebook-cell:/Users/lebedevmatvey/Documents/Nlp_fastWin/posgres_test.ipynb#X11sZmlsZQ%3D%3D?line=34'>35</a>\u001b[0m     \u001b[39mself\u001b[39m\u001b[39m.\u001b[39mlen_sub_project \u001b[39m+\u001b[39m\u001b[39m=\u001b[39m \u001b[39m1\u001b[39m\n\u001b[0;32m---> <a href='vscode-notebook-cell:/Users/lebedevmatvey/Documents/Nlp_fastWin/posgres_test.ipynb#X11sZmlsZQ%3D%3D?line=36'>37</a>\u001b[0m \u001b[39mself\u001b[39;49m\u001b[39m.\u001b[39;49mconn\u001b[39m.\u001b[39;49mcommit()\n",
      "\u001b[0;31mOperationalError\u001b[0m: could not receive data from server: Operation timed out\nSSL SYSCALL error: Operation timed out\n"
     ]
    }
   ],
   "source": [
    "class PredictController:\n",
    "    def connect_db(self):\n",
    "        self.conn = psycopg2.connect(dbname='ideas', user='ideas', \n",
    "                        password='ideas2022', host='collabro.ru')\n",
    "        self.cursor = conn.cursor()\n",
    "\n",
    "    def get_data_db(self):\n",
    "        q = f'''SELECT {self.categorys}.{self.category_col} AS subsidy, projects.title, {self.categorys}.id,\n",
    "                    {self.join_table}.accepted FROM {self.join_table}\n",
    "                    LEFT JOIN {self.categorys} ON ({self.join_table}.{self.category_id} = {self.categorys}.id)\n",
    "                    LEFT JOIN projects ON ({self.join_table}.project_id = projects.id);'''\n",
    "        if self.categorys == 'tag':\n",
    "            print(q)\n",
    "        df = pd.read_sql(q, self.conn)\n",
    "        self.len_sub_project = len(df)\n",
    "\n",
    "        df_train = df[df['accepted'] == True]\n",
    "\n",
    "        df_test = pd.read_sql('SELECT * FROM projects', self.conn)\n",
    "        return df_train, df_test\n",
    "        \n",
    "    def write_predictions(self, row):\n",
    "        q = f'''SELECT * FROM {self.categorys}'''\n",
    "        df_sub = pd.read_sql(q, self.conn)\n",
    "        project_id = row['id']\n",
    "        predictions = row['predictions']\n",
    "        dsubsidy_project = pd.read_sql(f'SELECT * FROM {self.join_table}', self.conn)\n",
    "        for subsidy in predictions:\n",
    "            subsidy_id = df_sub[df_sub[self.category_col] == subsidy]['id'].iloc[0]\n",
    "            prob = predictions[subsidy]\n",
    "            print(prob, self.len_sub_project)\n",
    "            if len(dsubsidy_project[(dsubsidy_project['project_id'] == project_id) & (dsubsidy_project[self.category_id] == subsidy_id)]) == 0:\n",
    "                \n",
    "                self.values.append((int(self.len_sub_project + 1), False, float(prob), int(project_id), int(subsidy_id)))\n",
    "                self.len_sub_project += 1\n",
    "            \n",
    "            self.conn.commit()\n",
    "\n",
    "    def fit_predict(self, categorys='subsidies', join_table='subsidy_project', category_col='title', category_id='subsidies_id'):\n",
    "        self.categorys = categorys\n",
    "        self.join_table=join_table\n",
    "        self.category_col=category_col\n",
    "        self.category_id=category_id\n",
    "        self.connect_db()\n",
    "        df_train, df_test = self.get_data_db()\n",
    "        Predictor = CategoryPredictor(label='title',    \n",
    "                              category_columns=['subsidy'], df=df_train)\n",
    "        Predictor.fit_all()\n",
    "        df_predicted = Predictor.predict(labels=df_test, category='subsidy')\n",
    "        self.values = []\n",
    "        df_predicted.apply(self.write_predictions, axis=1)\n",
    "\n",
    "        if self.values != []:\n",
    "            q = f'''INSERT INTO {self.join_table} (id, accepted, probability, project_id, {self.category_id}) VALUES ''' + '{}'\n",
    "            records_list_template = ','.join(['%s'] * len(self.values))\n",
    "            insert_query = q.format(records_list_template)\n",
    "            cursor = self.conn.cursor()\n",
    "            cursor.execute(insert_query, self.values)\n",
    "            self.conn.commit()\n",
    "        self.conn.close()\n",
    "        return df_predicted\n",
    "\n",
    "    def server(self):\n",
    "        while True:\n",
    "            self.fit_predict(categorys='subsidies', join_table='subsidy_project', category_col='title', category_id='subsidies_id')\n",
    "            time.sleep(1)\n",
    "            self.fit_predict(categorys='tag', join_table='tag_project', category_col='tag_name', category_id='tag_id')\n",
    "            time.sleep(1)\n",
    "\n",
    "            time.sleep(10)\n",
    "\n",
    "Controller = PredictController()\n",
    "df_pred = Controller.server()"
   ]
  },
  {
   "cell_type": "code",
   "execution_count": null,
   "metadata": {},
   "outputs": [],
   "source": [
    "Controller = PredictController()\n",
    "df_pred = Controller.fit_predict()"
   ]
  },
  {
   "cell_type": "code",
   "execution_count": 184,
   "metadata": {},
   "outputs": [
    {
     "name": "stderr",
     "output_type": "stream",
     "text": [
      "/var/folders/64/nbt92b3d4_n2r41g3gx6lm340000gn/T/ipykernel_33082/1290299184.py:12: UserWarning: pandas only supports SQLAlchemy connectable (engine/connection) or database string URI or sqlite3 DBAPI2 connection. Other DBAPI2 objects are not tested. Please consider using SQLAlchemy.\n",
      "  df = pd.read_sql(q, self.conn)\n",
      "/var/folders/64/nbt92b3d4_n2r41g3gx6lm340000gn/T/ipykernel_33082/1290299184.py:17: UserWarning: pandas only supports SQLAlchemy connectable (engine/connection) or database string URI or sqlite3 DBAPI2 connection. Other DBAPI2 objects are not tested. Please consider using SQLAlchemy.\n",
      "  df_test = pd.read_sql('SELECT * FROM projects', self.conn)\n",
      "/Users/lebedevmatvey/Documents/Nlp_fastWin/CategoryPredictor.py:129: SettingWithCopyWarning: \n",
      "A value is trying to be set on a copy of a slice from a DataFrame.\n",
      "Try using .loc[row_indexer,col_indexer] = value instead\n",
      "\n",
      "See the caveats in the documentation: https://pandas.pydata.org/pandas-docs/stable/user_guide/indexing.html#returning-a-view-versus-a-copy\n",
      "  self.df['words'] = self.df[self.label].apply(self.text_to_words)\n",
      "/var/folders/64/nbt92b3d4_n2r41g3gx6lm340000gn/T/ipykernel_33082/1290299184.py:22: UserWarning: pandas only supports SQLAlchemy connectable (engine/connection) or database string URI or sqlite3 DBAPI2 connection. Other DBAPI2 objects are not tested. Please consider using SQLAlchemy.\n",
      "  df_sub = pd.read_sql(q, self.conn)\n",
      "/var/folders/64/nbt92b3d4_n2r41g3gx6lm340000gn/T/ipykernel_33082/1290299184.py:25: UserWarning: pandas only supports SQLAlchemy connectable (engine/connection) or database string URI or sqlite3 DBAPI2 connection. Other DBAPI2 objects are not tested. Please consider using SQLAlchemy.\n",
      "  dsubsidy_project = pd.read_sql(f'SELECT * FROM {self.join_table}', self.conn)\n",
      "/var/folders/64/nbt92b3d4_n2r41g3gx6lm340000gn/T/ipykernel_33082/1290299184.py:22: UserWarning: pandas only supports SQLAlchemy connectable (engine/connection) or database string URI or sqlite3 DBAPI2 connection. Other DBAPI2 objects are not tested. Please consider using SQLAlchemy.\n",
      "  df_sub = pd.read_sql(q, self.conn)\n"
     ]
    },
    {
     "name": "stdout",
     "output_type": "stream",
     "text": [
      "8.743723436350955 15\n",
      "2.066072061680601 15\n",
      "0.0 15\n",
      "45.15295172031554 15\n"
     ]
    },
    {
     "name": "stderr",
     "output_type": "stream",
     "text": [
      "/var/folders/64/nbt92b3d4_n2r41g3gx6lm340000gn/T/ipykernel_33082/1290299184.py:25: UserWarning: pandas only supports SQLAlchemy connectable (engine/connection) or database string URI or sqlite3 DBAPI2 connection. Other DBAPI2 objects are not tested. Please consider using SQLAlchemy.\n",
      "  dsubsidy_project = pd.read_sql(f'SELECT * FROM {self.join_table}', self.conn)\n",
      "/var/folders/64/nbt92b3d4_n2r41g3gx6lm340000gn/T/ipykernel_33082/1290299184.py:22: UserWarning: pandas only supports SQLAlchemy connectable (engine/connection) or database string URI or sqlite3 DBAPI2 connection. Other DBAPI2 objects are not tested. Please consider using SQLAlchemy.\n",
      "  df_sub = pd.read_sql(q, self.conn)\n",
      "/var/folders/64/nbt92b3d4_n2r41g3gx6lm340000gn/T/ipykernel_33082/1290299184.py:25: UserWarning: pandas only supports SQLAlchemy connectable (engine/connection) or database string URI or sqlite3 DBAPI2 connection. Other DBAPI2 objects are not tested. Please consider using SQLAlchemy.\n",
      "  dsubsidy_project = pd.read_sql(f'SELECT * FROM {self.join_table}', self.conn)\n"
     ]
    },
    {
     "name": "stdout",
     "output_type": "stream",
     "text": [
      "0.30631004518348903 15\n",
      "0.062106374599617285 15\n",
      "4.200796450364289 15\n",
      "0.0 15\n",
      "0.0 15\n"
     ]
    },
    {
     "name": "stderr",
     "output_type": "stream",
     "text": [
      "/var/folders/64/nbt92b3d4_n2r41g3gx6lm340000gn/T/ipykernel_33082/1290299184.py:22: UserWarning: pandas only supports SQLAlchemy connectable (engine/connection) or database string URI or sqlite3 DBAPI2 connection. Other DBAPI2 objects are not tested. Please consider using SQLAlchemy.\n",
      "  df_sub = pd.read_sql(q, self.conn)\n",
      "/var/folders/64/nbt92b3d4_n2r41g3gx6lm340000gn/T/ipykernel_33082/1290299184.py:25: UserWarning: pandas only supports SQLAlchemy connectable (engine/connection) or database string URI or sqlite3 DBAPI2 connection. Other DBAPI2 objects are not tested. Please consider using SQLAlchemy.\n",
      "  dsubsidy_project = pd.read_sql(f'SELECT * FROM {self.join_table}', self.conn)\n"
     ]
    },
    {
     "name": "stdout",
     "output_type": "stream",
     "text": [
      "21.38593835685541 15\n",
      "0.5652270793541772 15\n",
      "0.035489356914067016 15\n"
     ]
    },
    {
     "name": "stderr",
     "output_type": "stream",
     "text": [
      "/var/folders/64/nbt92b3d4_n2r41g3gx6lm340000gn/T/ipykernel_33082/1290299184.py:22: UserWarning: pandas only supports SQLAlchemy connectable (engine/connection) or database string URI or sqlite3 DBAPI2 connection. Other DBAPI2 objects are not tested. Please consider using SQLAlchemy.\n",
      "  df_sub = pd.read_sql(q, self.conn)\n",
      "/var/folders/64/nbt92b3d4_n2r41g3gx6lm340000gn/T/ipykernel_33082/1290299184.py:25: UserWarning: pandas only supports SQLAlchemy connectable (engine/connection) or database string URI or sqlite3 DBAPI2 connection. Other DBAPI2 objects are not tested. Please consider using SQLAlchemy.\n",
      "  dsubsidy_project = pd.read_sql(f'SELECT * FROM {self.join_table}', self.conn)\n"
     ]
    },
    {
     "name": "stdout",
     "output_type": "stream",
     "text": [
      "23.82323871512987 15\n",
      "0.19890262674252532 15\n",
      "0.0947307954224878 15\n"
     ]
    },
    {
     "name": "stderr",
     "output_type": "stream",
     "text": [
      "/var/folders/64/nbt92b3d4_n2r41g3gx6lm340000gn/T/ipykernel_33082/1290299184.py:12: UserWarning: pandas only supports SQLAlchemy connectable (engine/connection) or database string URI or sqlite3 DBAPI2 connection. Other DBAPI2 objects are not tested. Please consider using SQLAlchemy.\n",
      "  df = pd.read_sql(q, self.conn)\n"
     ]
    },
    {
     "ename": "DatabaseError",
     "evalue": "Execution failed on sql 'SELECT tag.tag_name AS subsidy, projects.title, tag.id,\n                    tag_project.accepted FROM tag_project\n                    LEFT JOIN subsidies ON (tag_project.tag_id = tag.id)\n                    LEFT JOIN projects ON (tag_project.project_id = projects.id);': missing FROM-clause entry for table \"tag\"\nLINE 3: ...        LEFT JOIN subsidies ON (tag_project.tag_id = tag.id)\n                                                                ^\n",
     "output_type": "error",
     "traceback": [
      "\u001b[0;31m---------------------------------------------------------------------------\u001b[0m",
      "\u001b[0;31mUndefinedTable\u001b[0m                            Traceback (most recent call last)",
      "File \u001b[0;32m~/miniforge3/envs/p38main/lib/python3.10/site-packages/pandas/io/sql.py:2019\u001b[0m, in \u001b[0;36mSQLiteDatabase.execute\u001b[0;34m(self, *args, **kwargs)\u001b[0m\n\u001b[1;32m   2018\u001b[0m \u001b[39mtry\u001b[39;00m:\n\u001b[0;32m-> 2019\u001b[0m     cur\u001b[39m.\u001b[39;49mexecute(\u001b[39m*\u001b[39;49margs, \u001b[39m*\u001b[39;49m\u001b[39m*\u001b[39;49mkwargs)\n\u001b[1;32m   2020\u001b[0m     \u001b[39mreturn\u001b[39;00m cur\n",
      "\u001b[0;31mUndefinedTable\u001b[0m: missing FROM-clause entry for table \"tag\"\nLINE 3: ...        LEFT JOIN subsidies ON (tag_project.tag_id = tag.id)\n                                                                ^\n",
      "\nThe above exception was the direct cause of the following exception:\n",
      "\u001b[0;31mDatabaseError\u001b[0m                             Traceback (most recent call last)",
      "\u001b[1;32m/Users/lebedevmatvey/Documents/Nlp_fastWin/posgres_test.ipynb Cell 8\u001b[0m in \u001b[0;36m<cell line: 2>\u001b[0;34m()\u001b[0m\n\u001b[1;32m      <a href='vscode-notebook-cell:/Users/lebedevmatvey/Documents/Nlp_fastWin/posgres_test.ipynb#X22sZmlsZQ%3D%3D?line=0'>1</a>\u001b[0m Controller \u001b[39m=\u001b[39m PredictController()\n\u001b[0;32m----> <a href='vscode-notebook-cell:/Users/lebedevmatvey/Documents/Nlp_fastWin/posgres_test.ipynb#X22sZmlsZQ%3D%3D?line=1'>2</a>\u001b[0m Controller\u001b[39m.\u001b[39;49mserver()\n",
      "\u001b[1;32m/Users/lebedevmatvey/Documents/Nlp_fastWin/posgres_test.ipynb Cell 8\u001b[0m in \u001b[0;36mPredictController.server\u001b[0;34m(self)\u001b[0m\n\u001b[1;32m     <a href='vscode-notebook-cell:/Users/lebedevmatvey/Documents/Nlp_fastWin/posgres_test.ipynb#X22sZmlsZQ%3D%3D?line=62'>63</a>\u001b[0m \u001b[39mself\u001b[39m\u001b[39m.\u001b[39mfit_predict(categorys\u001b[39m=\u001b[39m\u001b[39m'\u001b[39m\u001b[39msubsidies\u001b[39m\u001b[39m'\u001b[39m, join_table\u001b[39m=\u001b[39m\u001b[39m'\u001b[39m\u001b[39msubsidy_project\u001b[39m\u001b[39m'\u001b[39m, category_col\u001b[39m=\u001b[39m\u001b[39m'\u001b[39m\u001b[39mtitle\u001b[39m\u001b[39m'\u001b[39m, category_id\u001b[39m=\u001b[39m\u001b[39m'\u001b[39m\u001b[39msubsidies_id\u001b[39m\u001b[39m'\u001b[39m)\n\u001b[1;32m     <a href='vscode-notebook-cell:/Users/lebedevmatvey/Documents/Nlp_fastWin/posgres_test.ipynb#X22sZmlsZQ%3D%3D?line=63'>64</a>\u001b[0m time\u001b[39m.\u001b[39msleep(\u001b[39m1\u001b[39m)\n\u001b[0;32m---> <a href='vscode-notebook-cell:/Users/lebedevmatvey/Documents/Nlp_fastWin/posgres_test.ipynb#X22sZmlsZQ%3D%3D?line=64'>65</a>\u001b[0m \u001b[39mself\u001b[39;49m\u001b[39m.\u001b[39;49mfit_predict(categorys\u001b[39m=\u001b[39;49m\u001b[39m'\u001b[39;49m\u001b[39mtag\u001b[39;49m\u001b[39m'\u001b[39;49m, join_table\u001b[39m=\u001b[39;49m\u001b[39m'\u001b[39;49m\u001b[39mtag_project\u001b[39;49m\u001b[39m'\u001b[39;49m, category_col\u001b[39m=\u001b[39;49m\u001b[39m'\u001b[39;49m\u001b[39mtag_name\u001b[39;49m\u001b[39m'\u001b[39;49m, category_id\u001b[39m=\u001b[39;49m\u001b[39m'\u001b[39;49m\u001b[39mtag_id\u001b[39;49m\u001b[39m'\u001b[39;49m)\n\u001b[1;32m     <a href='vscode-notebook-cell:/Users/lebedevmatvey/Documents/Nlp_fastWin/posgres_test.ipynb#X22sZmlsZQ%3D%3D?line=65'>66</a>\u001b[0m time\u001b[39m.\u001b[39msleep(\u001b[39m1\u001b[39m)\n\u001b[1;32m     <a href='vscode-notebook-cell:/Users/lebedevmatvey/Documents/Nlp_fastWin/posgres_test.ipynb#X22sZmlsZQ%3D%3D?line=67'>68</a>\u001b[0m time\u001b[39m.\u001b[39msleep(\u001b[39m10\u001b[39m)\n",
      "\u001b[1;32m/Users/lebedevmatvey/Documents/Nlp_fastWin/posgres_test.ipynb Cell 8\u001b[0m in \u001b[0;36mPredictController.fit_predict\u001b[0;34m(self, categorys, join_table, category_col, category_id)\u001b[0m\n\u001b[1;32m     <a href='vscode-notebook-cell:/Users/lebedevmatvey/Documents/Nlp_fastWin/posgres_test.ipynb#X22sZmlsZQ%3D%3D?line=40'>41</a>\u001b[0m \u001b[39mself\u001b[39m\u001b[39m.\u001b[39mcategory_id\u001b[39m=\u001b[39mcategory_id\n\u001b[1;32m     <a href='vscode-notebook-cell:/Users/lebedevmatvey/Documents/Nlp_fastWin/posgres_test.ipynb#X22sZmlsZQ%3D%3D?line=41'>42</a>\u001b[0m \u001b[39mself\u001b[39m\u001b[39m.\u001b[39mconnect_db()\n\u001b[0;32m---> <a href='vscode-notebook-cell:/Users/lebedevmatvey/Documents/Nlp_fastWin/posgres_test.ipynb#X22sZmlsZQ%3D%3D?line=42'>43</a>\u001b[0m df_train, df_test \u001b[39m=\u001b[39m \u001b[39mself\u001b[39;49m\u001b[39m.\u001b[39;49mget_data_db()\n\u001b[1;32m     <a href='vscode-notebook-cell:/Users/lebedevmatvey/Documents/Nlp_fastWin/posgres_test.ipynb#X22sZmlsZQ%3D%3D?line=43'>44</a>\u001b[0m Predictor \u001b[39m=\u001b[39m CategoryPredictor(label\u001b[39m=\u001b[39m\u001b[39m'\u001b[39m\u001b[39mtitle\u001b[39m\u001b[39m'\u001b[39m,    \n\u001b[1;32m     <a href='vscode-notebook-cell:/Users/lebedevmatvey/Documents/Nlp_fastWin/posgres_test.ipynb#X22sZmlsZQ%3D%3D?line=44'>45</a>\u001b[0m                       category_columns\u001b[39m=\u001b[39m[\u001b[39m'\u001b[39m\u001b[39msubsidy\u001b[39m\u001b[39m'\u001b[39m], df\u001b[39m=\u001b[39mdf_train)\n\u001b[1;32m     <a href='vscode-notebook-cell:/Users/lebedevmatvey/Documents/Nlp_fastWin/posgres_test.ipynb#X22sZmlsZQ%3D%3D?line=45'>46</a>\u001b[0m Predictor\u001b[39m.\u001b[39mfit_all()\n",
      "\u001b[1;32m/Users/lebedevmatvey/Documents/Nlp_fastWin/posgres_test.ipynb Cell 8\u001b[0m in \u001b[0;36mPredictController.get_data_db\u001b[0;34m(self)\u001b[0m\n\u001b[1;32m      <a href='vscode-notebook-cell:/Users/lebedevmatvey/Documents/Nlp_fastWin/posgres_test.ipynb#X22sZmlsZQ%3D%3D?line=6'>7</a>\u001b[0m \u001b[39mdef\u001b[39;00m \u001b[39mget_data_db\u001b[39m(\u001b[39mself\u001b[39m):\n\u001b[1;32m      <a href='vscode-notebook-cell:/Users/lebedevmatvey/Documents/Nlp_fastWin/posgres_test.ipynb#X22sZmlsZQ%3D%3D?line=7'>8</a>\u001b[0m     q \u001b[39m=\u001b[39m \u001b[39mf\u001b[39m\u001b[39m'''\u001b[39m\u001b[39mSELECT \u001b[39m\u001b[39m{\u001b[39;00m\u001b[39mself\u001b[39m\u001b[39m.\u001b[39mcategorys\u001b[39m}\u001b[39;00m\u001b[39m.\u001b[39m\u001b[39m{\u001b[39;00m\u001b[39mself\u001b[39m\u001b[39m.\u001b[39mcategory_col\u001b[39m}\u001b[39;00m\u001b[39m AS subsidy, projects.title, \u001b[39m\u001b[39m{\u001b[39;00m\u001b[39mself\u001b[39m\u001b[39m.\u001b[39mcategorys\u001b[39m}\u001b[39;00m\u001b[39m.id,\u001b[39m\n\u001b[1;32m      <a href='vscode-notebook-cell:/Users/lebedevmatvey/Documents/Nlp_fastWin/posgres_test.ipynb#X22sZmlsZQ%3D%3D?line=8'>9</a>\u001b[0m \u001b[39m                \u001b[39m\u001b[39m{\u001b[39;00m\u001b[39mself\u001b[39m\u001b[39m.\u001b[39mjoin_table\u001b[39m}\u001b[39;00m\u001b[39m.accepted FROM \u001b[39m\u001b[39m{\u001b[39;00m\u001b[39mself\u001b[39m\u001b[39m.\u001b[39mjoin_table\u001b[39m}\u001b[39;00m\n\u001b[1;32m     <a href='vscode-notebook-cell:/Users/lebedevmatvey/Documents/Nlp_fastWin/posgres_test.ipynb#X22sZmlsZQ%3D%3D?line=9'>10</a>\u001b[0m \u001b[39m                LEFT JOIN subsidies ON (\u001b[39m\u001b[39m{\u001b[39;00m\u001b[39mself\u001b[39m\u001b[39m.\u001b[39mjoin_table\u001b[39m}\u001b[39;00m\u001b[39m.\u001b[39m\u001b[39m{\u001b[39;00m\u001b[39mself\u001b[39m\u001b[39m.\u001b[39mcategory_id\u001b[39m}\u001b[39;00m\u001b[39m = \u001b[39m\u001b[39m{\u001b[39;00m\u001b[39mself\u001b[39m\u001b[39m.\u001b[39mcategorys\u001b[39m}\u001b[39;00m\u001b[39m.id)\u001b[39m\n\u001b[1;32m     <a href='vscode-notebook-cell:/Users/lebedevmatvey/Documents/Nlp_fastWin/posgres_test.ipynb#X22sZmlsZQ%3D%3D?line=10'>11</a>\u001b[0m \u001b[39m                LEFT JOIN projects ON (\u001b[39m\u001b[39m{\u001b[39;00m\u001b[39mself\u001b[39m\u001b[39m.\u001b[39mjoin_table\u001b[39m}\u001b[39;00m\u001b[39m.project_id = projects.id);\u001b[39m\u001b[39m'''\u001b[39m\n\u001b[0;32m---> <a href='vscode-notebook-cell:/Users/lebedevmatvey/Documents/Nlp_fastWin/posgres_test.ipynb#X22sZmlsZQ%3D%3D?line=11'>12</a>\u001b[0m     df \u001b[39m=\u001b[39m pd\u001b[39m.\u001b[39;49mread_sql(q, \u001b[39mself\u001b[39;49m\u001b[39m.\u001b[39;49mconn)\n\u001b[1;32m     <a href='vscode-notebook-cell:/Users/lebedevmatvey/Documents/Nlp_fastWin/posgres_test.ipynb#X22sZmlsZQ%3D%3D?line=12'>13</a>\u001b[0m     \u001b[39mself\u001b[39m\u001b[39m.\u001b[39mlen_sub_project \u001b[39m=\u001b[39m \u001b[39mlen\u001b[39m(df)\n\u001b[1;32m     <a href='vscode-notebook-cell:/Users/lebedevmatvey/Documents/Nlp_fastWin/posgres_test.ipynb#X22sZmlsZQ%3D%3D?line=14'>15</a>\u001b[0m     df_train \u001b[39m=\u001b[39m df[df[\u001b[39m'\u001b[39m\u001b[39maccepted\u001b[39m\u001b[39m'\u001b[39m] \u001b[39m==\u001b[39m \u001b[39mTrue\u001b[39;00m]\n",
      "File \u001b[0;32m~/miniforge3/envs/p38main/lib/python3.10/site-packages/pandas/io/sql.py:565\u001b[0m, in \u001b[0;36mread_sql\u001b[0;34m(sql, con, index_col, coerce_float, params, parse_dates, columns, chunksize)\u001b[0m\n\u001b[1;32m    562\u001b[0m pandas_sql \u001b[39m=\u001b[39m pandasSQL_builder(con)\n\u001b[1;32m    564\u001b[0m \u001b[39mif\u001b[39;00m \u001b[39misinstance\u001b[39m(pandas_sql, SQLiteDatabase):\n\u001b[0;32m--> 565\u001b[0m     \u001b[39mreturn\u001b[39;00m pandas_sql\u001b[39m.\u001b[39;49mread_query(\n\u001b[1;32m    566\u001b[0m         sql,\n\u001b[1;32m    567\u001b[0m         index_col\u001b[39m=\u001b[39;49mindex_col,\n\u001b[1;32m    568\u001b[0m         params\u001b[39m=\u001b[39;49mparams,\n\u001b[1;32m    569\u001b[0m         coerce_float\u001b[39m=\u001b[39;49mcoerce_float,\n\u001b[1;32m    570\u001b[0m         parse_dates\u001b[39m=\u001b[39;49mparse_dates,\n\u001b[1;32m    571\u001b[0m         chunksize\u001b[39m=\u001b[39;49mchunksize,\n\u001b[1;32m    572\u001b[0m     )\n\u001b[1;32m    574\u001b[0m \u001b[39mtry\u001b[39;00m:\n\u001b[1;32m    575\u001b[0m     _is_table_name \u001b[39m=\u001b[39m pandas_sql\u001b[39m.\u001b[39mhas_table(sql)\n",
      "File \u001b[0;32m~/miniforge3/envs/p38main/lib/python3.10/site-packages/pandas/io/sql.py:2079\u001b[0m, in \u001b[0;36mSQLiteDatabase.read_query\u001b[0;34m(self, sql, index_col, coerce_float, params, parse_dates, chunksize, dtype)\u001b[0m\n\u001b[1;32m   2067\u001b[0m \u001b[39mdef\u001b[39;00m \u001b[39mread_query\u001b[39m(\n\u001b[1;32m   2068\u001b[0m     \u001b[39mself\u001b[39m,\n\u001b[1;32m   2069\u001b[0m     sql,\n\u001b[0;32m   (...)\u001b[0m\n\u001b[1;32m   2075\u001b[0m     dtype: DtypeArg \u001b[39m|\u001b[39m \u001b[39mNone\u001b[39;00m \u001b[39m=\u001b[39m \u001b[39mNone\u001b[39;00m,\n\u001b[1;32m   2076\u001b[0m ) \u001b[39m-\u001b[39m\u001b[39m>\u001b[39m DataFrame \u001b[39m|\u001b[39m Iterator[DataFrame]:\n\u001b[1;32m   2078\u001b[0m     args \u001b[39m=\u001b[39m _convert_params(sql, params)\n\u001b[0;32m-> 2079\u001b[0m     cursor \u001b[39m=\u001b[39m \u001b[39mself\u001b[39;49m\u001b[39m.\u001b[39;49mexecute(\u001b[39m*\u001b[39;49margs)\n\u001b[1;32m   2080\u001b[0m     columns \u001b[39m=\u001b[39m [col_desc[\u001b[39m0\u001b[39m] \u001b[39mfor\u001b[39;00m col_desc \u001b[39min\u001b[39;00m cursor\u001b[39m.\u001b[39mdescription]\n\u001b[1;32m   2082\u001b[0m     \u001b[39mif\u001b[39;00m chunksize \u001b[39mis\u001b[39;00m \u001b[39mnot\u001b[39;00m \u001b[39mNone\u001b[39;00m:\n",
      "File \u001b[0;32m~/miniforge3/envs/p38main/lib/python3.10/site-packages/pandas/io/sql.py:2031\u001b[0m, in \u001b[0;36mSQLiteDatabase.execute\u001b[0;34m(self, *args, **kwargs)\u001b[0m\n\u001b[1;32m   2028\u001b[0m     \u001b[39mraise\u001b[39;00m ex \u001b[39mfrom\u001b[39;00m \u001b[39minner_exc\u001b[39;00m\n\u001b[1;32m   2030\u001b[0m ex \u001b[39m=\u001b[39m DatabaseError(\u001b[39mf\u001b[39m\u001b[39m\"\u001b[39m\u001b[39mExecution failed on sql \u001b[39m\u001b[39m'\u001b[39m\u001b[39m{\u001b[39;00margs[\u001b[39m0\u001b[39m]\u001b[39m}\u001b[39;00m\u001b[39m'\u001b[39m\u001b[39m: \u001b[39m\u001b[39m{\u001b[39;00mexc\u001b[39m}\u001b[39;00m\u001b[39m\"\u001b[39m)\n\u001b[0;32m-> 2031\u001b[0m \u001b[39mraise\u001b[39;00m ex \u001b[39mfrom\u001b[39;00m \u001b[39mexc\u001b[39;00m\n",
      "\u001b[0;31mDatabaseError\u001b[0m: Execution failed on sql 'SELECT tag.tag_name AS subsidy, projects.title, tag.id,\n                    tag_project.accepted FROM tag_project\n                    LEFT JOIN subsidies ON (tag_project.tag_id = tag.id)\n                    LEFT JOIN projects ON (tag_project.project_id = projects.id);': missing FROM-clause entry for table \"tag\"\nLINE 3: ...        LEFT JOIN subsidies ON (tag_project.tag_id = tag.id)\n                                                                ^\n"
     ]
    }
   ],
   "source": [
    "Controller = PredictController()\n",
    "Controller.server()"
   ]
  },
  {
   "cell_type": "code",
   "execution_count": 86,
   "metadata": {},
   "outputs": [
    {
     "name": "stderr",
     "output_type": "stream",
     "text": [
      "/var/folders/64/nbt92b3d4_n2r41g3gx6lm340000gn/T/ipykernel_33082/2081191725.py:1: UserWarning: pandas only supports SQLAlchemy connectable (engine/connection) or database string URI or sqlite3 DBAPI2 connection. Other DBAPI2 objects are not tested. Please consider using SQLAlchemy.\n",
      "  dsubsidy_project = pd.read_sql('SELECT * FROM subsidy_project', Controller.conn)\n"
     ]
    },
    {
     "data": {
      "text/plain": [
       "2"
      ]
     },
     "execution_count": 86,
     "metadata": {},
     "output_type": "execute_result"
    }
   ],
   "source": [
    "dsubsidy_project = pd.read_sql('SELECT * FROM subsidy_project', Controller.conn)\n",
    "len(dsubsidy_project[(dsubsidy_project['project_id'] == 1) & (dsubsidy_project['subsidies_id'] == 1)])"
   ]
  },
  {
   "cell_type": "code",
   "execution_count": null,
   "metadata": {},
   "outputs": [],
   "source": [
    "Controller = PredictController()\n",
    "df_pred = Controller.fit_predict()"
   ]
  },
  {
   "cell_type": "code",
   "execution_count": 176,
   "metadata": {},
   "outputs": [
    {
     "data": {
      "text/html": [
       "<div>\n",
       "<style scoped>\n",
       "    .dataframe tbody tr th:only-of-type {\n",
       "        vertical-align: middle;\n",
       "    }\n",
       "\n",
       "    .dataframe tbody tr th {\n",
       "        vertical-align: top;\n",
       "    }\n",
       "\n",
       "    .dataframe thead th {\n",
       "        text-align: right;\n",
       "    }\n",
       "</style>\n",
       "<table border=\"1\" class=\"dataframe\">\n",
       "  <thead>\n",
       "    <tr style=\"text-align: right;\">\n",
       "      <th></th>\n",
       "      <th>id</th>\n",
       "      <th>description</th>\n",
       "      <th>is_innovation</th>\n",
       "      <th>title</th>\n",
       "      <th>predictions</th>\n",
       "    </tr>\n",
       "  </thead>\n",
       "  <tbody>\n",
       "    <tr>\n",
       "      <th>0</th>\n",
       "      <td>1</td>\n",
       "      <td>Экологический мониторинг атмосферного воздуха</td>\n",
       "      <td>False</td>\n",
       "      <td>Экологический мониторинг атмосферного воздуха</td>\n",
       "      <td>{'Лидеры инноваций': 10.918853332200625, 'Меня...</td>\n",
       "    </tr>\n",
       "    <tr>\n",
       "      <th>1</th>\n",
       "      <td>2</td>\n",
       "      <td>Перовскитные солнечные батареи для питания пор...</td>\n",
       "      <td>False</td>\n",
       "      <td>Перовскитные солнечные батареи для питания пор...</td>\n",
       "      <td>{'Меняющие реальность': 45.82386533594941, 'Ли...</td>\n",
       "    </tr>\n",
       "    <tr>\n",
       "      <th>2</th>\n",
       "      <td>3</td>\n",
       "      <td>Интерактивные прозрачные дисплеи</td>\n",
       "      <td>False</td>\n",
       "      <td>Интерактивные прозрачные дисплеи</td>\n",
       "      <td>{'Меняющие реальность': 0.0, 'Лидеры инноваций...</td>\n",
       "    </tr>\n",
       "    <tr>\n",
       "      <th>3</th>\n",
       "      <td>4</td>\n",
       "      <td>Платформа для анализа логов, UX-мониторинга и ...</td>\n",
       "      <td>True</td>\n",
       "      <td>Платформа для анализа логов, UX-мониторинга и ...</td>\n",
       "      <td>{'Лидеры инноваций': 4.981049792006358, 'Меняю...</td>\n",
       "    </tr>\n",
       "  </tbody>\n",
       "</table>\n",
       "</div>"
      ],
      "text/plain": [
       "   id                                        description  is_innovation  \\\n",
       "0   1      Экологический мониторинг атмосферного воздуха          False   \n",
       "1   2  Перовскитные солнечные батареи для питания пор...          False   \n",
       "2   3                   Интерактивные прозрачные дисплеи          False   \n",
       "3   4  Платформа для анализа логов, UX-мониторинга и ...           True   \n",
       "\n",
       "                                               title  \\\n",
       "0      Экологический мониторинг атмосферного воздуха   \n",
       "1  Перовскитные солнечные батареи для питания пор...   \n",
       "2                   Интерактивные прозрачные дисплеи   \n",
       "3  Платформа для анализа логов, UX-мониторинга и ...   \n",
       "\n",
       "                                         predictions  \n",
       "0  {'Лидеры инноваций': 10.918853332200625, 'Меня...  \n",
       "1  {'Меняющие реальность': 45.82386533594941, 'Ли...  \n",
       "2  {'Меняющие реальность': 0.0, 'Лидеры инноваций...  \n",
       "3  {'Лидеры инноваций': 4.981049792006358, 'Меняю...  "
      ]
     },
     "execution_count": 176,
     "metadata": {},
     "output_type": "execute_result"
    }
   ],
   "source": [
    "df_pred"
   ]
  },
  {
   "cell_type": "code",
   "execution_count": 50,
   "metadata": {},
   "outputs": [
    {
     "name": "stderr",
     "output_type": "stream",
     "text": [
      "/var/folders/64/nbt92b3d4_n2r41g3gx6lm340000gn/T/ipykernel_33082/360825806.py:2: UserWarning: pandas only supports SQLAlchemy connectable (engine/connection) or database string URI or sqlite3 DBAPI2 connection. Other DBAPI2 objects are not tested. Please consider using SQLAlchemy.\n",
      "  df_sub = pd.read_sql(q, conn)\n"
     ]
    },
    {
     "data": {
      "text/html": [
       "<div>\n",
       "<style scoped>\n",
       "    .dataframe tbody tr th:only-of-type {\n",
       "        vertical-align: middle;\n",
       "    }\n",
       "\n",
       "    .dataframe tbody tr th {\n",
       "        vertical-align: top;\n",
       "    }\n",
       "\n",
       "    .dataframe thead th {\n",
       "        text-align: right;\n",
       "    }\n",
       "</style>\n",
       "<table border=\"1\" class=\"dataframe\">\n",
       "  <thead>\n",
       "    <tr style=\"text-align: right;\">\n",
       "      <th></th>\n",
       "      <th>id</th>\n",
       "      <th>count</th>\n",
       "      <th>title</th>\n",
       "    </tr>\n",
       "  </thead>\n",
       "  <tbody>\n",
       "  </tbody>\n",
       "</table>\n",
       "</div>"
      ],
      "text/plain": [
       "Empty DataFrame\n",
       "Columns: [id, count, title]\n",
       "Index: []"
      ]
     },
     "execution_count": 50,
     "metadata": {},
     "output_type": "execute_result"
    }
   ],
   "source": [
    "q = '''SELECT * FROM subsidies'''\n",
    "df_sub = pd.read_sql(q, conn)\n",
    "df_sub[df_sub['title'] == 'Меняющие реальность']"
   ]
  },
  {
   "cell_type": "code",
   "execution_count": 53,
   "metadata": {},
   "outputs": [
    {
     "data": {
      "text/html": [
       "<div>\n",
       "<style scoped>\n",
       "    .dataframe tbody tr th:only-of-type {\n",
       "        vertical-align: middle;\n",
       "    }\n",
       "\n",
       "    .dataframe tbody tr th {\n",
       "        vertical-align: top;\n",
       "    }\n",
       "\n",
       "    .dataframe thead th {\n",
       "        text-align: right;\n",
       "    }\n",
       "</style>\n",
       "<table border=\"1\" class=\"dataframe\">\n",
       "  <thead>\n",
       "    <tr style=\"text-align: right;\">\n",
       "      <th></th>\n",
       "      <th>id</th>\n",
       "      <th>count</th>\n",
       "      <th>title</th>\n",
       "    </tr>\n",
       "  </thead>\n",
       "  <tbody>\n",
       "    <tr>\n",
       "      <th>0</th>\n",
       "      <td>1</td>\n",
       "      <td>0</td>\n",
       "      <td>Лидеры иноваций</td>\n",
       "    </tr>\n",
       "    <tr>\n",
       "      <th>1</th>\n",
       "      <td>2</td>\n",
       "      <td>0</td>\n",
       "      <td>Меняющие реальность</td>\n",
       "    </tr>\n",
       "  </tbody>\n",
       "</table>\n",
       "</div>"
      ],
      "text/plain": [
       "   id  count                title\n",
       "0   1      0      Лидеры иноваций\n",
       "1   2      0  Меняющие реальность"
      ]
     },
     "execution_count": 53,
     "metadata": {},
     "output_type": "execute_result"
    }
   ],
   "source": [
    "df_sub"
   ]
  },
  {
   "cell_type": "code",
   "execution_count": 60,
   "metadata": {},
   "outputs": [
    {
     "data": {
      "text/plain": [
       "2"
      ]
     },
     "execution_count": 60,
     "metadata": {},
     "output_type": "execute_result"
    }
   ],
   "source": [
    "title_index = df_sub[df_sub['title'] == 'Меняющие реальность']['id'].iloc[0]"
   ]
  },
  {
   "cell_type": "code",
   "execution_count": null,
   "metadata": {},
   "outputs": [],
   "source": [
    "class PredictController:\n",
    "    def connect_db(self):\n",
    "        self.conn = psycopg2.connect(dbname='ideas', user='ideas', \n",
    "                        password='ideas2022', host='collabro.ru')\n",
    "        self.cursor = conn.cursor()\n",
    "\n",
    "    def get_data_db(self):\n",
    "        q = f'''SELECT subsidies.title AS subsidy, projects.title, subsidies.id,\n",
    "                     subsidy_project.accepted FROM subsidy_project\n",
    "                    LEFT JOIN subsidies ON (subsidy_project.subsidies_id = subsidies.id)\n",
    "                    LEFT JOIN projects ON (subsidy_project.project_id = projects.id);'''\n",
    "        df = pd.read_sql(q, self.conn)\n",
    "        self.len_sub_project = len(df)\n",
    "\n",
    "        df_train = df[df['accepted'] == True]\n",
    "\n",
    "        df_test = pd.read_sql('SELECT * FROM projects', self.conn)\n",
    "        return df_train, df_test\n",
    "        \n",
    "    def write_predictions(self, row):\n",
    "        q = '''SELECT * FROM subsidies'''\n",
    "        df_sub = pd.read_sql(q, self.conn)\n",
    "        project_id = row['id']\n",
    "        predictions = row['predictions']\n",
    "        dsubsidy_project = pd.read_sql('SELECT * FROM subsidy_project', self.conn)\n",
    "        for subsidy in predictions:\n",
    "            subsidy_id = df_sub[df_sub['title'] == subsidy]['id'].iloc[0]\n",
    "            prob = predictions[subsidy]\n",
    "            print(prob, self.len_sub_project)\n",
    "            if len(dsubsidy_project[(dsubsidy_project['project_id'] == project_id) & (dsubsidy_project['subsidies_id'] == subsidy_id)]) == 0:\n",
    "                \n",
    "                self.values.append((int(self.len_sub_project + 1), False, float(prob), int(project_id), int(subsidy_id)))\n",
    "                self.len_sub_project += 1\n",
    "            \n",
    "            self.conn.commit()\n",
    "\n",
    "    def fit_predict(self, categorys='subsidies', join_table='subsidy_project', category_col='title', category_id='subsidies_id'):\n",
    "        self.categorys = categorys\n",
    "        self.join_table=join_table\n",
    "        self.category_col=category_col\n",
    "        self.category_id=category_id\n",
    "        self.connect_db()\n",
    "        df_train, df_test = self.get_data_db()\n",
    "        Predictor = CategoryPredictor(label='title',\n",
    "                              category_columns=['subsidy'], df=df_train)\n",
    "        Predictor.fit_all()\n",
    "        df_predicted = Predictor.predict(labels=df_test, category='subsidy')\n",
    "        self.values = []\n",
    "        df_predicted.apply(self.write_predictions, axis=1)\n",
    "\n",
    "        if self.values != []:\n",
    "            q = '''INSERT INTO subsidy_project (id, accepted, probability, project_id, subsidies_id) VALUES {}'''\n",
    "            records_list_template = ','.join(['%s'] * len(self.values))\n",
    "            insert_query = q.format(records_list_template)\n",
    "            cursor = self.conn.cursor()\n",
    "            cursor.execute(insert_query, self.values)\n",
    "            self.conn.commit()\n",
    "        self.conn.close()\n",
    "        return df_predicted\n",
    "\n",
    "    def server(self):\n",
    "        while True:\n",
    "            self.fit_predict()\n",
    "            time.sleep(10)"
   ]
  }
 ],
 "metadata": {
  "kernelspec": {
   "display_name": "Python 3.10.6 ('p38main')",
   "language": "python",
   "name": "python3"
  },
  "language_info": {
   "codemirror_mode": {
    "name": "ipython",
    "version": 3
   },
   "file_extension": ".py",
   "mimetype": "text/x-python",
   "name": "python",
   "nbconvert_exporter": "python",
   "pygments_lexer": "ipython3",
   "version": "3.10.6"
  },
  "orig_nbformat": 4,
  "vscode": {
   "interpreter": {
    "hash": "193988ecd42e442f9cee84ea12ed92e54fe2523006ba731eda953d3ec53fadff"
   }
  }
 },
 "nbformat": 4,
 "nbformat_minor": 2
}
