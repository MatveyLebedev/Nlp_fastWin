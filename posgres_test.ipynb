{
 "cells": [
  {
   "cell_type": "code",
   "execution_count": 4,
   "metadata": {},
   "outputs": [
    {
     "name": "stdout",
     "output_type": "stream",
     "text": [
      "Requirement already satisfied: psycopg2-binary in /Users/lebedevmatvey/miniforge3/envs/p38main/lib/python3.10/site-packages (2.9.5)\n"
     ]
    }
   ],
   "source": [
    "!pip install psycopg2-binary"
   ]
  },
  {
   "cell_type": "code",
   "execution_count": 16,
   "metadata": {},
   "outputs": [],
   "source": [
    "import psycopg2\n",
    "import pandas as pd\n",
    "import pdb\n",
    "import time\n",
    "from CategoryPredictor import CategoryPredictor"
   ]
  },
  {
   "cell_type": "code",
   "execution_count": 5,
   "metadata": {},
   "outputs": [],
   "source": [
    "import psycopg2\n",
    "import pandas as pd\n",
    "import os\n",
    "\n",
    "DB_HOST=os.environ.get('DB_HOST')\n",
    "DB_NAME=os.environ.get('DB_NAME')\n",
    "DB_USER=os.environ.get('DB_USER')\n",
    "DB_PASSWORD=os.environ.get('DB_PASSWORD')\n",
    "\n",
    "conn = psycopg2.connect(dbname=DB_NAME, user=DB_USER, \n",
    "                        password=DB_USER, host=DB_HOST)\n",
    "cursor = conn.cursor()"
   ]
  },
  {
   "cell_type": "code",
   "execution_count": 7,
   "metadata": {},
   "outputs": [
    {
     "name": "stderr",
     "output_type": "stream",
     "text": [
      "/var/folders/64/nbt92b3d4_n2r41g3gx6lm340000gn/T/ipykernel_5435/2925573434.py:1: UserWarning: pandas only supports SQLAlchemy connectable (engine/connection) or database string URI or sqlite3 DBAPI2 connection. Other DBAPI2 objects are not tested. Please consider using SQLAlchemy.\n",
      "  max_id = pd.read_sql('SELECT max(id) FROM tag_project', conn)['max'][0]\n"
     ]
    },
    {
     "data": {
      "text/plain": [
       "9"
      ]
     },
     "execution_count": 7,
     "metadata": {},
     "output_type": "execute_result"
    }
   ],
   "source": [
    "max_id = pd.read_sql('SELECT max(id) FROM tag_project', conn)['max'][0]\n",
    "max_id"
   ]
  },
  {
   "cell_type": "markdown",
   "metadata": {},
   "source": [
    "subsidies\n",
    "\n",
    "subsidy_project"
   ]
  },
  {
   "cell_type": "code",
   "execution_count": null,
   "metadata": {},
   "outputs": [],
   "source": [
    "f'''SELECT {self.categorys}.title AS subsidy, projects.title, {self.categorys}.id,\n",
    "                    {self.join_table}.accepted FROM {self.join_table}\n",
    "                    LEFT JOIN subsidies ON ({self.join_table}.subsidies_id = {self.categorys}.id)\n",
    "                    LEFT JOIN projects ON ({self.join_table}.project_id = projects.id);'''"
   ]
  },
  {
   "cell_type": "code",
   "execution_count": 7,
   "metadata": {},
   "outputs": [
    {
     "name": "stderr",
     "output_type": "stream",
     "text": [
      "/var/folders/64/nbt92b3d4_n2r41g3gx6lm340000gn/T/ipykernel_77782/2977689797.py:20: UserWarning: pandas only supports SQLAlchemy connectable (engine/connection) or database string URI or sqlite3 DBAPI2 connection. Other DBAPI2 objects are not tested. Please consider using SQLAlchemy.\n",
      "  df = pd.read_sql(q, self.conn)\n",
      "/var/folders/64/nbt92b3d4_n2r41g3gx6lm340000gn/T/ipykernel_77782/2977689797.py:25: UserWarning: pandas only supports SQLAlchemy connectable (engine/connection) or database string URI or sqlite3 DBAPI2 connection. Other DBAPI2 objects are not tested. Please consider using SQLAlchemy.\n",
      "  df_test = pd.read_sql('SELECT * FROM projects', self.conn)\n",
      "/Users/lebedevmatvey/Documents/Nlp_fastWin/CategoryPredictor.py:132: SettingWithCopyWarning: \n",
      "A value is trying to be set on a copy of a slice from a DataFrame.\n",
      "Try using .loc[row_indexer,col_indexer] = value instead\n",
      "\n",
      "See the caveats in the documentation: https://pandas.pydata.org/pandas-docs/stable/user_guide/indexing.html#returning-a-view-versus-a-copy\n",
      "  self.df['words'] = self.df[self.label].apply(self.text_to_words)\n"
     ]
    },
    {
     "name": "stdout",
     "output_type": "stream",
     "text": [
      "score 3 error\n",
      "score 3 error\n",
      "score 3 error\n",
      "score 3 error\n",
      "score 3 error\n",
      "score 3 error\n",
      "score 3 error\n",
      "score 3 error\n",
      "score 3 error\n",
      "score 3 error\n",
      "score 3 error\n",
      "score 3 error\n",
      "score 3 error\n",
      "score 3 error\n",
      "score 3 error\n",
      "score 3 error\n",
      "score 3 error\n",
      "score 3 error\n",
      "score 3 error\n",
      "score 3 error\n",
      "score 3 error\n",
      "score 3 error\n",
      "score 3 error\n",
      "score 3 error\n",
      "score 3 error\n",
      "score 3 error\n",
      "score 3 error\n",
      "score 3 error\n",
      "score 3 error\n",
      "score 3 error\n",
      "score 3 error\n",
      "score 3 error\n",
      "score 3 error\n",
      "score 3 error\n",
      "score 3 error\n",
      "score 3 error\n",
      "score 3 error\n"
     ]
    },
    {
     "name": "stderr",
     "output_type": "stream",
     "text": [
      "/var/folders/64/nbt92b3d4_n2r41g3gx6lm340000gn/T/ipykernel_77782/2977689797.py:30: UserWarning: pandas only supports SQLAlchemy connectable (engine/connection) or database string URI or sqlite3 DBAPI2 connection. Other DBAPI2 objects are not tested. Please consider using SQLAlchemy.\n",
      "  df_sub = pd.read_sql(q, self.conn)\n",
      "/var/folders/64/nbt92b3d4_n2r41g3gx6lm340000gn/T/ipykernel_77782/2977689797.py:33: UserWarning: pandas only supports SQLAlchemy connectable (engine/connection) or database string URI or sqlite3 DBAPI2 connection. Other DBAPI2 objects are not tested. Please consider using SQLAlchemy.\n",
      "  dsubsidy_project = pd.read_sql(f'SELECT * FROM {self.join_table}', self.conn)\n"
     ]
    },
    {
     "name": "stdout",
     "output_type": "stream",
     "text": [
      "8.743723436350955 15\n",
      "0 15\n",
      "0.0 15\n"
     ]
    },
    {
     "name": "stderr",
     "output_type": "stream",
     "text": [
      "/var/folders/64/nbt92b3d4_n2r41g3gx6lm340000gn/T/ipykernel_77782/2977689797.py:30: UserWarning: pandas only supports SQLAlchemy connectable (engine/connection) or database string URI or sqlite3 DBAPI2 connection. Other DBAPI2 objects are not tested. Please consider using SQLAlchemy.\n",
      "  df_sub = pd.read_sql(q, self.conn)\n",
      "/var/folders/64/nbt92b3d4_n2r41g3gx6lm340000gn/T/ipykernel_77782/2977689797.py:33: UserWarning: pandas only supports SQLAlchemy connectable (engine/connection) or database string URI or sqlite3 DBAPI2 connection. Other DBAPI2 objects are not tested. Please consider using SQLAlchemy.\n",
      "  dsubsidy_project = pd.read_sql(f'SELECT * FROM {self.join_table}', self.conn)\n"
     ]
    },
    {
     "name": "stdout",
     "output_type": "stream",
     "text": [
      "45.152951720315535 15\n",
      "0.30631004518348903 15\n",
      "0.0 15\n"
     ]
    },
    {
     "name": "stderr",
     "output_type": "stream",
     "text": [
      "/var/folders/64/nbt92b3d4_n2r41g3gx6lm340000gn/T/ipykernel_77782/2977689797.py:30: UserWarning: pandas only supports SQLAlchemy connectable (engine/connection) or database string URI or sqlite3 DBAPI2 connection. Other DBAPI2 objects are not tested. Please consider using SQLAlchemy.\n",
      "  df_sub = pd.read_sql(q, self.conn)\n",
      "/var/folders/64/nbt92b3d4_n2r41g3gx6lm340000gn/T/ipykernel_77782/2977689797.py:33: UserWarning: pandas only supports SQLAlchemy connectable (engine/connection) or database string URI or sqlite3 DBAPI2 connection. Other DBAPI2 objects are not tested. Please consider using SQLAlchemy.\n",
      "  dsubsidy_project = pd.read_sql(f'SELECT * FROM {self.join_table}', self.conn)\n"
     ]
    },
    {
     "name": "stdout",
     "output_type": "stream",
     "text": [
      "4.200796450364289 15\n",
      "0 15\n",
      "0.0 15\n"
     ]
    },
    {
     "name": "stderr",
     "output_type": "stream",
     "text": [
      "/var/folders/64/nbt92b3d4_n2r41g3gx6lm340000gn/T/ipykernel_77782/2977689797.py:30: UserWarning: pandas only supports SQLAlchemy connectable (engine/connection) or database string URI or sqlite3 DBAPI2 connection. Other DBAPI2 objects are not tested. Please consider using SQLAlchemy.\n",
      "  df_sub = pd.read_sql(q, self.conn)\n",
      "/var/folders/64/nbt92b3d4_n2r41g3gx6lm340000gn/T/ipykernel_77782/2977689797.py:33: UserWarning: pandas only supports SQLAlchemy connectable (engine/connection) or database string URI or sqlite3 DBAPI2 connection. Other DBAPI2 objects are not tested. Please consider using SQLAlchemy.\n",
      "  dsubsidy_project = pd.read_sql(f'SELECT * FROM {self.join_table}', self.conn)\n",
      "/var/folders/64/nbt92b3d4_n2r41g3gx6lm340000gn/T/ipykernel_77782/2977689797.py:30: UserWarning: pandas only supports SQLAlchemy connectable (engine/connection) or database string URI or sqlite3 DBAPI2 connection. Other DBAPI2 objects are not tested. Please consider using SQLAlchemy.\n",
      "  df_sub = pd.read_sql(q, self.conn)\n"
     ]
    },
    {
     "name": "stdout",
     "output_type": "stream",
     "text": [
      "21.38593835685541 15\n",
      "0.5652270793541772 15\n",
      "0.0 15\n"
     ]
    },
    {
     "name": "stderr",
     "output_type": "stream",
     "text": [
      "/var/folders/64/nbt92b3d4_n2r41g3gx6lm340000gn/T/ipykernel_77782/2977689797.py:33: UserWarning: pandas only supports SQLAlchemy connectable (engine/connection) or database string URI or sqlite3 DBAPI2 connection. Other DBAPI2 objects are not tested. Please consider using SQLAlchemy.\n",
      "  dsubsidy_project = pd.read_sql(f'SELECT * FROM {self.join_table}', self.conn)\n"
     ]
    },
    {
     "name": "stdout",
     "output_type": "stream",
     "text": [
      "0.19890262674252532 15\n",
      "0.0947307954224878 15\n",
      "0.0 15\n",
      "SELECT tag.tag_name AS subsidy, projects.title, tag.id,\n",
      "                    tag_project.accepted FROM tag_project\n",
      "                    LEFT JOIN tag ON (tag_project.tag_id = tag.id)\n",
      "                    LEFT JOIN projects ON (tag_project.project_id = projects.id);\n"
     ]
    },
    {
     "name": "stderr",
     "output_type": "stream",
     "text": [
      "/var/folders/64/nbt92b3d4_n2r41g3gx6lm340000gn/T/ipykernel_77782/2977689797.py:20: UserWarning: pandas only supports SQLAlchemy connectable (engine/connection) or database string URI or sqlite3 DBAPI2 connection. Other DBAPI2 objects are not tested. Please consider using SQLAlchemy.\n",
      "  df = pd.read_sql(q, self.conn)\n",
      "/var/folders/64/nbt92b3d4_n2r41g3gx6lm340000gn/T/ipykernel_77782/2977689797.py:25: UserWarning: pandas only supports SQLAlchemy connectable (engine/connection) or database string URI or sqlite3 DBAPI2 connection. Other DBAPI2 objects are not tested. Please consider using SQLAlchemy.\n",
      "  df_test = pd.read_sql('SELECT * FROM projects', self.conn)\n",
      "/Users/lebedevmatvey/Documents/Nlp_fastWin/CategoryPredictor.py:132: SettingWithCopyWarning: \n",
      "A value is trying to be set on a copy of a slice from a DataFrame.\n",
      "Try using .loc[row_indexer,col_indexer] = value instead\n",
      "\n",
      "See the caveats in the documentation: https://pandas.pydata.org/pandas-docs/stable/user_guide/indexing.html#returning-a-view-versus-a-copy\n",
      "  self.df['words'] = self.df[self.label].apply(self.text_to_words)\n",
      "/var/folders/64/nbt92b3d4_n2r41g3gx6lm340000gn/T/ipykernel_77782/2977689797.py:30: UserWarning: pandas only supports SQLAlchemy connectable (engine/connection) or database string URI or sqlite3 DBAPI2 connection. Other DBAPI2 objects are not tested. Please consider using SQLAlchemy.\n",
      "  df_sub = pd.read_sql(q, self.conn)\n",
      "/var/folders/64/nbt92b3d4_n2r41g3gx6lm340000gn/T/ipykernel_77782/2977689797.py:33: UserWarning: pandas only supports SQLAlchemy connectable (engine/connection) or database string URI or sqlite3 DBAPI2 connection. Other DBAPI2 objects are not tested. Please consider using SQLAlchemy.\n",
      "  dsubsidy_project = pd.read_sql(f'SELECT * FROM {self.join_table}', self.conn)\n"
     ]
    },
    {
     "name": "stdout",
     "output_type": "stream",
     "text": [
      "10.918853332200625 15\n",
      "0.0 15\n"
     ]
    },
    {
     "name": "stderr",
     "output_type": "stream",
     "text": [
      "/var/folders/64/nbt92b3d4_n2r41g3gx6lm340000gn/T/ipykernel_77782/2977689797.py:30: UserWarning: pandas only supports SQLAlchemy connectable (engine/connection) or database string URI or sqlite3 DBAPI2 connection. Other DBAPI2 objects are not tested. Please consider using SQLAlchemy.\n",
      "  df_sub = pd.read_sql(q, self.conn)\n",
      "/var/folders/64/nbt92b3d4_n2r41g3gx6lm340000gn/T/ipykernel_77782/2977689797.py:33: UserWarning: pandas only supports SQLAlchemy connectable (engine/connection) or database string URI or sqlite3 DBAPI2 connection. Other DBAPI2 objects are not tested. Please consider using SQLAlchemy.\n",
      "  dsubsidy_project = pd.read_sql(f'SELECT * FROM {self.join_table}', self.conn)\n"
     ]
    },
    {
     "name": "stdout",
     "output_type": "stream",
     "text": [
      "45.8238653359494 15\n",
      "0.0 15\n"
     ]
    },
    {
     "name": "stderr",
     "output_type": "stream",
     "text": [
      "/var/folders/64/nbt92b3d4_n2r41g3gx6lm340000gn/T/ipykernel_77782/2977689797.py:30: UserWarning: pandas only supports SQLAlchemy connectable (engine/connection) or database string URI or sqlite3 DBAPI2 connection. Other DBAPI2 objects are not tested. Please consider using SQLAlchemy.\n",
      "  df_sub = pd.read_sql(q, self.conn)\n",
      "/var/folders/64/nbt92b3d4_n2r41g3gx6lm340000gn/T/ipykernel_77782/2977689797.py:33: UserWarning: pandas only supports SQLAlchemy connectable (engine/connection) or database string URI or sqlite3 DBAPI2 connection. Other DBAPI2 objects are not tested. Please consider using SQLAlchemy.\n",
      "  dsubsidy_project = pd.read_sql(f'SELECT * FROM {self.join_table}', self.conn)\n"
     ]
    },
    {
     "name": "stdout",
     "output_type": "stream",
     "text": [
      "0.0 15\n",
      "0.0 15\n"
     ]
    },
    {
     "name": "stderr",
     "output_type": "stream",
     "text": [
      "/var/folders/64/nbt92b3d4_n2r41g3gx6lm340000gn/T/ipykernel_77782/2977689797.py:30: UserWarning: pandas only supports SQLAlchemy connectable (engine/connection) or database string URI or sqlite3 DBAPI2 connection. Other DBAPI2 objects are not tested. Please consider using SQLAlchemy.\n",
      "  df_sub = pd.read_sql(q, self.conn)\n",
      "/var/folders/64/nbt92b3d4_n2r41g3gx6lm340000gn/T/ipykernel_77782/2977689797.py:33: UserWarning: pandas only supports SQLAlchemy connectable (engine/connection) or database string URI or sqlite3 DBAPI2 connection. Other DBAPI2 objects are not tested. Please consider using SQLAlchemy.\n",
      "  dsubsidy_project = pd.read_sql(f'SELECT * FROM {self.join_table}', self.conn)\n"
     ]
    },
    {
     "name": "stdout",
     "output_type": "stream",
     "text": [
      "4.981049792006358 15\n",
      "2.0485000891963243 15\n"
     ]
    },
    {
     "name": "stderr",
     "output_type": "stream",
     "text": [
      "/var/folders/64/nbt92b3d4_n2r41g3gx6lm340000gn/T/ipykernel_77782/2977689797.py:30: UserWarning: pandas only supports SQLAlchemy connectable (engine/connection) or database string URI or sqlite3 DBAPI2 connection. Other DBAPI2 objects are not tested. Please consider using SQLAlchemy.\n",
      "  df_sub = pd.read_sql(q, self.conn)\n",
      "/var/folders/64/nbt92b3d4_n2r41g3gx6lm340000gn/T/ipykernel_77782/2977689797.py:33: UserWarning: pandas only supports SQLAlchemy connectable (engine/connection) or database string URI or sqlite3 DBAPI2 connection. Other DBAPI2 objects are not tested. Please consider using SQLAlchemy.\n",
      "  dsubsidy_project = pd.read_sql(f'SELECT * FROM {self.join_table}', self.conn)\n"
     ]
    },
    {
     "name": "stdout",
     "output_type": "stream",
     "text": [
      "1.5836595876084634 15\n",
      "0.3353580036515372 15\n"
     ]
    },
    {
     "name": "stderr",
     "output_type": "stream",
     "text": [
      "/var/folders/64/nbt92b3d4_n2r41g3gx6lm340000gn/T/ipykernel_77782/2977689797.py:20: UserWarning: pandas only supports SQLAlchemy connectable (engine/connection) or database string URI or sqlite3 DBAPI2 connection. Other DBAPI2 objects are not tested. Please consider using SQLAlchemy.\n",
      "  df = pd.read_sql(q, self.conn)\n",
      "/var/folders/64/nbt92b3d4_n2r41g3gx6lm340000gn/T/ipykernel_77782/2977689797.py:25: UserWarning: pandas only supports SQLAlchemy connectable (engine/connection) or database string URI or sqlite3 DBAPI2 connection. Other DBAPI2 objects are not tested. Please consider using SQLAlchemy.\n",
      "  df_test = pd.read_sql('SELECT * FROM projects', self.conn)\n",
      "/Users/lebedevmatvey/Documents/Nlp_fastWin/CategoryPredictor.py:132: SettingWithCopyWarning: \n",
      "A value is trying to be set on a copy of a slice from a DataFrame.\n",
      "Try using .loc[row_indexer,col_indexer] = value instead\n",
      "\n",
      "See the caveats in the documentation: https://pandas.pydata.org/pandas-docs/stable/user_guide/indexing.html#returning-a-view-versus-a-copy\n",
      "  self.df['words'] = self.df[self.label].apply(self.text_to_words)\n",
      "/var/folders/64/nbt92b3d4_n2r41g3gx6lm340000gn/T/ipykernel_77782/2977689797.py:30: UserWarning: pandas only supports SQLAlchemy connectable (engine/connection) or database string URI or sqlite3 DBAPI2 connection. Other DBAPI2 objects are not tested. Please consider using SQLAlchemy.\n",
      "  df_sub = pd.read_sql(q, self.conn)\n"
     ]
    },
    {
     "name": "stdout",
     "output_type": "stream",
     "text": [
      "score 3 error\n",
      "score 3 error\n",
      "score 3 error\n",
      "score 3 error\n",
      "score 3 error\n",
      "score 3 error\n",
      "score 3 error\n",
      "score 3 error\n",
      "score 3 error\n",
      "score 3 error\n",
      "score 3 error\n",
      "score 3 error\n",
      "score 3 error\n",
      "score 3 error\n",
      "score 3 error\n",
      "score 3 error\n",
      "score 3 error\n",
      "score 3 error\n",
      "score 3 error\n",
      "score 3 error\n",
      "score 3 error\n",
      "score 3 error\n",
      "score 3 error\n",
      "score 3 error\n",
      "score 3 error\n",
      "score 3 error\n",
      "score 3 error\n",
      "score 3 error\n",
      "score 3 error\n",
      "score 3 error\n",
      "score 3 error\n",
      "score 3 error\n",
      "score 3 error\n",
      "score 3 error\n",
      "score 3 error\n",
      "score 3 error\n",
      "score 3 error\n"
     ]
    },
    {
     "name": "stderr",
     "output_type": "stream",
     "text": [
      "/var/folders/64/nbt92b3d4_n2r41g3gx6lm340000gn/T/ipykernel_77782/2977689797.py:33: UserWarning: pandas only supports SQLAlchemy connectable (engine/connection) or database string URI or sqlite3 DBAPI2 connection. Other DBAPI2 objects are not tested. Please consider using SQLAlchemy.\n",
      "  dsubsidy_project = pd.read_sql(f'SELECT * FROM {self.join_table}', self.conn)\n",
      "/var/folders/64/nbt92b3d4_n2r41g3gx6lm340000gn/T/ipykernel_77782/2977689797.py:30: UserWarning: pandas only supports SQLAlchemy connectable (engine/connection) or database string URI or sqlite3 DBAPI2 connection. Other DBAPI2 objects are not tested. Please consider using SQLAlchemy.\n",
      "  df_sub = pd.read_sql(q, self.conn)\n"
     ]
    },
    {
     "name": "stdout",
     "output_type": "stream",
     "text": [
      "8.743723436350955 15\n",
      "0 15\n",
      "0.0 15\n"
     ]
    },
    {
     "name": "stderr",
     "output_type": "stream",
     "text": [
      "/var/folders/64/nbt92b3d4_n2r41g3gx6lm340000gn/T/ipykernel_77782/2977689797.py:33: UserWarning: pandas only supports SQLAlchemy connectable (engine/connection) or database string URI or sqlite3 DBAPI2 connection. Other DBAPI2 objects are not tested. Please consider using SQLAlchemy.\n",
      "  dsubsidy_project = pd.read_sql(f'SELECT * FROM {self.join_table}', self.conn)\n",
      "/var/folders/64/nbt92b3d4_n2r41g3gx6lm340000gn/T/ipykernel_77782/2977689797.py:30: UserWarning: pandas only supports SQLAlchemy connectable (engine/connection) or database string URI or sqlite3 DBAPI2 connection. Other DBAPI2 objects are not tested. Please consider using SQLAlchemy.\n",
      "  df_sub = pd.read_sql(q, self.conn)\n",
      "/var/folders/64/nbt92b3d4_n2r41g3gx6lm340000gn/T/ipykernel_77782/2977689797.py:33: UserWarning: pandas only supports SQLAlchemy connectable (engine/connection) or database string URI or sqlite3 DBAPI2 connection. Other DBAPI2 objects are not tested. Please consider using SQLAlchemy.\n",
      "  dsubsidy_project = pd.read_sql(f'SELECT * FROM {self.join_table}', self.conn)\n"
     ]
    },
    {
     "name": "stdout",
     "output_type": "stream",
     "text": [
      "45.152951720315535 15\n",
      "0.30631004518348903 15\n",
      "0.0 15\n",
      "4.200796450364289 15\n",
      "0 15\n",
      "0.0 15\n",
      "21.38593835685541 15\n"
     ]
    },
    {
     "name": "stderr",
     "output_type": "stream",
     "text": [
      "/var/folders/64/nbt92b3d4_n2r41g3gx6lm340000gn/T/ipykernel_77782/2977689797.py:30: UserWarning: pandas only supports SQLAlchemy connectable (engine/connection) or database string URI or sqlite3 DBAPI2 connection. Other DBAPI2 objects are not tested. Please consider using SQLAlchemy.\n",
      "  df_sub = pd.read_sql(q, self.conn)\n",
      "/var/folders/64/nbt92b3d4_n2r41g3gx6lm340000gn/T/ipykernel_77782/2977689797.py:33: UserWarning: pandas only supports SQLAlchemy connectable (engine/connection) or database string URI or sqlite3 DBAPI2 connection. Other DBAPI2 objects are not tested. Please consider using SQLAlchemy.\n",
      "  dsubsidy_project = pd.read_sql(f'SELECT * FROM {self.join_table}', self.conn)\n"
     ]
    },
    {
     "name": "stdout",
     "output_type": "stream",
     "text": [
      "0.5652270793541772 15\n",
      "0.0 15\n"
     ]
    },
    {
     "name": "stderr",
     "output_type": "stream",
     "text": [
      "/var/folders/64/nbt92b3d4_n2r41g3gx6lm340000gn/T/ipykernel_77782/2977689797.py:30: UserWarning: pandas only supports SQLAlchemy connectable (engine/connection) or database string URI or sqlite3 DBAPI2 connection. Other DBAPI2 objects are not tested. Please consider using SQLAlchemy.\n",
      "  df_sub = pd.read_sql(q, self.conn)\n",
      "/var/folders/64/nbt92b3d4_n2r41g3gx6lm340000gn/T/ipykernel_77782/2977689797.py:33: UserWarning: pandas only supports SQLAlchemy connectable (engine/connection) or database string URI or sqlite3 DBAPI2 connection. Other DBAPI2 objects are not tested. Please consider using SQLAlchemy.\n",
      "  dsubsidy_project = pd.read_sql(f'SELECT * FROM {self.join_table}', self.conn)\n"
     ]
    },
    {
     "name": "stdout",
     "output_type": "stream",
     "text": [
      "0.19890262674252532 15\n",
      "0.0947307954224878 15\n",
      "0.0 15\n"
     ]
    },
    {
     "ename": "KeyboardInterrupt",
     "evalue": "",
     "output_type": "error",
     "traceback": [
      "\u001b[0;31m---------------------------------------------------------------------------\u001b[0m",
      "\u001b[0;31mKeyboardInterrupt\u001b[0m                         Traceback (most recent call last)",
      "\u001b[1;32m/Users/lebedevmatvey/Documents/Nlp_fastWin/posgres_test.ipynb Cell 6\u001b[0m in \u001b[0;36m<cell line: 79>\u001b[0;34m()\u001b[0m\n\u001b[1;32m     <a href='vscode-notebook-cell:/Users/lebedevmatvey/Documents/Nlp_fastWin/posgres_test.ipynb#W5sZmlsZQ%3D%3D?line=75'>76</a>\u001b[0m             time\u001b[39m.\u001b[39msleep(\u001b[39m10\u001b[39m)\n\u001b[1;32m     <a href='vscode-notebook-cell:/Users/lebedevmatvey/Documents/Nlp_fastWin/posgres_test.ipynb#W5sZmlsZQ%3D%3D?line=77'>78</a>\u001b[0m Controller \u001b[39m=\u001b[39m PredictController()\n\u001b[0;32m---> <a href='vscode-notebook-cell:/Users/lebedevmatvey/Documents/Nlp_fastWin/posgres_test.ipynb#W5sZmlsZQ%3D%3D?line=78'>79</a>\u001b[0m df_pred \u001b[39m=\u001b[39m Controller\u001b[39m.\u001b[39;49mserver()\n",
      "\u001b[1;32m/Users/lebedevmatvey/Documents/Nlp_fastWin/posgres_test.ipynb Cell 6\u001b[0m in \u001b[0;36mPredictController.server\u001b[0;34m(self)\u001b[0m\n\u001b[1;32m     <a href='vscode-notebook-cell:/Users/lebedevmatvey/Documents/Nlp_fastWin/posgres_test.ipynb#W5sZmlsZQ%3D%3D?line=69'>70</a>\u001b[0m \u001b[39mself\u001b[39m\u001b[39m.\u001b[39mconnect_db()\n\u001b[1;32m     <a href='vscode-notebook-cell:/Users/lebedevmatvey/Documents/Nlp_fastWin/posgres_test.ipynb#W5sZmlsZQ%3D%3D?line=70'>71</a>\u001b[0m \u001b[39mself\u001b[39m\u001b[39m.\u001b[39mfit_predict(categorys\u001b[39m=\u001b[39m\u001b[39m'\u001b[39m\u001b[39msubsidies\u001b[39m\u001b[39m'\u001b[39m, join_table\u001b[39m=\u001b[39m\u001b[39m'\u001b[39m\u001b[39msubsidy_project\u001b[39m\u001b[39m'\u001b[39m, category_col\u001b[39m=\u001b[39m\u001b[39m'\u001b[39m\u001b[39mtitle\u001b[39m\u001b[39m'\u001b[39m, category_id\u001b[39m=\u001b[39m\u001b[39m'\u001b[39m\u001b[39msubsidies_id\u001b[39m\u001b[39m'\u001b[39m)\n\u001b[0;32m---> <a href='vscode-notebook-cell:/Users/lebedevmatvey/Documents/Nlp_fastWin/posgres_test.ipynb#W5sZmlsZQ%3D%3D?line=71'>72</a>\u001b[0m time\u001b[39m.\u001b[39;49msleep(\u001b[39m1\u001b[39;49m)\n\u001b[1;32m     <a href='vscode-notebook-cell:/Users/lebedevmatvey/Documents/Nlp_fastWin/posgres_test.ipynb#W5sZmlsZQ%3D%3D?line=72'>73</a>\u001b[0m \u001b[39mself\u001b[39m\u001b[39m.\u001b[39mfit_predict(categorys\u001b[39m=\u001b[39m\u001b[39m'\u001b[39m\u001b[39mtag\u001b[39m\u001b[39m'\u001b[39m, join_table\u001b[39m=\u001b[39m\u001b[39m'\u001b[39m\u001b[39mtag_project\u001b[39m\u001b[39m'\u001b[39m, category_col\u001b[39m=\u001b[39m\u001b[39m'\u001b[39m\u001b[39mtag_name\u001b[39m\u001b[39m'\u001b[39m, category_id\u001b[39m=\u001b[39m\u001b[39m'\u001b[39m\u001b[39mtag_id\u001b[39m\u001b[39m'\u001b[39m)\n\u001b[1;32m     <a href='vscode-notebook-cell:/Users/lebedevmatvey/Documents/Nlp_fastWin/posgres_test.ipynb#W5sZmlsZQ%3D%3D?line=73'>74</a>\u001b[0m time\u001b[39m.\u001b[39msleep(\u001b[39m1\u001b[39m)\n",
      "\u001b[0;31mKeyboardInterrupt\u001b[0m: "
     ]
    }
   ],
   "source": [
    "import psycopg2\n",
    "import pandas as pd\n",
    "import pdb\n",
    "import time\n",
    "from CategoryPredictor import CategoryPredictor\n",
    "\n",
    "class PredictController:\n",
    "    def connect_db(self):\n",
    "        self.conn = psycopg2.connect(dbname='ideas', user='ideas', \n",
    "                        password='ideas2022', host='collabro.ru')\n",
    "        self.cursor = self.conn.cursor()\n",
    "\n",
    "    def get_data_db(self):\n",
    "        q = f'''SELECT {self.categorys}.{self.category_col} AS subsidy, projects.title, {self.categorys}.id,\n",
    "                    {self.join_table}.accepted FROM {self.join_table}\n",
    "                    LEFT JOIN {self.categorys} ON ({self.join_table}.{self.category_id} = {self.categorys}.id)\n",
    "                    LEFT JOIN projects ON ({self.join_table}.project_id = projects.id);'''\n",
    "        if self.categorys == 'tag':\n",
    "            print(q)\n",
    "        df = pd.read_sql(q, self.conn)\n",
    "        self.len_sub_project = len(df)\n",
    "\n",
    "        df_train = df[df['accepted'] == True]\n",
    "\n",
    "        df_test = pd.read_sql('SELECT * FROM projects', self.conn)\n",
    "        return df_train, df_test\n",
    "        \n",
    "    def write_predictions(self, row):\n",
    "        q = f'''SELECT * FROM {self.categorys}'''\n",
    "        df_sub = pd.read_sql(q, self.conn)\n",
    "        project_id = row['id']\n",
    "        predictions = row['predictions']\n",
    "        dsubsidy_project = pd.read_sql(f'SELECT * FROM {self.join_table}', self.conn)\n",
    "        for subsidy in predictions:\n",
    "            subsidy_id = df_sub[df_sub[self.category_col] == subsidy]['id'].iloc[0]\n",
    "            prob = predictions[subsidy]\n",
    "            print(prob, self.len_sub_project)\n",
    "            if len(dsubsidy_project[(dsubsidy_project['project_id'] == project_id) & (dsubsidy_project[self.category_id] == subsidy_id)]) == 0:\n",
    "                \n",
    "                self.values.append((int(self.len_sub_project + 1), False, float(prob), int(project_id), int(subsidy_id)))\n",
    "                self.len_sub_project += 1\n",
    "            \n",
    "            self.conn.commit()\n",
    "\n",
    "    def fit_predict(self, categorys='subsidies', join_table='subsidy_project', category_col='title', category_id='subsidies_id'):\n",
    "        self.categorys = categorys\n",
    "        self.join_table=join_table\n",
    "        self.category_col=category_col\n",
    "        self.category_id=category_id\n",
    "        df_train, df_test = self.get_data_db()\n",
    "        Predictor = CategoryPredictor(label='title',    \n",
    "                              category_columns=['subsidy'], df=df_train)\n",
    "        Predictor.fit_all()\n",
    "        df_predicted = Predictor.predict(labels=df_test, category='subsidy')\n",
    "        self.values = []\n",
    "        df_predicted.apply(self.write_predictions, axis=1)\n",
    "\n",
    "        if self.values != []:\n",
    "            q = f'''INSERT INTO {self.join_table} (id, accepted, probability, project_id, {self.category_id}) VALUES ''' + '{}'\n",
    "            records_list_template = ','.join(['%s'] * len(self.values))\n",
    "            insert_query = q.format(records_list_template)\n",
    "            cursor = self.conn.cursor()\n",
    "            cursor.execute(insert_query, self.values)\n",
    "            self.conn.commit()\n",
    "        \n",
    "        return df_predicted\n",
    "\n",
    "    def server(self):\n",
    "        while True:\n",
    "            self.connect_db()\n",
    "            self.fit_predict(categorys='subsidies', join_table='subsidy_project', category_col='title', category_id='subsidies_id')\n",
    "            time.sleep(1)\n",
    "            self.fit_predict(categorys='tag', join_table='tag_project', category_col='tag_name', category_id='tag_id')\n",
    "            time.sleep(1)\n",
    "            self.conn.close()\n",
    "            time.sleep(10)\n",
    "\n",
    "Controller = PredictController()\n",
    "df_pred = Controller.server()"
   ]
  },
  {
   "cell_type": "code",
   "execution_count": 4,
   "metadata": {},
   "outputs": [
    {
     "data": {
      "text/plain": [
       "<connection object at 0x13c716e30; dsn: 'user=ideas password=xxx dbname=ideas host=collabro.ru', closed: 0>"
      ]
     },
     "execution_count": 4,
     "metadata": {},
     "output_type": "execute_result"
    }
   ],
   "source": [
    "Controller.conn"
   ]
  },
  {
   "cell_type": "code",
   "execution_count": 8,
   "metadata": {},
   "outputs": [
    {
     "name": "stderr",
     "output_type": "stream",
     "text": [
      "/var/folders/64/nbt92b3d4_n2r41g3gx6lm340000gn/T/ipykernel_74450/3455301127.py:14: UserWarning: pandas only supports SQLAlchemy connectable (engine/connection) or database string URI or sqlite3 DBAPI2 connection. Other DBAPI2 objects are not tested. Please consider using SQLAlchemy.\n",
      "  df = pd.read_sql(q, self.conn)\n",
      "/var/folders/64/nbt92b3d4_n2r41g3gx6lm340000gn/T/ipykernel_74450/3455301127.py:19: UserWarning: pandas only supports SQLAlchemy connectable (engine/connection) or database string URI or sqlite3 DBAPI2 connection. Other DBAPI2 objects are not tested. Please consider using SQLAlchemy.\n",
      "  df_test = pd.read_sql('SELECT * FROM projects', self.conn)\n",
      "/Users/lebedevmatvey/Documents/Nlp_fastWin/CategoryPredictor.py:129: SettingWithCopyWarning: \n",
      "A value is trying to be set on a copy of a slice from a DataFrame.\n",
      "Try using .loc[row_indexer,col_indexer] = value instead\n",
      "\n",
      "See the caveats in the documentation: https://pandas.pydata.org/pandas-docs/stable/user_guide/indexing.html#returning-a-view-versus-a-copy\n",
      "  self.df['words'] = self.df[self.label].apply(self.text_to_words)\n",
      "/var/folders/64/nbt92b3d4_n2r41g3gx6lm340000gn/T/ipykernel_74450/3455301127.py:24: UserWarning: pandas only supports SQLAlchemy connectable (engine/connection) or database string URI or sqlite3 DBAPI2 connection. Other DBAPI2 objects are not tested. Please consider using SQLAlchemy.\n",
      "  df_sub = pd.read_sql(q, self.conn)\n",
      "/var/folders/64/nbt92b3d4_n2r41g3gx6lm340000gn/T/ipykernel_74450/3455301127.py:27: UserWarning: pandas only supports SQLAlchemy connectable (engine/connection) or database string URI or sqlite3 DBAPI2 connection. Other DBAPI2 objects are not tested. Please consider using SQLAlchemy.\n",
      "  dsubsidy_project = pd.read_sql(f'SELECT * FROM {self.join_table}', self.conn)\n"
     ]
    },
    {
     "name": "stdout",
     "output_type": "stream",
     "text": [
      "8.743723436350955 15\n",
      "2.0660720616806016 15\n",
      "0.0 15\n"
     ]
    },
    {
     "name": "stderr",
     "output_type": "stream",
     "text": [
      "/var/folders/64/nbt92b3d4_n2r41g3gx6lm340000gn/T/ipykernel_74450/3455301127.py:24: UserWarning: pandas only supports SQLAlchemy connectable (engine/connection) or database string URI or sqlite3 DBAPI2 connection. Other DBAPI2 objects are not tested. Please consider using SQLAlchemy.\n",
      "  df_sub = pd.read_sql(q, self.conn)\n",
      "/var/folders/64/nbt92b3d4_n2r41g3gx6lm340000gn/T/ipykernel_74450/3455301127.py:27: UserWarning: pandas only supports SQLAlchemy connectable (engine/connection) or database string URI or sqlite3 DBAPI2 connection. Other DBAPI2 objects are not tested. Please consider using SQLAlchemy.\n",
      "  dsubsidy_project = pd.read_sql(f'SELECT * FROM {self.join_table}', self.conn)\n"
     ]
    },
    {
     "name": "stdout",
     "output_type": "stream",
     "text": [
      "45.15295172031554 15\n",
      "0.30631004518348903 15\n",
      "0.062106374599617285 15\n"
     ]
    },
    {
     "name": "stderr",
     "output_type": "stream",
     "text": [
      "/var/folders/64/nbt92b3d4_n2r41g3gx6lm340000gn/T/ipykernel_74450/3455301127.py:24: UserWarning: pandas only supports SQLAlchemy connectable (engine/connection) or database string URI or sqlite3 DBAPI2 connection. Other DBAPI2 objects are not tested. Please consider using SQLAlchemy.\n",
      "  df_sub = pd.read_sql(q, self.conn)\n",
      "/var/folders/64/nbt92b3d4_n2r41g3gx6lm340000gn/T/ipykernel_74450/3455301127.py:27: UserWarning: pandas only supports SQLAlchemy connectable (engine/connection) or database string URI or sqlite3 DBAPI2 connection. Other DBAPI2 objects are not tested. Please consider using SQLAlchemy.\n",
      "  dsubsidy_project = pd.read_sql(f'SELECT * FROM {self.join_table}', self.conn)\n"
     ]
    },
    {
     "name": "stdout",
     "output_type": "stream",
     "text": [
      "4.200796450364289 15\n",
      "0.0 15\n",
      "0.0 15\n"
     ]
    },
    {
     "name": "stderr",
     "output_type": "stream",
     "text": [
      "/var/folders/64/nbt92b3d4_n2r41g3gx6lm340000gn/T/ipykernel_74450/3455301127.py:24: UserWarning: pandas only supports SQLAlchemy connectable (engine/connection) or database string URI or sqlite3 DBAPI2 connection. Other DBAPI2 objects are not tested. Please consider using SQLAlchemy.\n",
      "  df_sub = pd.read_sql(q, self.conn)\n",
      "/var/folders/64/nbt92b3d4_n2r41g3gx6lm340000gn/T/ipykernel_74450/3455301127.py:27: UserWarning: pandas only supports SQLAlchemy connectable (engine/connection) or database string URI or sqlite3 DBAPI2 connection. Other DBAPI2 objects are not tested. Please consider using SQLAlchemy.\n",
      "  dsubsidy_project = pd.read_sql(f'SELECT * FROM {self.join_table}', self.conn)\n"
     ]
    },
    {
     "name": "stdout",
     "output_type": "stream",
     "text": [
      "21.38593835685541 15\n",
      "0.5652270793541772 15\n",
      "0.035489356914067016 15\n"
     ]
    },
    {
     "name": "stderr",
     "output_type": "stream",
     "text": [
      "/var/folders/64/nbt92b3d4_n2r41g3gx6lm340000gn/T/ipykernel_74450/3455301127.py:24: UserWarning: pandas only supports SQLAlchemy connectable (engine/connection) or database string URI or sqlite3 DBAPI2 connection. Other DBAPI2 objects are not tested. Please consider using SQLAlchemy.\n",
      "  df_sub = pd.read_sql(q, self.conn)\n",
      "/var/folders/64/nbt92b3d4_n2r41g3gx6lm340000gn/T/ipykernel_74450/3455301127.py:27: UserWarning: pandas only supports SQLAlchemy connectable (engine/connection) or database string URI or sqlite3 DBAPI2 connection. Other DBAPI2 objects are not tested. Please consider using SQLAlchemy.\n",
      "  dsubsidy_project = pd.read_sql(f'SELECT * FROM {self.join_table}', self.conn)\n"
     ]
    },
    {
     "name": "stdout",
     "output_type": "stream",
     "text": [
      "23.82323871512987 15\n",
      "0.19890262674252532 15\n",
      "0.0947307954224878 15\n"
     ]
    }
   ],
   "source": [
    "Controller = PredictController()\n",
    "df_pred = Controller.fit_predict()"
   ]
  },
  {
   "cell_type": "code",
   "execution_count": 9,
   "metadata": {},
   "outputs": [
    {
     "name": "stderr",
     "output_type": "stream",
     "text": [
      "/var/folders/64/nbt92b3d4_n2r41g3gx6lm340000gn/T/ipykernel_74450/3455301127.py:14: UserWarning: pandas only supports SQLAlchemy connectable (engine/connection) or database string URI or sqlite3 DBAPI2 connection. Other DBAPI2 objects are not tested. Please consider using SQLAlchemy.\n",
      "  df = pd.read_sql(q, self.conn)\n",
      "/var/folders/64/nbt92b3d4_n2r41g3gx6lm340000gn/T/ipykernel_74450/3455301127.py:19: UserWarning: pandas only supports SQLAlchemy connectable (engine/connection) or database string URI or sqlite3 DBAPI2 connection. Other DBAPI2 objects are not tested. Please consider using SQLAlchemy.\n",
      "  df_test = pd.read_sql('SELECT * FROM projects', self.conn)\n",
      "/Users/lebedevmatvey/Documents/Nlp_fastWin/CategoryPredictor.py:129: SettingWithCopyWarning: \n",
      "A value is trying to be set on a copy of a slice from a DataFrame.\n",
      "Try using .loc[row_indexer,col_indexer] = value instead\n",
      "\n",
      "See the caveats in the documentation: https://pandas.pydata.org/pandas-docs/stable/user_guide/indexing.html#returning-a-view-versus-a-copy\n",
      "  self.df['words'] = self.df[self.label].apply(self.text_to_words)\n",
      "/var/folders/64/nbt92b3d4_n2r41g3gx6lm340000gn/T/ipykernel_74450/3455301127.py:24: UserWarning: pandas only supports SQLAlchemy connectable (engine/connection) or database string URI or sqlite3 DBAPI2 connection. Other DBAPI2 objects are not tested. Please consider using SQLAlchemy.\n",
      "  df_sub = pd.read_sql(q, self.conn)\n",
      "/var/folders/64/nbt92b3d4_n2r41g3gx6lm340000gn/T/ipykernel_74450/3455301127.py:27: UserWarning: pandas only supports SQLAlchemy connectable (engine/connection) or database string URI or sqlite3 DBAPI2 connection. Other DBAPI2 objects are not tested. Please consider using SQLAlchemy.\n",
      "  dsubsidy_project = pd.read_sql(f'SELECT * FROM {self.join_table}', self.conn)\n",
      "/var/folders/64/nbt92b3d4_n2r41g3gx6lm340000gn/T/ipykernel_74450/3455301127.py:24: UserWarning: pandas only supports SQLAlchemy connectable (engine/connection) or database string URI or sqlite3 DBAPI2 connection. Other DBAPI2 objects are not tested. Please consider using SQLAlchemy.\n",
      "  df_sub = pd.read_sql(q, self.conn)\n"
     ]
    },
    {
     "name": "stdout",
     "output_type": "stream",
     "text": [
      "8.743723436350955 15\n",
      "2.0660720616806016 15\n",
      "0.0 15\n"
     ]
    },
    {
     "name": "stderr",
     "output_type": "stream",
     "text": [
      "/var/folders/64/nbt92b3d4_n2r41g3gx6lm340000gn/T/ipykernel_74450/3455301127.py:27: UserWarning: pandas only supports SQLAlchemy connectable (engine/connection) or database string URI or sqlite3 DBAPI2 connection. Other DBAPI2 objects are not tested. Please consider using SQLAlchemy.\n",
      "  dsubsidy_project = pd.read_sql(f'SELECT * FROM {self.join_table}', self.conn)\n",
      "/var/folders/64/nbt92b3d4_n2r41g3gx6lm340000gn/T/ipykernel_74450/3455301127.py:24: UserWarning: pandas only supports SQLAlchemy connectable (engine/connection) or database string URI or sqlite3 DBAPI2 connection. Other DBAPI2 objects are not tested. Please consider using SQLAlchemy.\n",
      "  df_sub = pd.read_sql(q, self.conn)\n"
     ]
    },
    {
     "name": "stdout",
     "output_type": "stream",
     "text": [
      "45.15295172031554 15\n",
      "0.30631004518348903 15\n",
      "0.062106374599617285 15\n"
     ]
    },
    {
     "name": "stderr",
     "output_type": "stream",
     "text": [
      "/var/folders/64/nbt92b3d4_n2r41g3gx6lm340000gn/T/ipykernel_74450/3455301127.py:27: UserWarning: pandas only supports SQLAlchemy connectable (engine/connection) or database string URI or sqlite3 DBAPI2 connection. Other DBAPI2 objects are not tested. Please consider using SQLAlchemy.\n",
      "  dsubsidy_project = pd.read_sql(f'SELECT * FROM {self.join_table}', self.conn)\n",
      "/var/folders/64/nbt92b3d4_n2r41g3gx6lm340000gn/T/ipykernel_74450/3455301127.py:24: UserWarning: pandas only supports SQLAlchemy connectable (engine/connection) or database string URI or sqlite3 DBAPI2 connection. Other DBAPI2 objects are not tested. Please consider using SQLAlchemy.\n",
      "  df_sub = pd.read_sql(q, self.conn)\n"
     ]
    },
    {
     "name": "stdout",
     "output_type": "stream",
     "text": [
      "4.200796450364289 15\n",
      "0.0 15\n",
      "0.0 15\n"
     ]
    },
    {
     "name": "stderr",
     "output_type": "stream",
     "text": [
      "/var/folders/64/nbt92b3d4_n2r41g3gx6lm340000gn/T/ipykernel_74450/3455301127.py:27: UserWarning: pandas only supports SQLAlchemy connectable (engine/connection) or database string URI or sqlite3 DBAPI2 connection. Other DBAPI2 objects are not tested. Please consider using SQLAlchemy.\n",
      "  dsubsidy_project = pd.read_sql(f'SELECT * FROM {self.join_table}', self.conn)\n",
      "/var/folders/64/nbt92b3d4_n2r41g3gx6lm340000gn/T/ipykernel_74450/3455301127.py:24: UserWarning: pandas only supports SQLAlchemy connectable (engine/connection) or database string URI or sqlite3 DBAPI2 connection. Other DBAPI2 objects are not tested. Please consider using SQLAlchemy.\n",
      "  df_sub = pd.read_sql(q, self.conn)\n"
     ]
    },
    {
     "name": "stdout",
     "output_type": "stream",
     "text": [
      "21.38593835685541 15\n",
      "0.5652270793541772 15\n",
      "0.035489356914067016 15\n"
     ]
    },
    {
     "name": "stderr",
     "output_type": "stream",
     "text": [
      "/var/folders/64/nbt92b3d4_n2r41g3gx6lm340000gn/T/ipykernel_74450/3455301127.py:27: UserWarning: pandas only supports SQLAlchemy connectable (engine/connection) or database string URI or sqlite3 DBAPI2 connection. Other DBAPI2 objects are not tested. Please consider using SQLAlchemy.\n",
      "  dsubsidy_project = pd.read_sql(f'SELECT * FROM {self.join_table}', self.conn)\n"
     ]
    },
    {
     "name": "stdout",
     "output_type": "stream",
     "text": [
      "23.82323871512987 15\n",
      "0.19890262674252532 15\n",
      "0.0947307954224878 15\n",
      "SELECT tag.tag_name AS subsidy, projects.title, tag.id,\n",
      "                    tag_project.accepted FROM tag_project\n",
      "                    LEFT JOIN tag ON (tag_project.tag_id = tag.id)\n",
      "                    LEFT JOIN projects ON (tag_project.project_id = projects.id);\n"
     ]
    },
    {
     "name": "stderr",
     "output_type": "stream",
     "text": [
      "/var/folders/64/nbt92b3d4_n2r41g3gx6lm340000gn/T/ipykernel_74450/3455301127.py:14: UserWarning: pandas only supports SQLAlchemy connectable (engine/connection) or database string URI or sqlite3 DBAPI2 connection. Other DBAPI2 objects are not tested. Please consider using SQLAlchemy.\n",
      "  df = pd.read_sql(q, self.conn)\n",
      "/var/folders/64/nbt92b3d4_n2r41g3gx6lm340000gn/T/ipykernel_74450/3455301127.py:19: UserWarning: pandas only supports SQLAlchemy connectable (engine/connection) or database string URI or sqlite3 DBAPI2 connection. Other DBAPI2 objects are not tested. Please consider using SQLAlchemy.\n",
      "  df_test = pd.read_sql('SELECT * FROM projects', self.conn)\n",
      "/Users/lebedevmatvey/Documents/Nlp_fastWin/CategoryPredictor.py:129: SettingWithCopyWarning: \n",
      "A value is trying to be set on a copy of a slice from a DataFrame.\n",
      "Try using .loc[row_indexer,col_indexer] = value instead\n",
      "\n",
      "See the caveats in the documentation: https://pandas.pydata.org/pandas-docs/stable/user_guide/indexing.html#returning-a-view-versus-a-copy\n",
      "  self.df['words'] = self.df[self.label].apply(self.text_to_words)\n",
      "/var/folders/64/nbt92b3d4_n2r41g3gx6lm340000gn/T/ipykernel_74450/3455301127.py:24: UserWarning: pandas only supports SQLAlchemy connectable (engine/connection) or database string URI or sqlite3 DBAPI2 connection. Other DBAPI2 objects are not tested. Please consider using SQLAlchemy.\n",
      "  df_sub = pd.read_sql(q, self.conn)\n",
      "/var/folders/64/nbt92b3d4_n2r41g3gx6lm340000gn/T/ipykernel_74450/3455301127.py:27: UserWarning: pandas only supports SQLAlchemy connectable (engine/connection) or database string URI or sqlite3 DBAPI2 connection. Other DBAPI2 objects are not tested. Please consider using SQLAlchemy.\n",
      "  dsubsidy_project = pd.read_sql(f'SELECT * FROM {self.join_table}', self.conn)\n",
      "/var/folders/64/nbt92b3d4_n2r41g3gx6lm340000gn/T/ipykernel_74450/3455301127.py:24: UserWarning: pandas only supports SQLAlchemy connectable (engine/connection) or database string URI or sqlite3 DBAPI2 connection. Other DBAPI2 objects are not tested. Please consider using SQLAlchemy.\n",
      "  df_sub = pd.read_sql(q, self.conn)\n"
     ]
    },
    {
     "name": "stdout",
     "output_type": "stream",
     "text": [
      "10.918853332200625 15\n",
      "0.0 15\n"
     ]
    },
    {
     "name": "stderr",
     "output_type": "stream",
     "text": [
      "/var/folders/64/nbt92b3d4_n2r41g3gx6lm340000gn/T/ipykernel_74450/3455301127.py:27: UserWarning: pandas only supports SQLAlchemy connectable (engine/connection) or database string URI or sqlite3 DBAPI2 connection. Other DBAPI2 objects are not tested. Please consider using SQLAlchemy.\n",
      "  dsubsidy_project = pd.read_sql(f'SELECT * FROM {self.join_table}', self.conn)\n",
      "/var/folders/64/nbt92b3d4_n2r41g3gx6lm340000gn/T/ipykernel_74450/3455301127.py:24: UserWarning: pandas only supports SQLAlchemy connectable (engine/connection) or database string URI or sqlite3 DBAPI2 connection. Other DBAPI2 objects are not tested. Please consider using SQLAlchemy.\n",
      "  df_sub = pd.read_sql(q, self.conn)\n",
      "/var/folders/64/nbt92b3d4_n2r41g3gx6lm340000gn/T/ipykernel_74450/3455301127.py:27: UserWarning: pandas only supports SQLAlchemy connectable (engine/connection) or database string URI or sqlite3 DBAPI2 connection. Other DBAPI2 objects are not tested. Please consider using SQLAlchemy.\n",
      "  dsubsidy_project = pd.read_sql(f'SELECT * FROM {self.join_table}', self.conn)\n"
     ]
    },
    {
     "name": "stdout",
     "output_type": "stream",
     "text": [
      "45.82386533594941 15\n",
      "0.0 15\n",
      "0.0 15\n",
      "0.0 15\n"
     ]
    },
    {
     "name": "stderr",
     "output_type": "stream",
     "text": [
      "/var/folders/64/nbt92b3d4_n2r41g3gx6lm340000gn/T/ipykernel_74450/3455301127.py:24: UserWarning: pandas only supports SQLAlchemy connectable (engine/connection) or database string URI or sqlite3 DBAPI2 connection. Other DBAPI2 objects are not tested. Please consider using SQLAlchemy.\n",
      "  df_sub = pd.read_sql(q, self.conn)\n",
      "/var/folders/64/nbt92b3d4_n2r41g3gx6lm340000gn/T/ipykernel_74450/3455301127.py:27: UserWarning: pandas only supports SQLAlchemy connectable (engine/connection) or database string URI or sqlite3 DBAPI2 connection. Other DBAPI2 objects are not tested. Please consider using SQLAlchemy.\n",
      "  dsubsidy_project = pd.read_sql(f'SELECT * FROM {self.join_table}', self.conn)\n"
     ]
    },
    {
     "name": "stdout",
     "output_type": "stream",
     "text": [
      "4.981049792006358 15\n",
      "2.0485000891963243 15\n"
     ]
    },
    {
     "name": "stderr",
     "output_type": "stream",
     "text": [
      "/var/folders/64/nbt92b3d4_n2r41g3gx6lm340000gn/T/ipykernel_74450/3455301127.py:24: UserWarning: pandas only supports SQLAlchemy connectable (engine/connection) or database string URI or sqlite3 DBAPI2 connection. Other DBAPI2 objects are not tested. Please consider using SQLAlchemy.\n",
      "  df_sub = pd.read_sql(q, self.conn)\n",
      "/var/folders/64/nbt92b3d4_n2r41g3gx6lm340000gn/T/ipykernel_74450/3455301127.py:27: UserWarning: pandas only supports SQLAlchemy connectable (engine/connection) or database string URI or sqlite3 DBAPI2 connection. Other DBAPI2 objects are not tested. Please consider using SQLAlchemy.\n",
      "  dsubsidy_project = pd.read_sql(f'SELECT * FROM {self.join_table}', self.conn)\n"
     ]
    },
    {
     "name": "stdout",
     "output_type": "stream",
     "text": [
      "1.5836595876084634 15\n",
      "0.3353580036515372 15\n"
     ]
    },
    {
     "name": "stderr",
     "output_type": "stream",
     "text": [
      "/var/folders/64/nbt92b3d4_n2r41g3gx6lm340000gn/T/ipykernel_74450/3455301127.py:14: UserWarning: pandas only supports SQLAlchemy connectable (engine/connection) or database string URI or sqlite3 DBAPI2 connection. Other DBAPI2 objects are not tested. Please consider using SQLAlchemy.\n",
      "  df = pd.read_sql(q, self.conn)\n",
      "/var/folders/64/nbt92b3d4_n2r41g3gx6lm340000gn/T/ipykernel_74450/3455301127.py:19: UserWarning: pandas only supports SQLAlchemy connectable (engine/connection) or database string URI or sqlite3 DBAPI2 connection. Other DBAPI2 objects are not tested. Please consider using SQLAlchemy.\n",
      "  df_test = pd.read_sql('SELECT * FROM projects', self.conn)\n",
      "/Users/lebedevmatvey/Documents/Nlp_fastWin/CategoryPredictor.py:129: SettingWithCopyWarning: \n",
      "A value is trying to be set on a copy of a slice from a DataFrame.\n",
      "Try using .loc[row_indexer,col_indexer] = value instead\n",
      "\n",
      "See the caveats in the documentation: https://pandas.pydata.org/pandas-docs/stable/user_guide/indexing.html#returning-a-view-versus-a-copy\n",
      "  self.df['words'] = self.df[self.label].apply(self.text_to_words)\n",
      "/var/folders/64/nbt92b3d4_n2r41g3gx6lm340000gn/T/ipykernel_74450/3455301127.py:24: UserWarning: pandas only supports SQLAlchemy connectable (engine/connection) or database string URI or sqlite3 DBAPI2 connection. Other DBAPI2 objects are not tested. Please consider using SQLAlchemy.\n",
      "  df_sub = pd.read_sql(q, self.conn)\n",
      "/var/folders/64/nbt92b3d4_n2r41g3gx6lm340000gn/T/ipykernel_74450/3455301127.py:27: UserWarning: pandas only supports SQLAlchemy connectable (engine/connection) or database string URI or sqlite3 DBAPI2 connection. Other DBAPI2 objects are not tested. Please consider using SQLAlchemy.\n",
      "  dsubsidy_project = pd.read_sql(f'SELECT * FROM {self.join_table}', self.conn)\n",
      "/var/folders/64/nbt92b3d4_n2r41g3gx6lm340000gn/T/ipykernel_74450/3455301127.py:24: UserWarning: pandas only supports SQLAlchemy connectable (engine/connection) or database string URI or sqlite3 DBAPI2 connection. Other DBAPI2 objects are not tested. Please consider using SQLAlchemy.\n",
      "  df_sub = pd.read_sql(q, self.conn)\n",
      "/var/folders/64/nbt92b3d4_n2r41g3gx6lm340000gn/T/ipykernel_74450/3455301127.py:27: UserWarning: pandas only supports SQLAlchemy connectable (engine/connection) or database string URI or sqlite3 DBAPI2 connection. Other DBAPI2 objects are not tested. Please consider using SQLAlchemy.\n",
      "  dsubsidy_project = pd.read_sql(f'SELECT * FROM {self.join_table}', self.conn)\n"
     ]
    },
    {
     "name": "stdout",
     "output_type": "stream",
     "text": [
      "8.743723436350955 15\n",
      "2.0660720616806016 15\n",
      "0.0 15\n",
      "45.15295172031554 15\n",
      "0.30631004518348903 15\n",
      "0.062106374599617285 15\n"
     ]
    },
    {
     "name": "stderr",
     "output_type": "stream",
     "text": [
      "/var/folders/64/nbt92b3d4_n2r41g3gx6lm340000gn/T/ipykernel_74450/3455301127.py:24: UserWarning: pandas only supports SQLAlchemy connectable (engine/connection) or database string URI or sqlite3 DBAPI2 connection. Other DBAPI2 objects are not tested. Please consider using SQLAlchemy.\n",
      "  df_sub = pd.read_sql(q, self.conn)\n",
      "/var/folders/64/nbt92b3d4_n2r41g3gx6lm340000gn/T/ipykernel_74450/3455301127.py:27: UserWarning: pandas only supports SQLAlchemy connectable (engine/connection) or database string URI or sqlite3 DBAPI2 connection. Other DBAPI2 objects are not tested. Please consider using SQLAlchemy.\n",
      "  dsubsidy_project = pd.read_sql(f'SELECT * FROM {self.join_table}', self.conn)\n",
      "/var/folders/64/nbt92b3d4_n2r41g3gx6lm340000gn/T/ipykernel_74450/3455301127.py:24: UserWarning: pandas only supports SQLAlchemy connectable (engine/connection) or database string URI or sqlite3 DBAPI2 connection. Other DBAPI2 objects are not tested. Please consider using SQLAlchemy.\n",
      "  df_sub = pd.read_sql(q, self.conn)\n"
     ]
    },
    {
     "name": "stdout",
     "output_type": "stream",
     "text": [
      "4.200796450364289 15\n",
      "0.0 15\n",
      "0.0 15\n"
     ]
    },
    {
     "name": "stderr",
     "output_type": "stream",
     "text": [
      "/var/folders/64/nbt92b3d4_n2r41g3gx6lm340000gn/T/ipykernel_74450/3455301127.py:27: UserWarning: pandas only supports SQLAlchemy connectable (engine/connection) or database string URI or sqlite3 DBAPI2 connection. Other DBAPI2 objects are not tested. Please consider using SQLAlchemy.\n",
      "  dsubsidy_project = pd.read_sql(f'SELECT * FROM {self.join_table}', self.conn)\n",
      "/var/folders/64/nbt92b3d4_n2r41g3gx6lm340000gn/T/ipykernel_74450/3455301127.py:24: UserWarning: pandas only supports SQLAlchemy connectable (engine/connection) or database string URI or sqlite3 DBAPI2 connection. Other DBAPI2 objects are not tested. Please consider using SQLAlchemy.\n",
      "  df_sub = pd.read_sql(q, self.conn)\n"
     ]
    },
    {
     "name": "stdout",
     "output_type": "stream",
     "text": [
      "21.38593835685541 15\n",
      "0.5652270793541772 15\n",
      "0.035489356914067016 15\n"
     ]
    },
    {
     "name": "stderr",
     "output_type": "stream",
     "text": [
      "/var/folders/64/nbt92b3d4_n2r41g3gx6lm340000gn/T/ipykernel_74450/3455301127.py:27: UserWarning: pandas only supports SQLAlchemy connectable (engine/connection) or database string URI or sqlite3 DBAPI2 connection. Other DBAPI2 objects are not tested. Please consider using SQLAlchemy.\n",
      "  dsubsidy_project = pd.read_sql(f'SELECT * FROM {self.join_table}', self.conn)\n"
     ]
    },
    {
     "name": "stdout",
     "output_type": "stream",
     "text": [
      "23.82323871512987 15\n",
      "0.19890262674252532 15\n",
      "0.0947307954224878 15\n",
      "SELECT tag.tag_name AS subsidy, projects.title, tag.id,\n",
      "                    tag_project.accepted FROM tag_project\n",
      "                    LEFT JOIN tag ON (tag_project.tag_id = tag.id)\n",
      "                    LEFT JOIN projects ON (tag_project.project_id = projects.id);\n"
     ]
    },
    {
     "name": "stderr",
     "output_type": "stream",
     "text": [
      "/var/folders/64/nbt92b3d4_n2r41g3gx6lm340000gn/T/ipykernel_74450/3455301127.py:14: UserWarning: pandas only supports SQLAlchemy connectable (engine/connection) or database string URI or sqlite3 DBAPI2 connection. Other DBAPI2 objects are not tested. Please consider using SQLAlchemy.\n",
      "  df = pd.read_sql(q, self.conn)\n",
      "/var/folders/64/nbt92b3d4_n2r41g3gx6lm340000gn/T/ipykernel_74450/3455301127.py:19: UserWarning: pandas only supports SQLAlchemy connectable (engine/connection) or database string URI or sqlite3 DBAPI2 connection. Other DBAPI2 objects are not tested. Please consider using SQLAlchemy.\n",
      "  df_test = pd.read_sql('SELECT * FROM projects', self.conn)\n",
      "/Users/lebedevmatvey/Documents/Nlp_fastWin/CategoryPredictor.py:129: SettingWithCopyWarning: \n",
      "A value is trying to be set on a copy of a slice from a DataFrame.\n",
      "Try using .loc[row_indexer,col_indexer] = value instead\n",
      "\n",
      "See the caveats in the documentation: https://pandas.pydata.org/pandas-docs/stable/user_guide/indexing.html#returning-a-view-versus-a-copy\n",
      "  self.df['words'] = self.df[self.label].apply(self.text_to_words)\n",
      "/var/folders/64/nbt92b3d4_n2r41g3gx6lm340000gn/T/ipykernel_74450/3455301127.py:24: UserWarning: pandas only supports SQLAlchemy connectable (engine/connection) or database string URI or sqlite3 DBAPI2 connection. Other DBAPI2 objects are not tested. Please consider using SQLAlchemy.\n",
      "  df_sub = pd.read_sql(q, self.conn)\n",
      "/var/folders/64/nbt92b3d4_n2r41g3gx6lm340000gn/T/ipykernel_74450/3455301127.py:27: UserWarning: pandas only supports SQLAlchemy connectable (engine/connection) or database string URI or sqlite3 DBAPI2 connection. Other DBAPI2 objects are not tested. Please consider using SQLAlchemy.\n",
      "  dsubsidy_project = pd.read_sql(f'SELECT * FROM {self.join_table}', self.conn)\n",
      "/var/folders/64/nbt92b3d4_n2r41g3gx6lm340000gn/T/ipykernel_74450/3455301127.py:24: UserWarning: pandas only supports SQLAlchemy connectable (engine/connection) or database string URI or sqlite3 DBAPI2 connection. Other DBAPI2 objects are not tested. Please consider using SQLAlchemy.\n",
      "  df_sub = pd.read_sql(q, self.conn)\n"
     ]
    },
    {
     "name": "stdout",
     "output_type": "stream",
     "text": [
      "10.918853332200625 15\n",
      "0.0 15\n"
     ]
    },
    {
     "name": "stderr",
     "output_type": "stream",
     "text": [
      "/var/folders/64/nbt92b3d4_n2r41g3gx6lm340000gn/T/ipykernel_74450/3455301127.py:27: UserWarning: pandas only supports SQLAlchemy connectable (engine/connection) or database string URI or sqlite3 DBAPI2 connection. Other DBAPI2 objects are not tested. Please consider using SQLAlchemy.\n",
      "  dsubsidy_project = pd.read_sql(f'SELECT * FROM {self.join_table}', self.conn)\n",
      "/var/folders/64/nbt92b3d4_n2r41g3gx6lm340000gn/T/ipykernel_74450/3455301127.py:24: UserWarning: pandas only supports SQLAlchemy connectable (engine/connection) or database string URI or sqlite3 DBAPI2 connection. Other DBAPI2 objects are not tested. Please consider using SQLAlchemy.\n",
      "  df_sub = pd.read_sql(q, self.conn)\n"
     ]
    },
    {
     "name": "stdout",
     "output_type": "stream",
     "text": [
      "45.82386533594941 15\n",
      "0.0 15\n"
     ]
    },
    {
     "name": "stderr",
     "output_type": "stream",
     "text": [
      "/var/folders/64/nbt92b3d4_n2r41g3gx6lm340000gn/T/ipykernel_74450/3455301127.py:27: UserWarning: pandas only supports SQLAlchemy connectable (engine/connection) or database string URI or sqlite3 DBAPI2 connection. Other DBAPI2 objects are not tested. Please consider using SQLAlchemy.\n",
      "  dsubsidy_project = pd.read_sql(f'SELECT * FROM {self.join_table}', self.conn)\n",
      "/var/folders/64/nbt92b3d4_n2r41g3gx6lm340000gn/T/ipykernel_74450/3455301127.py:24: UserWarning: pandas only supports SQLAlchemy connectable (engine/connection) or database string URI or sqlite3 DBAPI2 connection. Other DBAPI2 objects are not tested. Please consider using SQLAlchemy.\n",
      "  df_sub = pd.read_sql(q, self.conn)\n"
     ]
    },
    {
     "name": "stdout",
     "output_type": "stream",
     "text": [
      "0.0 15\n",
      "0.0 15\n"
     ]
    },
    {
     "name": "stderr",
     "output_type": "stream",
     "text": [
      "/var/folders/64/nbt92b3d4_n2r41g3gx6lm340000gn/T/ipykernel_74450/3455301127.py:27: UserWarning: pandas only supports SQLAlchemy connectable (engine/connection) or database string URI or sqlite3 DBAPI2 connection. Other DBAPI2 objects are not tested. Please consider using SQLAlchemy.\n",
      "  dsubsidy_project = pd.read_sql(f'SELECT * FROM {self.join_table}', self.conn)\n",
      "/var/folders/64/nbt92b3d4_n2r41g3gx6lm340000gn/T/ipykernel_74450/3455301127.py:24: UserWarning: pandas only supports SQLAlchemy connectable (engine/connection) or database string URI or sqlite3 DBAPI2 connection. Other DBAPI2 objects are not tested. Please consider using SQLAlchemy.\n",
      "  df_sub = pd.read_sql(q, self.conn)\n",
      "/var/folders/64/nbt92b3d4_n2r41g3gx6lm340000gn/T/ipykernel_74450/3455301127.py:27: UserWarning: pandas only supports SQLAlchemy connectable (engine/connection) or database string URI or sqlite3 DBAPI2 connection. Other DBAPI2 objects are not tested. Please consider using SQLAlchemy.\n",
      "  dsubsidy_project = pd.read_sql(f'SELECT * FROM {self.join_table}', self.conn)\n"
     ]
    },
    {
     "name": "stdout",
     "output_type": "stream",
     "text": [
      "4.981049792006358 15\n",
      "2.0485000891963243 15\n",
      "1.5836595876084634 15\n",
      "0.3353580036515372 15\n"
     ]
    },
    {
     "name": "stderr",
     "output_type": "stream",
     "text": [
      "/var/folders/64/nbt92b3d4_n2r41g3gx6lm340000gn/T/ipykernel_74450/3455301127.py:14: UserWarning: pandas only supports SQLAlchemy connectable (engine/connection) or database string URI or sqlite3 DBAPI2 connection. Other DBAPI2 objects are not tested. Please consider using SQLAlchemy.\n",
      "  df = pd.read_sql(q, self.conn)\n",
      "/var/folders/64/nbt92b3d4_n2r41g3gx6lm340000gn/T/ipykernel_74450/3455301127.py:19: UserWarning: pandas only supports SQLAlchemy connectable (engine/connection) or database string URI or sqlite3 DBAPI2 connection. Other DBAPI2 objects are not tested. Please consider using SQLAlchemy.\n",
      "  df_test = pd.read_sql('SELECT * FROM projects', self.conn)\n",
      "/Users/lebedevmatvey/Documents/Nlp_fastWin/CategoryPredictor.py:129: SettingWithCopyWarning: \n",
      "A value is trying to be set on a copy of a slice from a DataFrame.\n",
      "Try using .loc[row_indexer,col_indexer] = value instead\n",
      "\n",
      "See the caveats in the documentation: https://pandas.pydata.org/pandas-docs/stable/user_guide/indexing.html#returning-a-view-versus-a-copy\n",
      "  self.df['words'] = self.df[self.label].apply(self.text_to_words)\n",
      "/var/folders/64/nbt92b3d4_n2r41g3gx6lm340000gn/T/ipykernel_74450/3455301127.py:24: UserWarning: pandas only supports SQLAlchemy connectable (engine/connection) or database string URI or sqlite3 DBAPI2 connection. Other DBAPI2 objects are not tested. Please consider using SQLAlchemy.\n",
      "  df_sub = pd.read_sql(q, self.conn)\n",
      "/var/folders/64/nbt92b3d4_n2r41g3gx6lm340000gn/T/ipykernel_74450/3455301127.py:27: UserWarning: pandas only supports SQLAlchemy connectable (engine/connection) or database string URI or sqlite3 DBAPI2 connection. Other DBAPI2 objects are not tested. Please consider using SQLAlchemy.\n",
      "  dsubsidy_project = pd.read_sql(f'SELECT * FROM {self.join_table}', self.conn)\n",
      "/var/folders/64/nbt92b3d4_n2r41g3gx6lm340000gn/T/ipykernel_74450/3455301127.py:24: UserWarning: pandas only supports SQLAlchemy connectable (engine/connection) or database string URI or sqlite3 DBAPI2 connection. Other DBAPI2 objects are not tested. Please consider using SQLAlchemy.\n",
      "  df_sub = pd.read_sql(q, self.conn)\n"
     ]
    },
    {
     "name": "stdout",
     "output_type": "stream",
     "text": [
      "8.743723436350955 14\n",
      "2.0660720616806016 14\n",
      "0.0 14\n"
     ]
    },
    {
     "name": "stderr",
     "output_type": "stream",
     "text": [
      "/var/folders/64/nbt92b3d4_n2r41g3gx6lm340000gn/T/ipykernel_74450/3455301127.py:27: UserWarning: pandas only supports SQLAlchemy connectable (engine/connection) or database string URI or sqlite3 DBAPI2 connection. Other DBAPI2 objects are not tested. Please consider using SQLAlchemy.\n",
      "  dsubsidy_project = pd.read_sql(f'SELECT * FROM {self.join_table}', self.conn)\n",
      "/var/folders/64/nbt92b3d4_n2r41g3gx6lm340000gn/T/ipykernel_74450/3455301127.py:24: UserWarning: pandas only supports SQLAlchemy connectable (engine/connection) or database string URI or sqlite3 DBAPI2 connection. Other DBAPI2 objects are not tested. Please consider using SQLAlchemy.\n",
      "  df_sub = pd.read_sql(q, self.conn)\n"
     ]
    },
    {
     "name": "stdout",
     "output_type": "stream",
     "text": [
      "45.15295172031554 14\n",
      "0.30631004518348903 14\n",
      "0.062106374599617285 14\n",
      "4.200796450364289 14\n"
     ]
    },
    {
     "name": "stderr",
     "output_type": "stream",
     "text": [
      "/var/folders/64/nbt92b3d4_n2r41g3gx6lm340000gn/T/ipykernel_74450/3455301127.py:27: UserWarning: pandas only supports SQLAlchemy connectable (engine/connection) or database string URI or sqlite3 DBAPI2 connection. Other DBAPI2 objects are not tested. Please consider using SQLAlchemy.\n",
      "  dsubsidy_project = pd.read_sql(f'SELECT * FROM {self.join_table}', self.conn)\n",
      "/var/folders/64/nbt92b3d4_n2r41g3gx6lm340000gn/T/ipykernel_74450/3455301127.py:24: UserWarning: pandas only supports SQLAlchemy connectable (engine/connection) or database string URI or sqlite3 DBAPI2 connection. Other DBAPI2 objects are not tested. Please consider using SQLAlchemy.\n",
      "  df_sub = pd.read_sql(q, self.conn)\n",
      "/var/folders/64/nbt92b3d4_n2r41g3gx6lm340000gn/T/ipykernel_74450/3455301127.py:27: UserWarning: pandas only supports SQLAlchemy connectable (engine/connection) or database string URI or sqlite3 DBAPI2 connection. Other DBAPI2 objects are not tested. Please consider using SQLAlchemy.\n",
      "  dsubsidy_project = pd.read_sql(f'SELECT * FROM {self.join_table}', self.conn)\n"
     ]
    },
    {
     "name": "stdout",
     "output_type": "stream",
     "text": [
      "0.0 14\n",
      "0.0 14\n",
      "21.38593835685541 14\n",
      "0.5652270793541772 14\n",
      "0.035489356914067016 14\n",
      "23.82323871512987 14\n"
     ]
    },
    {
     "name": "stderr",
     "output_type": "stream",
     "text": [
      "/var/folders/64/nbt92b3d4_n2r41g3gx6lm340000gn/T/ipykernel_74450/3455301127.py:24: UserWarning: pandas only supports SQLAlchemy connectable (engine/connection) or database string URI or sqlite3 DBAPI2 connection. Other DBAPI2 objects are not tested. Please consider using SQLAlchemy.\n",
      "  df_sub = pd.read_sql(q, self.conn)\n",
      "/var/folders/64/nbt92b3d4_n2r41g3gx6lm340000gn/T/ipykernel_74450/3455301127.py:27: UserWarning: pandas only supports SQLAlchemy connectable (engine/connection) or database string URI or sqlite3 DBAPI2 connection. Other DBAPI2 objects are not tested. Please consider using SQLAlchemy.\n",
      "  dsubsidy_project = pd.read_sql(f'SELECT * FROM {self.join_table}', self.conn)\n"
     ]
    },
    {
     "name": "stdout",
     "output_type": "stream",
     "text": [
      "0.19890262674252532 14\n",
      "0.0947307954224878 15\n",
      "SELECT tag.tag_name AS subsidy, projects.title, tag.id,\n",
      "                    tag_project.accepted FROM tag_project\n",
      "                    LEFT JOIN tag ON (tag_project.tag_id = tag.id)\n",
      "                    LEFT JOIN projects ON (tag_project.project_id = projects.id);\n"
     ]
    },
    {
     "name": "stderr",
     "output_type": "stream",
     "text": [
      "/var/folders/64/nbt92b3d4_n2r41g3gx6lm340000gn/T/ipykernel_74450/3455301127.py:14: UserWarning: pandas only supports SQLAlchemy connectable (engine/connection) or database string URI or sqlite3 DBAPI2 connection. Other DBAPI2 objects are not tested. Please consider using SQLAlchemy.\n",
      "  df = pd.read_sql(q, self.conn)\n",
      "/var/folders/64/nbt92b3d4_n2r41g3gx6lm340000gn/T/ipykernel_74450/3455301127.py:19: UserWarning: pandas only supports SQLAlchemy connectable (engine/connection) or database string URI or sqlite3 DBAPI2 connection. Other DBAPI2 objects are not tested. Please consider using SQLAlchemy.\n",
      "  df_test = pd.read_sql('SELECT * FROM projects', self.conn)\n",
      "/Users/lebedevmatvey/Documents/Nlp_fastWin/CategoryPredictor.py:129: SettingWithCopyWarning: \n",
      "A value is trying to be set on a copy of a slice from a DataFrame.\n",
      "Try using .loc[row_indexer,col_indexer] = value instead\n",
      "\n",
      "See the caveats in the documentation: https://pandas.pydata.org/pandas-docs/stable/user_guide/indexing.html#returning-a-view-versus-a-copy\n",
      "  self.df['words'] = self.df[self.label].apply(self.text_to_words)\n",
      "/var/folders/64/nbt92b3d4_n2r41g3gx6lm340000gn/T/ipykernel_74450/3455301127.py:24: UserWarning: pandas only supports SQLAlchemy connectable (engine/connection) or database string URI or sqlite3 DBAPI2 connection. Other DBAPI2 objects are not tested. Please consider using SQLAlchemy.\n",
      "  df_sub = pd.read_sql(q, self.conn)\n",
      "/var/folders/64/nbt92b3d4_n2r41g3gx6lm340000gn/T/ipykernel_74450/3455301127.py:27: UserWarning: pandas only supports SQLAlchemy connectable (engine/connection) or database string URI or sqlite3 DBAPI2 connection. Other DBAPI2 objects are not tested. Please consider using SQLAlchemy.\n",
      "  dsubsidy_project = pd.read_sql(f'SELECT * FROM {self.join_table}', self.conn)\n",
      "/var/folders/64/nbt92b3d4_n2r41g3gx6lm340000gn/T/ipykernel_74450/3455301127.py:24: UserWarning: pandas only supports SQLAlchemy connectable (engine/connection) or database string URI or sqlite3 DBAPI2 connection. Other DBAPI2 objects are not tested. Please consider using SQLAlchemy.\n",
      "  df_sub = pd.read_sql(q, self.conn)\n"
     ]
    },
    {
     "name": "stdout",
     "output_type": "stream",
     "text": [
      "10.918853332200625 15\n",
      "0.0 15\n"
     ]
    },
    {
     "name": "stderr",
     "output_type": "stream",
     "text": [
      "/var/folders/64/nbt92b3d4_n2r41g3gx6lm340000gn/T/ipykernel_74450/3455301127.py:27: UserWarning: pandas only supports SQLAlchemy connectable (engine/connection) or database string URI or sqlite3 DBAPI2 connection. Other DBAPI2 objects are not tested. Please consider using SQLAlchemy.\n",
      "  dsubsidy_project = pd.read_sql(f'SELECT * FROM {self.join_table}', self.conn)\n",
      "/var/folders/64/nbt92b3d4_n2r41g3gx6lm340000gn/T/ipykernel_74450/3455301127.py:24: UserWarning: pandas only supports SQLAlchemy connectable (engine/connection) or database string URI or sqlite3 DBAPI2 connection. Other DBAPI2 objects are not tested. Please consider using SQLAlchemy.\n",
      "  df_sub = pd.read_sql(q, self.conn)\n"
     ]
    },
    {
     "name": "stdout",
     "output_type": "stream",
     "text": [
      "45.82386533594941 15\n",
      "0.0 15\n"
     ]
    },
    {
     "name": "stderr",
     "output_type": "stream",
     "text": [
      "/var/folders/64/nbt92b3d4_n2r41g3gx6lm340000gn/T/ipykernel_74450/3455301127.py:27: UserWarning: pandas only supports SQLAlchemy connectable (engine/connection) or database string URI or sqlite3 DBAPI2 connection. Other DBAPI2 objects are not tested. Please consider using SQLAlchemy.\n",
      "  dsubsidy_project = pd.read_sql(f'SELECT * FROM {self.join_table}', self.conn)\n",
      "/var/folders/64/nbt92b3d4_n2r41g3gx6lm340000gn/T/ipykernel_74450/3455301127.py:24: UserWarning: pandas only supports SQLAlchemy connectable (engine/connection) or database string URI or sqlite3 DBAPI2 connection. Other DBAPI2 objects are not tested. Please consider using SQLAlchemy.\n",
      "  df_sub = pd.read_sql(q, self.conn)\n"
     ]
    },
    {
     "name": "stdout",
     "output_type": "stream",
     "text": [
      "0.0 15\n",
      "0.0 15\n"
     ]
    },
    {
     "name": "stderr",
     "output_type": "stream",
     "text": [
      "/var/folders/64/nbt92b3d4_n2r41g3gx6lm340000gn/T/ipykernel_74450/3455301127.py:27: UserWarning: pandas only supports SQLAlchemy connectable (engine/connection) or database string URI or sqlite3 DBAPI2 connection. Other DBAPI2 objects are not tested. Please consider using SQLAlchemy.\n",
      "  dsubsidy_project = pd.read_sql(f'SELECT * FROM {self.join_table}', self.conn)\n",
      "/var/folders/64/nbt92b3d4_n2r41g3gx6lm340000gn/T/ipykernel_74450/3455301127.py:24: UserWarning: pandas only supports SQLAlchemy connectable (engine/connection) or database string URI or sqlite3 DBAPI2 connection. Other DBAPI2 objects are not tested. Please consider using SQLAlchemy.\n",
      "  df_sub = pd.read_sql(q, self.conn)\n",
      "/var/folders/64/nbt92b3d4_n2r41g3gx6lm340000gn/T/ipykernel_74450/3455301127.py:27: UserWarning: pandas only supports SQLAlchemy connectable (engine/connection) or database string URI or sqlite3 DBAPI2 connection. Other DBAPI2 objects are not tested. Please consider using SQLAlchemy.\n",
      "  dsubsidy_project = pd.read_sql(f'SELECT * FROM {self.join_table}', self.conn)\n"
     ]
    },
    {
     "name": "stdout",
     "output_type": "stream",
     "text": [
      "4.981049792006358 15\n",
      "2.0485000891963243 15\n",
      "1.5836595876084634 15\n",
      "0.3353580036515372 15\n"
     ]
    },
    {
     "name": "stderr",
     "output_type": "stream",
     "text": [
      "/var/folders/64/nbt92b3d4_n2r41g3gx6lm340000gn/T/ipykernel_74450/3455301127.py:14: UserWarning: pandas only supports SQLAlchemy connectable (engine/connection) or database string URI or sqlite3 DBAPI2 connection. Other DBAPI2 objects are not tested. Please consider using SQLAlchemy.\n",
      "  df = pd.read_sql(q, self.conn)\n",
      "/var/folders/64/nbt92b3d4_n2r41g3gx6lm340000gn/T/ipykernel_74450/3455301127.py:19: UserWarning: pandas only supports SQLAlchemy connectable (engine/connection) or database string URI or sqlite3 DBAPI2 connection. Other DBAPI2 objects are not tested. Please consider using SQLAlchemy.\n",
      "  df_test = pd.read_sql('SELECT * FROM projects', self.conn)\n",
      "/Users/lebedevmatvey/Documents/Nlp_fastWin/CategoryPredictor.py:129: SettingWithCopyWarning: \n",
      "A value is trying to be set on a copy of a slice from a DataFrame.\n",
      "Try using .loc[row_indexer,col_indexer] = value instead\n",
      "\n",
      "See the caveats in the documentation: https://pandas.pydata.org/pandas-docs/stable/user_guide/indexing.html#returning-a-view-versus-a-copy\n",
      "  self.df['words'] = self.df[self.label].apply(self.text_to_words)\n",
      "/var/folders/64/nbt92b3d4_n2r41g3gx6lm340000gn/T/ipykernel_74450/3455301127.py:24: UserWarning: pandas only supports SQLAlchemy connectable (engine/connection) or database string URI or sqlite3 DBAPI2 connection. Other DBAPI2 objects are not tested. Please consider using SQLAlchemy.\n",
      "  df_sub = pd.read_sql(q, self.conn)\n",
      "/var/folders/64/nbt92b3d4_n2r41g3gx6lm340000gn/T/ipykernel_74450/3455301127.py:27: UserWarning: pandas only supports SQLAlchemy connectable (engine/connection) or database string URI or sqlite3 DBAPI2 connection. Other DBAPI2 objects are not tested. Please consider using SQLAlchemy.\n",
      "  dsubsidy_project = pd.read_sql(f'SELECT * FROM {self.join_table}', self.conn)\n",
      "/var/folders/64/nbt92b3d4_n2r41g3gx6lm340000gn/T/ipykernel_74450/3455301127.py:24: UserWarning: pandas only supports SQLAlchemy connectable (engine/connection) or database string URI or sqlite3 DBAPI2 connection. Other DBAPI2 objects are not tested. Please consider using SQLAlchemy.\n",
      "  df_sub = pd.read_sql(q, self.conn)\n"
     ]
    },
    {
     "name": "stdout",
     "output_type": "stream",
     "text": [
      "8.743723436350955 15\n",
      "2.0660720616806016 15\n",
      "0.0 15\n",
      "45.15295172031554 15\n"
     ]
    },
    {
     "name": "stderr",
     "output_type": "stream",
     "text": [
      "/var/folders/64/nbt92b3d4_n2r41g3gx6lm340000gn/T/ipykernel_74450/3455301127.py:27: UserWarning: pandas only supports SQLAlchemy connectable (engine/connection) or database string URI or sqlite3 DBAPI2 connection. Other DBAPI2 objects are not tested. Please consider using SQLAlchemy.\n",
      "  dsubsidy_project = pd.read_sql(f'SELECT * FROM {self.join_table}', self.conn)\n",
      "/var/folders/64/nbt92b3d4_n2r41g3gx6lm340000gn/T/ipykernel_74450/3455301127.py:24: UserWarning: pandas only supports SQLAlchemy connectable (engine/connection) or database string URI or sqlite3 DBAPI2 connection. Other DBAPI2 objects are not tested. Please consider using SQLAlchemy.\n",
      "  df_sub = pd.read_sql(q, self.conn)\n"
     ]
    },
    {
     "name": "stdout",
     "output_type": "stream",
     "text": [
      "0.30631004518348903 15\n",
      "0.062106374599617285 15\n",
      "4.200796450364289 15\n",
      "0.0 15\n",
      "0.0 15\n"
     ]
    },
    {
     "name": "stderr",
     "output_type": "stream",
     "text": [
      "/var/folders/64/nbt92b3d4_n2r41g3gx6lm340000gn/T/ipykernel_74450/3455301127.py:27: UserWarning: pandas only supports SQLAlchemy connectable (engine/connection) or database string URI or sqlite3 DBAPI2 connection. Other DBAPI2 objects are not tested. Please consider using SQLAlchemy.\n",
      "  dsubsidy_project = pd.read_sql(f'SELECT * FROM {self.join_table}', self.conn)\n",
      "/var/folders/64/nbt92b3d4_n2r41g3gx6lm340000gn/T/ipykernel_74450/3455301127.py:24: UserWarning: pandas only supports SQLAlchemy connectable (engine/connection) or database string URI or sqlite3 DBAPI2 connection. Other DBAPI2 objects are not tested. Please consider using SQLAlchemy.\n",
      "  df_sub = pd.read_sql(q, self.conn)\n",
      "/var/folders/64/nbt92b3d4_n2r41g3gx6lm340000gn/T/ipykernel_74450/3455301127.py:27: UserWarning: pandas only supports SQLAlchemy connectable (engine/connection) or database string URI or sqlite3 DBAPI2 connection. Other DBAPI2 objects are not tested. Please consider using SQLAlchemy.\n",
      "  dsubsidy_project = pd.read_sql(f'SELECT * FROM {self.join_table}', self.conn)\n",
      "/var/folders/64/nbt92b3d4_n2r41g3gx6lm340000gn/T/ipykernel_74450/3455301127.py:24: UserWarning: pandas only supports SQLAlchemy connectable (engine/connection) or database string URI or sqlite3 DBAPI2 connection. Other DBAPI2 objects are not tested. Please consider using SQLAlchemy.\n",
      "  df_sub = pd.read_sql(q, self.conn)\n"
     ]
    },
    {
     "name": "stdout",
     "output_type": "stream",
     "text": [
      "21.38593835685541 15\n",
      "0.5652270793541772 15\n",
      "0.035489356914067016 15\n",
      "23.82323871512987 15\n"
     ]
    },
    {
     "name": "stderr",
     "output_type": "stream",
     "text": [
      "/var/folders/64/nbt92b3d4_n2r41g3gx6lm340000gn/T/ipykernel_74450/3455301127.py:27: UserWarning: pandas only supports SQLAlchemy connectable (engine/connection) or database string URI or sqlite3 DBAPI2 connection. Other DBAPI2 objects are not tested. Please consider using SQLAlchemy.\n",
      "  dsubsidy_project = pd.read_sql(f'SELECT * FROM {self.join_table}', self.conn)\n"
     ]
    },
    {
     "name": "stdout",
     "output_type": "stream",
     "text": [
      "0.19890262674252532 15\n",
      "0.0947307954224878 15\n",
      "SELECT tag.tag_name AS subsidy, projects.title, tag.id,\n",
      "                    tag_project.accepted FROM tag_project\n",
      "                    LEFT JOIN tag ON (tag_project.tag_id = tag.id)\n",
      "                    LEFT JOIN projects ON (tag_project.project_id = projects.id);\n"
     ]
    },
    {
     "name": "stderr",
     "output_type": "stream",
     "text": [
      "/var/folders/64/nbt92b3d4_n2r41g3gx6lm340000gn/T/ipykernel_74450/3455301127.py:14: UserWarning: pandas only supports SQLAlchemy connectable (engine/connection) or database string URI or sqlite3 DBAPI2 connection. Other DBAPI2 objects are not tested. Please consider using SQLAlchemy.\n",
      "  df = pd.read_sql(q, self.conn)\n",
      "/var/folders/64/nbt92b3d4_n2r41g3gx6lm340000gn/T/ipykernel_74450/3455301127.py:19: UserWarning: pandas only supports SQLAlchemy connectable (engine/connection) or database string URI or sqlite3 DBAPI2 connection. Other DBAPI2 objects are not tested. Please consider using SQLAlchemy.\n",
      "  df_test = pd.read_sql('SELECT * FROM projects', self.conn)\n",
      "/Users/lebedevmatvey/Documents/Nlp_fastWin/CategoryPredictor.py:129: SettingWithCopyWarning: \n",
      "A value is trying to be set on a copy of a slice from a DataFrame.\n",
      "Try using .loc[row_indexer,col_indexer] = value instead\n",
      "\n",
      "See the caveats in the documentation: https://pandas.pydata.org/pandas-docs/stable/user_guide/indexing.html#returning-a-view-versus-a-copy\n",
      "  self.df['words'] = self.df[self.label].apply(self.text_to_words)\n",
      "/var/folders/64/nbt92b3d4_n2r41g3gx6lm340000gn/T/ipykernel_74450/3455301127.py:24: UserWarning: pandas only supports SQLAlchemy connectable (engine/connection) or database string URI or sqlite3 DBAPI2 connection. Other DBAPI2 objects are not tested. Please consider using SQLAlchemy.\n",
      "  df_sub = pd.read_sql(q, self.conn)\n",
      "/var/folders/64/nbt92b3d4_n2r41g3gx6lm340000gn/T/ipykernel_74450/3455301127.py:27: UserWarning: pandas only supports SQLAlchemy connectable (engine/connection) or database string URI or sqlite3 DBAPI2 connection. Other DBAPI2 objects are not tested. Please consider using SQLAlchemy.\n",
      "  dsubsidy_project = pd.read_sql(f'SELECT * FROM {self.join_table}', self.conn)\n",
      "/var/folders/64/nbt92b3d4_n2r41g3gx6lm340000gn/T/ipykernel_74450/3455301127.py:24: UserWarning: pandas only supports SQLAlchemy connectable (engine/connection) or database string URI or sqlite3 DBAPI2 connection. Other DBAPI2 objects are not tested. Please consider using SQLAlchemy.\n",
      "  df_sub = pd.read_sql(q, self.conn)\n"
     ]
    },
    {
     "name": "stdout",
     "output_type": "stream",
     "text": [
      "10.918853332200625 15\n",
      "0.0 15\n"
     ]
    },
    {
     "name": "stderr",
     "output_type": "stream",
     "text": [
      "/var/folders/64/nbt92b3d4_n2r41g3gx6lm340000gn/T/ipykernel_74450/3455301127.py:27: UserWarning: pandas only supports SQLAlchemy connectable (engine/connection) or database string URI or sqlite3 DBAPI2 connection. Other DBAPI2 objects are not tested. Please consider using SQLAlchemy.\n",
      "  dsubsidy_project = pd.read_sql(f'SELECT * FROM {self.join_table}', self.conn)\n",
      "/var/folders/64/nbt92b3d4_n2r41g3gx6lm340000gn/T/ipykernel_74450/3455301127.py:24: UserWarning: pandas only supports SQLAlchemy connectable (engine/connection) or database string URI or sqlite3 DBAPI2 connection. Other DBAPI2 objects are not tested. Please consider using SQLAlchemy.\n",
      "  df_sub = pd.read_sql(q, self.conn)\n"
     ]
    },
    {
     "name": "stdout",
     "output_type": "stream",
     "text": [
      "45.82386533594941 15\n",
      "0.0 15\n"
     ]
    },
    {
     "name": "stderr",
     "output_type": "stream",
     "text": [
      "/var/folders/64/nbt92b3d4_n2r41g3gx6lm340000gn/T/ipykernel_74450/3455301127.py:27: UserWarning: pandas only supports SQLAlchemy connectable (engine/connection) or database string URI or sqlite3 DBAPI2 connection. Other DBAPI2 objects are not tested. Please consider using SQLAlchemy.\n",
      "  dsubsidy_project = pd.read_sql(f'SELECT * FROM {self.join_table}', self.conn)\n",
      "/var/folders/64/nbt92b3d4_n2r41g3gx6lm340000gn/T/ipykernel_74450/3455301127.py:24: UserWarning: pandas only supports SQLAlchemy connectable (engine/connection) or database string URI or sqlite3 DBAPI2 connection. Other DBAPI2 objects are not tested. Please consider using SQLAlchemy.\n",
      "  df_sub = pd.read_sql(q, self.conn)\n"
     ]
    },
    {
     "name": "stdout",
     "output_type": "stream",
     "text": [
      "0.0 15\n",
      "0.0 15\n"
     ]
    },
    {
     "name": "stderr",
     "output_type": "stream",
     "text": [
      "/var/folders/64/nbt92b3d4_n2r41g3gx6lm340000gn/T/ipykernel_74450/3455301127.py:27: UserWarning: pandas only supports SQLAlchemy connectable (engine/connection) or database string URI or sqlite3 DBAPI2 connection. Other DBAPI2 objects are not tested. Please consider using SQLAlchemy.\n",
      "  dsubsidy_project = pd.read_sql(f'SELECT * FROM {self.join_table}', self.conn)\n",
      "/var/folders/64/nbt92b3d4_n2r41g3gx6lm340000gn/T/ipykernel_74450/3455301127.py:24: UserWarning: pandas only supports SQLAlchemy connectable (engine/connection) or database string URI or sqlite3 DBAPI2 connection. Other DBAPI2 objects are not tested. Please consider using SQLAlchemy.\n",
      "  df_sub = pd.read_sql(q, self.conn)\n"
     ]
    },
    {
     "name": "stdout",
     "output_type": "stream",
     "text": [
      "4.981049792006358 15\n",
      "2.0485000891963243 15\n"
     ]
    },
    {
     "name": "stderr",
     "output_type": "stream",
     "text": [
      "/var/folders/64/nbt92b3d4_n2r41g3gx6lm340000gn/T/ipykernel_74450/3455301127.py:27: UserWarning: pandas only supports SQLAlchemy connectable (engine/connection) or database string URI or sqlite3 DBAPI2 connection. Other DBAPI2 objects are not tested. Please consider using SQLAlchemy.\n",
      "  dsubsidy_project = pd.read_sql(f'SELECT * FROM {self.join_table}', self.conn)\n"
     ]
    },
    {
     "name": "stdout",
     "output_type": "stream",
     "text": [
      "1.5836595876084634 15\n",
      "0.3353580036515372 15\n"
     ]
    },
    {
     "name": "stderr",
     "output_type": "stream",
     "text": [
      "/var/folders/64/nbt92b3d4_n2r41g3gx6lm340000gn/T/ipykernel_74450/3455301127.py:14: UserWarning: pandas only supports SQLAlchemy connectable (engine/connection) or database string URI or sqlite3 DBAPI2 connection. Other DBAPI2 objects are not tested. Please consider using SQLAlchemy.\n",
      "  df = pd.read_sql(q, self.conn)\n",
      "/var/folders/64/nbt92b3d4_n2r41g3gx6lm340000gn/T/ipykernel_74450/3455301127.py:19: UserWarning: pandas only supports SQLAlchemy connectable (engine/connection) or database string URI or sqlite3 DBAPI2 connection. Other DBAPI2 objects are not tested. Please consider using SQLAlchemy.\n",
      "  df_test = pd.read_sql('SELECT * FROM projects', self.conn)\n",
      "/Users/lebedevmatvey/Documents/Nlp_fastWin/CategoryPredictor.py:129: SettingWithCopyWarning: \n",
      "A value is trying to be set on a copy of a slice from a DataFrame.\n",
      "Try using .loc[row_indexer,col_indexer] = value instead\n",
      "\n",
      "See the caveats in the documentation: https://pandas.pydata.org/pandas-docs/stable/user_guide/indexing.html#returning-a-view-versus-a-copy\n",
      "  self.df['words'] = self.df[self.label].apply(self.text_to_words)\n"
     ]
    },
    {
     "ename": "ValueError",
     "evalue": "math domain error",
     "output_type": "error",
     "traceback": [
      "\u001b[0;31m---------------------------------------------------------------------------\u001b[0m",
      "\u001b[0;31mValueError\u001b[0m                                Traceback (most recent call last)",
      "\u001b[1;32m/Users/lebedevmatvey/Documents/Nlp_fastWin/posgres_test.ipynb Cell 8\u001b[0m in \u001b[0;36m<cell line: 2>\u001b[0;34m()\u001b[0m\n\u001b[1;32m      <a href='vscode-notebook-cell:/Users/lebedevmatvey/Documents/Nlp_fastWin/posgres_test.ipynb#X10sZmlsZQ%3D%3D?line=0'>1</a>\u001b[0m Controller \u001b[39m=\u001b[39m PredictController()\n\u001b[0;32m----> <a href='vscode-notebook-cell:/Users/lebedevmatvey/Documents/Nlp_fastWin/posgres_test.ipynb#X10sZmlsZQ%3D%3D?line=1'>2</a>\u001b[0m Controller\u001b[39m.\u001b[39;49mserver()\n",
      "\u001b[1;32m/Users/lebedevmatvey/Documents/Nlp_fastWin/posgres_test.ipynb Cell 8\u001b[0m in \u001b[0;36mPredictController.server\u001b[0;34m(self)\u001b[0m\n\u001b[1;32m     <a href='vscode-notebook-cell:/Users/lebedevmatvey/Documents/Nlp_fastWin/posgres_test.ipynb#X10sZmlsZQ%3D%3D?line=62'>63</a>\u001b[0m \u001b[39mdef\u001b[39;00m \u001b[39mserver\u001b[39m(\u001b[39mself\u001b[39m):\n\u001b[1;32m     <a href='vscode-notebook-cell:/Users/lebedevmatvey/Documents/Nlp_fastWin/posgres_test.ipynb#X10sZmlsZQ%3D%3D?line=63'>64</a>\u001b[0m     \u001b[39mwhile\u001b[39;00m \u001b[39mTrue\u001b[39;00m:\n\u001b[0;32m---> <a href='vscode-notebook-cell:/Users/lebedevmatvey/Documents/Nlp_fastWin/posgres_test.ipynb#X10sZmlsZQ%3D%3D?line=64'>65</a>\u001b[0m         \u001b[39mself\u001b[39;49m\u001b[39m.\u001b[39;49mfit_predict(categorys\u001b[39m=\u001b[39;49m\u001b[39m'\u001b[39;49m\u001b[39msubsidies\u001b[39;49m\u001b[39m'\u001b[39;49m, join_table\u001b[39m=\u001b[39;49m\u001b[39m'\u001b[39;49m\u001b[39msubsidy_project\u001b[39;49m\u001b[39m'\u001b[39;49m, category_col\u001b[39m=\u001b[39;49m\u001b[39m'\u001b[39;49m\u001b[39mtitle\u001b[39;49m\u001b[39m'\u001b[39;49m, category_id\u001b[39m=\u001b[39;49m\u001b[39m'\u001b[39;49m\u001b[39msubsidies_id\u001b[39;49m\u001b[39m'\u001b[39;49m)\n\u001b[1;32m     <a href='vscode-notebook-cell:/Users/lebedevmatvey/Documents/Nlp_fastWin/posgres_test.ipynb#X10sZmlsZQ%3D%3D?line=65'>66</a>\u001b[0m         time\u001b[39m.\u001b[39msleep(\u001b[39m1\u001b[39m)\n\u001b[1;32m     <a href='vscode-notebook-cell:/Users/lebedevmatvey/Documents/Nlp_fastWin/posgres_test.ipynb#X10sZmlsZQ%3D%3D?line=66'>67</a>\u001b[0m         \u001b[39mself\u001b[39m\u001b[39m.\u001b[39mfit_predict(categorys\u001b[39m=\u001b[39m\u001b[39m'\u001b[39m\u001b[39mtag\u001b[39m\u001b[39m'\u001b[39m, join_table\u001b[39m=\u001b[39m\u001b[39m'\u001b[39m\u001b[39mtag_project\u001b[39m\u001b[39m'\u001b[39m, category_col\u001b[39m=\u001b[39m\u001b[39m'\u001b[39m\u001b[39mtag_name\u001b[39m\u001b[39m'\u001b[39m, category_id\u001b[39m=\u001b[39m\u001b[39m'\u001b[39m\u001b[39mtag_id\u001b[39m\u001b[39m'\u001b[39m)\n",
      "\u001b[1;32m/Users/lebedevmatvey/Documents/Nlp_fastWin/posgres_test.ipynb Cell 8\u001b[0m in \u001b[0;36mPredictController.fit_predict\u001b[0;34m(self, categorys, join_table, category_col, category_id)\u001b[0m\n\u001b[1;32m     <a href='vscode-notebook-cell:/Users/lebedevmatvey/Documents/Nlp_fastWin/posgres_test.ipynb#X10sZmlsZQ%3D%3D?line=45'>46</a>\u001b[0m Predictor \u001b[39m=\u001b[39m CategoryPredictor(label\u001b[39m=\u001b[39m\u001b[39m'\u001b[39m\u001b[39mtitle\u001b[39m\u001b[39m'\u001b[39m,    \n\u001b[1;32m     <a href='vscode-notebook-cell:/Users/lebedevmatvey/Documents/Nlp_fastWin/posgres_test.ipynb#X10sZmlsZQ%3D%3D?line=46'>47</a>\u001b[0m                       category_columns\u001b[39m=\u001b[39m[\u001b[39m'\u001b[39m\u001b[39msubsidy\u001b[39m\u001b[39m'\u001b[39m], df\u001b[39m=\u001b[39mdf_train)\n\u001b[1;32m     <a href='vscode-notebook-cell:/Users/lebedevmatvey/Documents/Nlp_fastWin/posgres_test.ipynb#X10sZmlsZQ%3D%3D?line=47'>48</a>\u001b[0m Predictor\u001b[39m.\u001b[39mfit_all()\n\u001b[0;32m---> <a href='vscode-notebook-cell:/Users/lebedevmatvey/Documents/Nlp_fastWin/posgres_test.ipynb#X10sZmlsZQ%3D%3D?line=48'>49</a>\u001b[0m df_predicted \u001b[39m=\u001b[39m Predictor\u001b[39m.\u001b[39;49mpredict(labels\u001b[39m=\u001b[39;49mdf_test, category\u001b[39m=\u001b[39;49m\u001b[39m'\u001b[39;49m\u001b[39msubsidy\u001b[39;49m\u001b[39m'\u001b[39;49m)\n\u001b[1;32m     <a href='vscode-notebook-cell:/Users/lebedevmatvey/Documents/Nlp_fastWin/posgres_test.ipynb#X10sZmlsZQ%3D%3D?line=49'>50</a>\u001b[0m \u001b[39mself\u001b[39m\u001b[39m.\u001b[39mvalues \u001b[39m=\u001b[39m []\n\u001b[1;32m     <a href='vscode-notebook-cell:/Users/lebedevmatvey/Documents/Nlp_fastWin/posgres_test.ipynb#X10sZmlsZQ%3D%3D?line=50'>51</a>\u001b[0m df_predicted\u001b[39m.\u001b[39mapply(\u001b[39mself\u001b[39m\u001b[39m.\u001b[39mwrite_predictions, axis\u001b[39m=\u001b[39m\u001b[39m1\u001b[39m)\n",
      "File \u001b[0;32m~/Documents/Nlp_fastWin/CategoryPredictor.py:140\u001b[0m, in \u001b[0;36mCategoryPredictor.predict\u001b[0;34m(self, labels, category, Fast)\u001b[0m\n\u001b[1;32m    138\u001b[0m \u001b[39mself\u001b[39m\u001b[39m.\u001b[39mFast \u001b[39m=\u001b[39m Fast\n\u001b[1;32m    139\u001b[0m \u001b[39mself\u001b[39m\u001b[39m.\u001b[39mwoc \u001b[39m=\u001b[39m \u001b[39mself\u001b[39m\u001b[39m.\u001b[39mword_clouds[category]\n\u001b[0;32m--> 140\u001b[0m labels[\u001b[39m'\u001b[39m\u001b[39mpredictions\u001b[39m\u001b[39m'\u001b[39m] \u001b[39m=\u001b[39m labels[\u001b[39mself\u001b[39;49m\u001b[39m.\u001b[39;49mlabel]\u001b[39m.\u001b[39;49mapply(\u001b[39mself\u001b[39;49m\u001b[39m.\u001b[39;49mfind_categoris)\n\u001b[1;32m    141\u001b[0m \u001b[39mreturn\u001b[39;00m labels\n",
      "File \u001b[0;32m~/miniforge3/envs/p38main/lib/python3.10/site-packages/pandas/core/series.py:4774\u001b[0m, in \u001b[0;36mSeries.apply\u001b[0;34m(self, func, convert_dtype, args, **kwargs)\u001b[0m\n\u001b[1;32m   4664\u001b[0m \u001b[39mdef\u001b[39;00m \u001b[39mapply\u001b[39m(\n\u001b[1;32m   4665\u001b[0m     \u001b[39mself\u001b[39m,\n\u001b[1;32m   4666\u001b[0m     func: AggFuncType,\n\u001b[0;32m   (...)\u001b[0m\n\u001b[1;32m   4669\u001b[0m     \u001b[39m*\u001b[39m\u001b[39m*\u001b[39mkwargs,\n\u001b[1;32m   4670\u001b[0m ) \u001b[39m-\u001b[39m\u001b[39m>\u001b[39m DataFrame \u001b[39m|\u001b[39m Series:\n\u001b[1;32m   4671\u001b[0m     \u001b[39m\"\"\"\u001b[39;00m\n\u001b[1;32m   4672\u001b[0m \u001b[39m    Invoke function on values of Series.\u001b[39;00m\n\u001b[1;32m   4673\u001b[0m \n\u001b[0;32m   (...)\u001b[0m\n\u001b[1;32m   4772\u001b[0m \u001b[39m    dtype: float64\u001b[39;00m\n\u001b[1;32m   4773\u001b[0m \u001b[39m    \"\"\"\u001b[39;00m\n\u001b[0;32m-> 4774\u001b[0m     \u001b[39mreturn\u001b[39;00m SeriesApply(\u001b[39mself\u001b[39;49m, func, convert_dtype, args, kwargs)\u001b[39m.\u001b[39;49mapply()\n",
      "File \u001b[0;32m~/miniforge3/envs/p38main/lib/python3.10/site-packages/pandas/core/apply.py:1100\u001b[0m, in \u001b[0;36mSeriesApply.apply\u001b[0;34m(self)\u001b[0m\n\u001b[1;32m   1097\u001b[0m     \u001b[39mreturn\u001b[39;00m \u001b[39mself\u001b[39m\u001b[39m.\u001b[39mapply_str()\n\u001b[1;32m   1099\u001b[0m \u001b[39m# self.f is Callable\u001b[39;00m\n\u001b[0;32m-> 1100\u001b[0m \u001b[39mreturn\u001b[39;00m \u001b[39mself\u001b[39;49m\u001b[39m.\u001b[39;49mapply_standard()\n",
      "File \u001b[0;32m~/miniforge3/envs/p38main/lib/python3.10/site-packages/pandas/core/apply.py:1151\u001b[0m, in \u001b[0;36mSeriesApply.apply_standard\u001b[0;34m(self)\u001b[0m\n\u001b[1;32m   1149\u001b[0m     \u001b[39melse\u001b[39;00m:\n\u001b[1;32m   1150\u001b[0m         values \u001b[39m=\u001b[39m obj\u001b[39m.\u001b[39mastype(\u001b[39mobject\u001b[39m)\u001b[39m.\u001b[39m_values\n\u001b[0;32m-> 1151\u001b[0m         mapped \u001b[39m=\u001b[39m lib\u001b[39m.\u001b[39;49mmap_infer(\n\u001b[1;32m   1152\u001b[0m             values,\n\u001b[1;32m   1153\u001b[0m             f,\n\u001b[1;32m   1154\u001b[0m             convert\u001b[39m=\u001b[39;49m\u001b[39mself\u001b[39;49m\u001b[39m.\u001b[39;49mconvert_dtype,\n\u001b[1;32m   1155\u001b[0m         )\n\u001b[1;32m   1157\u001b[0m \u001b[39mif\u001b[39;00m \u001b[39mlen\u001b[39m(mapped) \u001b[39mand\u001b[39;00m \u001b[39misinstance\u001b[39m(mapped[\u001b[39m0\u001b[39m], ABCSeries):\n\u001b[1;32m   1158\u001b[0m     \u001b[39m# GH#43986 Need to do list(mapped) in order to get treated as nested\u001b[39;00m\n\u001b[1;32m   1159\u001b[0m     \u001b[39m#  See also GH#25959 regarding EA support\u001b[39;00m\n\u001b[1;32m   1160\u001b[0m     \u001b[39mreturn\u001b[39;00m obj\u001b[39m.\u001b[39m_constructor_expanddim(\u001b[39mlist\u001b[39m(mapped), index\u001b[39m=\u001b[39mobj\u001b[39m.\u001b[39mindex)\n",
      "File \u001b[0;32m~/miniforge3/envs/p38main/lib/python3.10/site-packages/pandas/_libs/lib.pyx:2919\u001b[0m, in \u001b[0;36mpandas._libs.lib.map_infer\u001b[0;34m()\u001b[0m\n",
      "File \u001b[0;32m~/Documents/Nlp_fastWin/CategoryPredictor.py:119\u001b[0m, in \u001b[0;36mCategoryPredictor.find_categoris\u001b[0;34m(self, text, category, K_cloud, K_clear_cloud, K_big_cloud, K_dist, K_top)\u001b[0m\n\u001b[1;32m    117\u001b[0m             score \u001b[39m+\u001b[39m\u001b[39m=\u001b[39m K_big_cloud \u001b[39m*\u001b[39m num \u001b[39m/\u001b[39m math\u001b[39m.\u001b[39mlog(\u001b[39mlen\u001b[39m(big_cloud))\n\u001b[1;32m    118\u001b[0m         \u001b[39mif\u001b[39;00m \u001b[39mself\u001b[39m\u001b[39m.\u001b[39mFast \u001b[39m==\u001b[39m \u001b[39mFalse\u001b[39;00m:\n\u001b[0;32m--> 119\u001b[0m             score \u001b[39m+\u001b[39m\u001b[39m=\u001b[39m \u001b[39mself\u001b[39m\u001b[39m.\u001b[39mcalculate_distanses(word\u001b[39m=\u001b[39mw, cloud\u001b[39m=\u001b[39mbig_cloud) \u001b[39m*\u001b[39m K_dist \u001b[39m/\u001b[39m math\u001b[39m.\u001b[39;49mlog(\u001b[39mlen\u001b[39;49m(big_cloud))\n\u001b[1;32m    121\u001b[0m     scores[c] \u001b[39m=\u001b[39m score\n\u001b[1;32m    122\u001b[0m \u001b[39mif\u001b[39;00m \u001b[39m'\u001b[39m\u001b[39m-\u001b[39m\u001b[39m'\u001b[39m \u001b[39min\u001b[39;00m scores\u001b[39m.\u001b[39mkeys():\n",
      "\u001b[0;31mValueError\u001b[0m: math domain error"
     ]
    }
   ],
   "source": [
    "Controller = PredictController()\n",
    "Controller.server()"
   ]
  },
  {
   "cell_type": "code",
   "execution_count": 86,
   "metadata": {},
   "outputs": [
    {
     "name": "stderr",
     "output_type": "stream",
     "text": [
      "/var/folders/64/nbt92b3d4_n2r41g3gx6lm340000gn/T/ipykernel_33082/2081191725.py:1: UserWarning: pandas only supports SQLAlchemy connectable (engine/connection) or database string URI or sqlite3 DBAPI2 connection. Other DBAPI2 objects are not tested. Please consider using SQLAlchemy.\n",
      "  dsubsidy_project = pd.read_sql('SELECT * FROM subsidy_project', Controller.conn)\n"
     ]
    },
    {
     "data": {
      "text/plain": [
       "2"
      ]
     },
     "execution_count": 86,
     "metadata": {},
     "output_type": "execute_result"
    }
   ],
   "source": [
    "dsubsidy_project = pd.read_sql('SELECT * FROM subsidy_project', Controller.conn)\n",
    "len(dsubsidy_project[(dsubsidy_project['project_id'] == 1) & (dsubsidy_project['subsidies_id'] == 1)])"
   ]
  },
  {
   "cell_type": "code",
   "execution_count": null,
   "metadata": {},
   "outputs": [],
   "source": [
    "Controller = PredictController()\n",
    "df_pred = Controller.fit_predict()"
   ]
  },
  {
   "cell_type": "code",
   "execution_count": 176,
   "metadata": {},
   "outputs": [
    {
     "data": {
      "text/html": [
       "<div>\n",
       "<style scoped>\n",
       "    .dataframe tbody tr th:only-of-type {\n",
       "        vertical-align: middle;\n",
       "    }\n",
       "\n",
       "    .dataframe tbody tr th {\n",
       "        vertical-align: top;\n",
       "    }\n",
       "\n",
       "    .dataframe thead th {\n",
       "        text-align: right;\n",
       "    }\n",
       "</style>\n",
       "<table border=\"1\" class=\"dataframe\">\n",
       "  <thead>\n",
       "    <tr style=\"text-align: right;\">\n",
       "      <th></th>\n",
       "      <th>id</th>\n",
       "      <th>description</th>\n",
       "      <th>is_innovation</th>\n",
       "      <th>title</th>\n",
       "      <th>predictions</th>\n",
       "    </tr>\n",
       "  </thead>\n",
       "  <tbody>\n",
       "    <tr>\n",
       "      <th>0</th>\n",
       "      <td>1</td>\n",
       "      <td>Экологический мониторинг атмосферного воздуха</td>\n",
       "      <td>False</td>\n",
       "      <td>Экологический мониторинг атмосферного воздуха</td>\n",
       "      <td>{'Лидеры инноваций': 10.918853332200625, 'Меня...</td>\n",
       "    </tr>\n",
       "    <tr>\n",
       "      <th>1</th>\n",
       "      <td>2</td>\n",
       "      <td>Перовскитные солнечные батареи для питания пор...</td>\n",
       "      <td>False</td>\n",
       "      <td>Перовскитные солнечные батареи для питания пор...</td>\n",
       "      <td>{'Меняющие реальность': 45.82386533594941, 'Ли...</td>\n",
       "    </tr>\n",
       "    <tr>\n",
       "      <th>2</th>\n",
       "      <td>3</td>\n",
       "      <td>Интерактивные прозрачные дисплеи</td>\n",
       "      <td>False</td>\n",
       "      <td>Интерактивные прозрачные дисплеи</td>\n",
       "      <td>{'Меняющие реальность': 0.0, 'Лидеры инноваций...</td>\n",
       "    </tr>\n",
       "    <tr>\n",
       "      <th>3</th>\n",
       "      <td>4</td>\n",
       "      <td>Платформа для анализа логов, UX-мониторинга и ...</td>\n",
       "      <td>True</td>\n",
       "      <td>Платформа для анализа логов, UX-мониторинга и ...</td>\n",
       "      <td>{'Лидеры инноваций': 4.981049792006358, 'Меняю...</td>\n",
       "    </tr>\n",
       "  </tbody>\n",
       "</table>\n",
       "</div>"
      ],
      "text/plain": [
       "   id                                        description  is_innovation  \\\n",
       "0   1      Экологический мониторинг атмосферного воздуха          False   \n",
       "1   2  Перовскитные солнечные батареи для питания пор...          False   \n",
       "2   3                   Интерактивные прозрачные дисплеи          False   \n",
       "3   4  Платформа для анализа логов, UX-мониторинга и ...           True   \n",
       "\n",
       "                                               title  \\\n",
       "0      Экологический мониторинг атмосферного воздуха   \n",
       "1  Перовскитные солнечные батареи для питания пор...   \n",
       "2                   Интерактивные прозрачные дисплеи   \n",
       "3  Платформа для анализа логов, UX-мониторинга и ...   \n",
       "\n",
       "                                         predictions  \n",
       "0  {'Лидеры инноваций': 10.918853332200625, 'Меня...  \n",
       "1  {'Меняющие реальность': 45.82386533594941, 'Ли...  \n",
       "2  {'Меняющие реальность': 0.0, 'Лидеры инноваций...  \n",
       "3  {'Лидеры инноваций': 4.981049792006358, 'Меняю...  "
      ]
     },
     "execution_count": 176,
     "metadata": {},
     "output_type": "execute_result"
    }
   ],
   "source": [
    "df_pred"
   ]
  },
  {
   "cell_type": "code",
   "execution_count": 50,
   "metadata": {},
   "outputs": [
    {
     "name": "stderr",
     "output_type": "stream",
     "text": [
      "/var/folders/64/nbt92b3d4_n2r41g3gx6lm340000gn/T/ipykernel_33082/360825806.py:2: UserWarning: pandas only supports SQLAlchemy connectable (engine/connection) or database string URI or sqlite3 DBAPI2 connection. Other DBAPI2 objects are not tested. Please consider using SQLAlchemy.\n",
      "  df_sub = pd.read_sql(q, conn)\n"
     ]
    },
    {
     "data": {
      "text/html": [
       "<div>\n",
       "<style scoped>\n",
       "    .dataframe tbody tr th:only-of-type {\n",
       "        vertical-align: middle;\n",
       "    }\n",
       "\n",
       "    .dataframe tbody tr th {\n",
       "        vertical-align: top;\n",
       "    }\n",
       "\n",
       "    .dataframe thead th {\n",
       "        text-align: right;\n",
       "    }\n",
       "</style>\n",
       "<table border=\"1\" class=\"dataframe\">\n",
       "  <thead>\n",
       "    <tr style=\"text-align: right;\">\n",
       "      <th></th>\n",
       "      <th>id</th>\n",
       "      <th>count</th>\n",
       "      <th>title</th>\n",
       "    </tr>\n",
       "  </thead>\n",
       "  <tbody>\n",
       "  </tbody>\n",
       "</table>\n",
       "</div>"
      ],
      "text/plain": [
       "Empty DataFrame\n",
       "Columns: [id, count, title]\n",
       "Index: []"
      ]
     },
     "execution_count": 50,
     "metadata": {},
     "output_type": "execute_result"
    }
   ],
   "source": [
    "q = '''SELECT * FROM subsidies'''\n",
    "df_sub = pd.read_sql(q, conn)\n",
    "df_sub[df_sub['title'] == 'Меняющие реальность']"
   ]
  },
  {
   "cell_type": "code",
   "execution_count": 53,
   "metadata": {},
   "outputs": [
    {
     "data": {
      "text/html": [
       "<div>\n",
       "<style scoped>\n",
       "    .dataframe tbody tr th:only-of-type {\n",
       "        vertical-align: middle;\n",
       "    }\n",
       "\n",
       "    .dataframe tbody tr th {\n",
       "        vertical-align: top;\n",
       "    }\n",
       "\n",
       "    .dataframe thead th {\n",
       "        text-align: right;\n",
       "    }\n",
       "</style>\n",
       "<table border=\"1\" class=\"dataframe\">\n",
       "  <thead>\n",
       "    <tr style=\"text-align: right;\">\n",
       "      <th></th>\n",
       "      <th>id</th>\n",
       "      <th>count</th>\n",
       "      <th>title</th>\n",
       "    </tr>\n",
       "  </thead>\n",
       "  <tbody>\n",
       "    <tr>\n",
       "      <th>0</th>\n",
       "      <td>1</td>\n",
       "      <td>0</td>\n",
       "      <td>Лидеры иноваций</td>\n",
       "    </tr>\n",
       "    <tr>\n",
       "      <th>1</th>\n",
       "      <td>2</td>\n",
       "      <td>0</td>\n",
       "      <td>Меняющие реальность</td>\n",
       "    </tr>\n",
       "  </tbody>\n",
       "</table>\n",
       "</div>"
      ],
      "text/plain": [
       "   id  count                title\n",
       "0   1      0      Лидеры иноваций\n",
       "1   2      0  Меняющие реальность"
      ]
     },
     "execution_count": 53,
     "metadata": {},
     "output_type": "execute_result"
    }
   ],
   "source": [
    "df_sub"
   ]
  },
  {
   "cell_type": "code",
   "execution_count": 60,
   "metadata": {},
   "outputs": [
    {
     "data": {
      "text/plain": [
       "2"
      ]
     },
     "execution_count": 60,
     "metadata": {},
     "output_type": "execute_result"
    }
   ],
   "source": [
    "title_index = df_sub[df_sub['title'] == 'Меняющие реальность']['id'].iloc[0]"
   ]
  },
  {
   "cell_type": "code",
   "execution_count": null,
   "metadata": {},
   "outputs": [],
   "source": [
    "class PredictController:\n",
    "    def connect_db(self):\n",
    "        self.conn = psycopg2.connect(dbname='ideas', user='ideas', \n",
    "                        password='ideas2022', host='collabro.ru')\n",
    "        self.cursor = conn.cursor()\n",
    "\n",
    "    def get_data_db(self):\n",
    "        q = f'''SELECT subsidies.title AS subsidy, projects.title, subsidies.id,\n",
    "                     subsidy_project.accepted FROM subsidy_project\n",
    "                    LEFT JOIN subsidies ON (subsidy_project.subsidies_id = subsidies.id)\n",
    "                    LEFT JOIN projects ON (subsidy_project.project_id = projects.id);'''\n",
    "        df = pd.read_sql(q, self.conn)\n",
    "        self.len_sub_project = len(df)\n",
    "\n",
    "        df_train = df[df['accepted'] == True]\n",
    "\n",
    "        df_test = pd.read_sql('SELECT * FROM projects', self.conn)\n",
    "        return df_train, df_test\n",
    "        \n",
    "    def write_predictions(self, row):\n",
    "        q = '''SELECT * FROM subsidies'''\n",
    "        df_sub = pd.read_sql(q, self.conn)\n",
    "        project_id = row['id']\n",
    "        predictions = row['predictions']\n",
    "        dsubsidy_project = pd.read_sql('SELECT * FROM subsidy_project', self.conn)\n",
    "        for subsidy in predictions:\n",
    "            subsidy_id = df_sub[df_sub['title'] == subsidy]['id'].iloc[0]\n",
    "            prob = predictions[subsidy]\n",
    "            print(prob, self.len_sub_project)\n",
    "            if len(dsubsidy_project[(dsubsidy_project['project_id'] == project_id) & (dsubsidy_project['subsidies_id'] == subsidy_id)]) == 0:\n",
    "                \n",
    "                self.values.append((int(self.len_sub_project + 1), False, float(prob), int(project_id), int(subsidy_id)))\n",
    "                self.len_sub_project += 1\n",
    "            \n",
    "            self.conn.commit()\n",
    "\n",
    "    def fit_predict(self, categorys='subsidies', join_table='subsidy_project', category_col='title', category_id='subsidies_id'):\n",
    "        self.categorys = categorys\n",
    "        self.join_table=join_table\n",
    "        self.category_col=category_col\n",
    "        self.category_id=category_id\n",
    "        self.connect_db()\n",
    "        df_train, df_test = self.get_data_db()\n",
    "        Predictor = CategoryPredictor(label='title',\n",
    "                              category_columns=['subsidy'], df=df_train)\n",
    "        Predictor.fit_all()\n",
    "        df_predicted = Predictor.predict(labels=df_test, category='subsidy')\n",
    "        self.values = []\n",
    "        df_predicted.apply(self.write_predictions, axis=1)\n",
    "\n",
    "        if self.values != []:\n",
    "            q = '''INSERT INTO subsidy_project (id, accepted, probability, project_id, subsidies_id) VALUES {}'''\n",
    "            records_list_template = ','.join(['%s'] * len(self.values))\n",
    "            insert_query = q.format(records_list_template)\n",
    "            cursor = self.conn.cursor()\n",
    "            cursor.execute(insert_query, self.values)\n",
    "            self.conn.commit()\n",
    "        self.conn.close()\n",
    "        return df_predicted\n",
    "\n",
    "    def server(self):\n",
    "        while True:\n",
    "            self.fit_predict()\n",
    "            time.sleep(10)"
   ]
  }
 ],
 "metadata": {
  "kernelspec": {
   "display_name": "Python 3.8.10 64-bit",
   "language": "python",
   "name": "python3"
  },
  "language_info": {
   "codemirror_mode": {
    "name": "ipython",
    "version": 3
   },
   "file_extension": ".py",
   "mimetype": "text/x-python",
   "name": "python",
   "nbconvert_exporter": "python",
   "pygments_lexer": "ipython3",
   "version": "3.8.10"
  },
  "orig_nbformat": 4,
  "vscode": {
   "interpreter": {
    "hash": "31f2aee4e71d21fbe5cf8b01ff0e069b9275f58929596ceb00d14d90e3e16cd6"
   }
  }
 },
 "nbformat": 4,
 "nbformat_minor": 2
}
